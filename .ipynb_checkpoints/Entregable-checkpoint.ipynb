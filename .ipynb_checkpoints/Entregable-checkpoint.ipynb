{
 "cells": [
  {
   "cell_type": "markdown",
   "id": "3559fead",
   "metadata": {},
   "source": [
    "# Competencia 2 NLP : Reconocimiento de entidades (NER) en Español\n",
    "\n",
    "**Integrantes:** Alexander Cuevas - Jorge Gutiérrez - Benjamín Mellado - Felipe Urrutia\n",
    "\n",
    "**Usuario del equipo en CodaLab:** *teamGalactico 🌌*\n",
    "\n",
    "**Fecha límite de entrega 📆:** 24 de Junio a las 23:59 hrs.\n",
    "\n",
    "**Tiempo estimado de dedicación:** En curso... ⏲️\n",
    "\n",
    "**Link competencia:** [CC6205 Assignment 2 - Named Entity Recognition (NER) in Spanish](https://codalab.lisn.upsaclay.fr/competitions/5098?secret_key=09955d45-6210-4a35-a171-8050aa050855#learn_the_details)\n"
   ]
  },
  {
   "cell_type": "markdown",
   "id": "2842ee35",
   "metadata": {},
   "source": [
    "## Introducción 🏷️\n"
   ]
  },
  {
   "cell_type": "markdown",
   "id": "0a2812ce",
   "metadata": {},
   "source": [
    "## Modelos 🤖"
   ]
  },
  {
   "cell_type": "markdown",
   "id": "372b0939",
   "metadata": {},
   "source": [
    "## Métricas de evaluación 📊"
   ]
  },
  {
   "cell_type": "markdown",
   "id": "0b571663",
   "metadata": {},
   "source": [
    "## Diseño experimental ✏️"
   ]
  },
  {
   "cell_type": "markdown",
   "id": "9fa3f9b5",
   "metadata": {},
   "source": [
    "## Experimentos 🧪"
   ]
  },
  {
   "cell_type": "markdown",
   "id": "d1867bf5",
   "metadata": {},
   "source": [
    "## Conclusiones 💡"
   ]
  }
 ],
 "metadata": {
  "kernelspec": {
   "display_name": "Python 3 (ipykernel)",
   "language": "python",
   "name": "python3"
  },
  "language_info": {
   "codemirror_mode": {
    "name": "ipython",
    "version": 3
   },
   "file_extension": ".py",
   "mimetype": "text/x-python",
   "name": "python",
   "nbconvert_exporter": "python",
   "pygments_lexer": "ipython3",
   "version": "3.8.5"
  }
 },
 "nbformat": 4,
 "nbformat_minor": 5
}
