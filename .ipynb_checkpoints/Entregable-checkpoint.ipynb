{
 "cells": [
  {
   "cell_type": "markdown",
   "id": "3559fead",
   "metadata": {},
   "source": [
    "# Competencia 2 NLP : Reconocimiento de entidades (NER) en Español\n",
    "\n",
    "**Integrantes:** Alexander Cuevas - Jorge Gutiérrez - Benjamín Mellado - Felipe Urrutia\n",
    "\n",
    "**Usuario del equipo en CodaLab:** *teamGalactico 🌌*\n",
    "\n",
    "**Fecha límite de entrega 📆:** 24 de Junio a las 23:59 hrs.\n",
    "\n",
    "**Tiempo estimado de dedicación:** En curso... ⏲️\n",
    "\n",
    "**Link competencia:** [CC6205 Assignment 2 - Named Entity Recognition (NER) in Spanish](https://codalab.lisn.upsaclay.fr/competitions/5098?secret_key=09955d45-6210-4a35-a171-8050aa050855#learn_the_details)\n"
   ]
  },
  {
   "cell_type": "markdown",
   "id": "2842ee35",
   "metadata": {},
   "source": [
    "## Introducción 🏷️\n",
    "\n",
    "**REQUIREMENTS: Presentar brevemente el contexto, problema a resolver, incluyendo la formalización de la task (cómo son los inputs y outputs del problema) y los desafíos que ven al analizar el corpus entregado. (0.5 puntos)**\n",
    "\n",
    "En este trabajo utilizaremos el Corpus de Listas de Espera propuesto por [1]. Este corpus esta constituido por derivaciones de diversas consultas de la lista de espera de los hospitales públicos chilenos. Por su naturaleza, cada una de estas derivaciones es un dato no-estructurado escrito en lenguage natural. Entre los resultados principales de [1] esta otorga un Corpus anotado usando texto clinico en español.\n",
    "\n",
    "La tarea principal propuesta por [1] es un reconocimiento de entidades nombradas. Tambien conocida como NER, por sus siglas en ingles. Dicha tarea es una de las mas populares en NLP. La cual consiste en identificar automaticamente piezas esenciales de informacion (entidades) en un texto. Tradicionalmente, la categoria de entidades a identificar eran nombres de personas, lugares y organizaciones. Actualmente, los tipos de categorias se han expandido a diversos dominios del conocimiento. En este trabajo, las entidades que estudiaremos viven en el contexto de texto clinico. \n",
    "\n",
    "[1] utiliza el esquema Unified Medical Language System (UMLS) para las categorias de entidades. Originalmente, [1] genera un Corpus con siete tipos de entidades: \n",
    "\n",
    "    1. Finding, \n",
    "    2. Procedure, \n",
    "    3. Family Member, \n",
    "    4. Disease, \n",
    "    5. Body Part, \n",
    "    6. Medication y \n",
    "    7. Abbreviation. \n",
    "    \n",
    "Sin embargo, en este trabajo solo estudiaremos cinco de ellas. Todas excepto 1. y 7. Las anotaciones siguen el esquema IOB2, estandar en NER. Esquema definido como sigue: \n",
    "\n",
    ">Consiste en identificar cada token con una etiqueta que indica si pertenece o no a una entidad. Si un token **no** es parte de una entidad, se indican con $\\texttt{O}$ (por la inicial en Ingles de *Fuera*). Sino, este necesariamente es un token de una entidad. Para indicar si el token es el inicio de una entidad, se utiliza el prefijo $\\texttt{B-}$ (por la inicial en Ingles de *Comienzo*). En cambio, si el token es la continuacion de una entidad, se utiliza el prefijo $\\texttt{I-}$ (por la inicial en Ingles de *Dentro*). Un ejemplo de este esquema, es el siguiente: \\begin{align*}\n",
    "&\\texttt{PRESENTA}& &\\texttt{FRACTURA}& &\\texttt{CORONARIA}& &\\texttt{COMPLICADA}& &\\texttt{EN}& &\\quad\\text{(Texto)}\\\\\n",
    "&\\texttt{O}& &\\texttt{B-Disease}& &\\texttt{I-Disease}& &\\texttt{I-Disease}& &\\texttt{O}& &\\quad\\text{(IOB2)}\n",
    "\\end{align*}\n",
    "\n",
    "Tal como se puede observar del ejemplo anterior, el esquema de anotamiento IOB2, para la tarea de NER, no es mas que un problema de Sequence-Labeling. Tipo de problema que hemos estudiado durante las ultimas unidades del curso. Entre los modelos estudiados estan HMM, CRF, MEMMS, CNN y RNN. En este trabajo, nos focalizaremos en solo modelos neuronales dentro de la familia de las Redes Neuronales Recurrentes (RNN, por sus siglas en Ingles).\n",
    "\n",
    "Ahora bien, los datos entregado vienen en un forma estandar para la tarea de NER, denominado ConLL. Este consiste en un archivo de texto con dos columnas y saltos de linea que separan cada secuencia. La primera columna, contiene los tokens de la secuencia. Mientras que la segunda columna, contiene las etiquetas IOB2 asociadas a cada token. \n",
    "\n",
    "Por otro lado, los datos vienen previamente separados en conjuntos de Entrenamiento, Desarrollo y Prueba. Cada conjunto tiene tamaños X, Y y Z, resp. Ademas, la proporcion de etiquetas IOB2 son mayoritariamente O.  \n",
    "\n",
    "<!-- los datos->formato->split->indicadores simples->dificultades (desbalance) -->\n",
    "\n",
    "\n",
    "**Referencias**\n",
    "\n",
    "[1] Báez, P., Villena, F., Rojas, M., Durán, M., & Dunstan, J. (2020, November). The Chilean Waiting List Corpus: a new resource for clinical named entity recognition in Spanish. In Proceedings of the 3rd clinical natural language processing workshop (pp. 291-300). https://aclanthology.org/2020.clinicalnlp-1.32/"
   ]
  },
  {
   "cell_type": "markdown",
   "id": "0a2812ce",
   "metadata": {},
   "source": [
    "## Modelos 🤖\n",
    "\n",
    "**REQUIREMENTS: Describir brevemente los modelos, métodos e hiperparámetros utilizados. (1.0 puntos)**"
   ]
  },
  {
   "cell_type": "markdown",
   "id": "372b0939",
   "metadata": {},
   "source": [
    "## Métricas de evaluación 📊\n",
    "\n",
    "**REQUIREMENTS: Describir las métricas utilizadas en la evaluación indicando qué miden y cuál es su interpretación en este problema en particular. (0.5 puntos)**\n",
    "\n",
    "Métrica estricta:\n",
    "\n",
    "Precision:\n",
    "\n",
    "Recall:\n",
    "\n",
    "Micro F1 score: Recuerde hacer la distinción entre lo que sería una métrica de micro f1-score vs macro f1-score.\n",
    "\n"
   ]
  },
  {
   "cell_type": "markdown",
   "id": "0b571663",
   "metadata": {},
   "source": [
    "## Diseño experimental ✏️\n",
    "\n",
    "**REQUIREMENTS: Esta es una de las secciones más importantes del reporte. Deben describir minuciosamente los experimentos que realizarán en la siguiente sección. Describir las variables de control que manejarán, algunos ejemplos pueden ser: Los hiperparámetros de los modelos, tipo de embeddings utilizados, tipos de arquitecturas. Ser claros con el conjunto de hiperparámetros que probarán, la decisión en las funciones de optimización, función de pérdida, regulación, etc. Básicamente explicar qué es lo que veremos en la siguiente sección. (1 punto)**"
   ]
  },
  {
   "cell_type": "markdown",
   "id": "9fa3f9b5",
   "metadata": {},
   "source": [
    "## Experimentos 🧪\n",
    "\n",
    "**REQUIREMENTS: Reportar todos sus experimentos y código en esta sección. Comparar los resultados obtenidos utilizando diferentes modelos. ¡Es vital haber realizado varios experimentos para sacar una buena nota! (2.0 puntos)**"
   ]
  },
  {
   "cell_type": "markdown",
   "id": "d1867bf5",
   "metadata": {},
   "source": [
    "## Conclusiones 💡\n",
    "\n",
    "**REQUIREMENTS: Discutir resultados, proponer trabajo futuro. (1 punto)**"
   ]
  }
 ],
 "metadata": {
  "kernelspec": {
   "display_name": "Python 3 (ipykernel)",
   "language": "python",
   "name": "python3"
  },
  "language_info": {
   "codemirror_mode": {
    "name": "ipython",
    "version": 3
   },
   "file_extension": ".py",
   "mimetype": "text/x-python",
   "name": "python",
   "nbconvert_exporter": "python",
   "pygments_lexer": "ipython3",
   "version": "3.8.5"
  }
 },
 "nbformat": 4,
 "nbformat_minor": 5
}
