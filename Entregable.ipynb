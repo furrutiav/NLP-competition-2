{
 "cells": [
  {
   "cell_type": "markdown",
   "id": "3559fead",
   "metadata": {
    "pycharm": {
     "name": "#%% md\n"
    }
   },
   "source": [
    "# Competencia 2 NLP : Reconocimiento de entidades (NER) en Español\n",
    "\n",
    "**Integrantes:** Alexander Cuevas - Jorge Gutiérrez - Benjamín Mellado - Felipe Urrutia\n",
    "\n",
    "**Usuario del equipo en CodaLab:** *teamGalactico 🌌*\n",
    "\n",
    "**Fecha límite de entrega 📆:** 29 de Junio a las 23:59 hrs.\n",
    "\n",
    "**Tiempo estimado de dedicación:** En curso... ⏲️\n",
    "\n",
    "**Link competencia:** [CC6205 Assignment 2 - Named Entity Recognition (NER) in Spanish](https://codalab.lisn.upsaclay.fr/competitions/5098?secret_key=09955d45-6210-4a35-a171-8050aa050855#learn_the_details)\n"
   ]
  },
  {
   "cell_type": "markdown",
   "id": "2842ee35",
   "metadata": {
    "pycharm": {
     "name": "#%% md\n"
    }
   },
   "source": [
    "## Introducción 🏷️\n",
    "\n",
    "**REQUIREMENTS: Presentar brevemente el contexto, problema a resolver, incluyendo la formalización de la task (cómo son los inputs y outputs del problema) y los desafíos que ven al analizar el corpus entregado. (0.5 puntos)**\n",
    "\n",
    "El análisis de documentos clínicos es una labor que permite identificar enfermedades, procedimientos, medicamentos, y partes del cuerpo, entre otras entidades relevantes. Además, se puede usar para determinar las relaciones entre cada una de estas. Con estos datos es posible elaborar estadísticas para una población y sus individuos. En particular, se pueden determinar factores de riesgo, priorizar pacientes de acuerdo a sus necesidades, establecer casos solucionables sin intervención presencial, conocer antecedentes familiares, saber cuantas personas sufren más de una enfermedad, cuantas consumen más de un medicamento, etc.\n",
    "\n",
    "En Chile, el sistema público de salud cubre al 75% de la población. Bajo este sistema, las visitas a especialistas, que requieren la remisión de un médico general, son manejadas a través de una lista de espera dividida para casos GES y NO GES. En 2017, hubo 1.661.826 personas esperando una cita con un especialista, con un promedio de espera por sobre los 400 días. Por este motivo, se hace necesario desarrollar sistemas automatizados que analicen la lista NO GES, para mejorar el manejo de pacientes. En particular, existe una falta de trabajos realizados en el área de NER en Español y aún más en el contexto clínico.\n",
    "\n",
    "Bajo tal contexto, en este trabajo utilizaremos el Corpus de Listas de Espera propuesto por [1]. Este corpus está constituido por derivaciones de diversas consultas de la lista de espera NO GES de los hospitales públicos chilenos. Por su naturaleza, cada una de estas derivaciones es un dato no-estructurado escrito en lenguaje natural. Entre los resultados principales de [1] está otorgar un Corpus anotado usando texto clínico en español.\n",
    "\n",
    "La tarea principal propuesta por [1] es un reconocimiento de entidades nombradas. También conocida como NER, por sus siglas en ingles. Dicha tarea es una de las más populares en NLP. La cual consiste en identificar automáticamente piezas esenciales de information (entidades) en el texto. Tradicionalmente, la categoría de entidades a identificar eran nombres de personas, lugares y organizaciones. Actualmente, los tipos de categorías se han expandido a diversos dominios del conocimiento. En este trabajo, las entidades que estudiaremos viven en el contexto de texto clínico.\n",
    "\n",
    "[1] utiliza el esquema Unified Medical Language System (UMLS) para las categorías de entidades. Originalmente, [1] genera un Corpus con siete tipos de entidades:\n",
    "\n",
    "    (1) Finding, (2) Procedure, (3) Family Member, (4) Disease, (5) Body Part, (6) Medication y (7) Abbreviation. \n",
    "    \n",
    "Sin embargo, en este trabajo solo estudiaremos cinco de ellas. Todas excepto (1) y (7). Las anotaciones siguen el esquema IOB2, estandar en NER. Esquema definido como sigue: \n",
    "\n",
    ">*Esquema IOB2*. Consiste en identificar cada token con una etiqueta que indica si pertenece o no a una entidad. Si un token **no** es parte de una entidad, se indican con $\\texttt{O}$ (por la inicial en Ingles de *Fuera*). Sino, este necesariamente es un token de una entidad. Para indicar si el token es el inicio de una entidad, se utiliza el prefijo $\\texttt{B-}$ (por la inicial en Ingles de *Comienzo*). En cambio, si el token es la continuacion de una entidad, se utiliza el prefijo $\\texttt{I-}$ (por la inicial en Ingles de *Dentro*). Un ejemplo de este esquema, es el siguiente: \n",
    "\n",
    "\\begin{align*}\n",
    "&\\texttt{PRESENTA}& &\\texttt{FRACTURA}& &\\texttt{CORONARIA}& &\\texttt{COMPLICADA}& &\\texttt{EN}& &\\quad\\text{(Texto)}\\\\\n",
    "&\\texttt{O}& &\\texttt{B-Disease}& &\\texttt{I-Disease}& &\\texttt{I-Disease}& &\\texttt{O}& &\\quad\\text{(IOB2)}\n",
    "\\end{align*}\n",
    "\n",
    "Tal como se puede observar del ejemplo anterior, si se sigue el esquema de anotamiento IOB2 para la tarea de NER, el problema de reconocimiento de entidades nombradas se transforma en un problema de Sequence-Labeling. Tipo de problema que hemos discutido durante las últimas unidades del curso. Entre los modelos estudiados estan HMM, CRF, MEMMS, CNN y RNN. En este trabajo, nos focalizaremos en solo modelos neuronales dentro de la familia de las Redes Neuronales Recurrentes (RNN, por sus siglas en Ingles).\n",
    "\n",
    "Ahora bien, el conjunto de datos vienen entregados en una forma estándar para la tarea de NER, denominado ConLL. Este consiste en un archivo de texto con dos columnas y saltos de línea que separan cada secuencia. La primera columna contiene los tokens de la secuencia. Mientras que la segunda columna, contiene las etiquetas IOB2 asociadas a cada token de la secuencia. Por otro lado, los datos vienen previamente separados en conjuntos de Entrenamiento, Desarrollo y Prueba. Estos conjuntos tienen tamaños X, Y y Z, resp. Se espera que el output siga el mismo formato, y resulte de modificar el conjunto de Prueba que contiene tokens con todas las entidades inicializadas en $\\texttt{O}$.\n",
    "\n",
    "Además, la proporción de etiquetas IOB2 son mayoritariamente $\\texttt{O}$. Con una proporción total de A, B y C, en cada conjunto resp. El segundo tipo de etiqueta IOB2 más frecuente es D, con proporciones E, F y G. Mientras que la etiqueta IOB2 menos frecuente es H, con proporciones I, J, K. Esta diferencia considerable de proporciones de las etiquetas, se denomina desbalance de datos.\n",
    "\n",
    "Entre las dificultades encontradas para esta tarea están: (1) Desbalance de etiquetas IOB2, (2) [alguna otra encontrada del análisis exploratorio de datos] y (3) NER en contexto de texto clínico. Consideramos que dichas dificultades son desafiantes de resolver. Es por esto que es de nuestro interés lograr resolver satisfactoriamente esta tarea. En las secciones que siguen se encuentra detalladamente nuestra solución.\n",
    "\n",
    "**Referencias**\n",
    "\n",
    "[1] Báez, P., Villena, F., Rojas, M., Durán, M., & Dunstan, J. (2020, November). The Chilean Waiting List Corpus: a new resource for clinical named entity recognition in Spanish. In Proceedings of the 3rd clinical natural language processing workshop (pp. 291-300). https://aclanthology.org/2020.clinicalnlp-1.32/"
   ]
  },
  {
   "cell_type": "markdown",
   "id": "0a2812ce",
   "metadata": {
    "pycharm": {
     "name": "#%% md\n"
    }
   },
   "source": [
    "## Modelos 🤖\n",
    "**REQUIREMENTS: Describir brevemente los modelos, métodos e hiperparámetros utilizados. (1.0 puntos)**\n",
    "\n",
    "### Baseline\n",
    "\n",
    "El primer modelo probado fue el entregado como baseline para la competencia. Este consiste en una red neuronal no bidireccional con capa de embedding, tres capas LSTM, y una capa de salida. Utiliza dropout en el entrenamiento. Como hiperparámetros, se fija la dimensión de los embeddings a 200, y la de las tres capas ocultas a 128. Además, la cantidad de épocas de entrenamiento se fija en 10. Finalmente, se define la función de pérdida como la entropía cruzada entre el input y los datos objetivo.\n",
    "\n",
    "### Sin stopwords\n",
    "\n",
    "Los *stopwords* son tipos de palabras que destacan por abundar en un corpus. Alguna de estas palabras son: si, ya, el, que, por. En otras tareas (distintas de NER), eliminar este tipo de palabras suele ayudar a obtener mejores desempeños. Incluso, NER en contextos distinto al de nuestro caso de estudio, sirve para mejorar las metricas. Sin embargo, es un procesamiento de los datos que no es seguro que siempre tenga un resultado positivo. Aun mas, pese a que existan resultados positivos de la eliminacion de stopwords, los resultados son altamente dependientes de la tarea y el conjunto de datos utilizados. Por esta razon, realizaremos una exploracion entrenando modelos **con** y **sin** stopwords, para responder la siguiente pregunta, ¿Importan o no los stopwords para la deteccion de entidades nombradas en las lista NO GES en español? \n",
    "\n",
    "Para responder a esta pregunta, proponemos la siguiente propuesta metodologica:\n",
    "\n",
    "* *Modelo de referencia*. Misma arquitectura que el modelo baseline descrita en la subseccion anterior. Tanto en entrenamiento (train) como desarrollo (dev) se dejan intactos a los stopwords.\n",
    "\n",
    "* *Modelo masked*. Igual al modelo de referencia, exceptuando por un preprocesamiento de stopwords. El preprocesamiento consiste en lo siguiente: Para cada palabra de una frase en train y dev se verifica si es un stopword o no; En caso de serlo, se reemplaza la palabra por el token $\\texttt{<stopword>}$; Sino, se deja intacta. De esta manera, ocurren dos cosas: (1) todos los stopwords queda con un token especial y (2) la frase no cambia de largo.\n",
    "\n",
    "* *Modelo without*. Igual al modelo de referencia, exceptuando por un preprocesamiento de stopwords. El preprocesamiento consiste en lo siguiente: Para cada palabra de una frase en train se verifica si es un stopword o no; En caso de serlo, se elimina la palabra junto a su etiqueta; Sino, se deja intacta. De esta manera, ocurren tres cosas: (1) no hay stopwords en train, entonces (2) las frases cambian de largo y (3) las palabras que si son stopwords en dev quedan con el token especial $\\texttt{<UNK>}$.\n",
    "\n",
    "En resumen, el *Modelo de referencia* es uno **con** stopwords. Mientras que *Modelo masked* y *Modelo without* son modelos **sin** stopwords.\n",
    "\n",
    "La libreria [spaCy](https://spacy.io/) ha sido ampliamente utilizada en varias tareas en NLP, incluso dando buenos resultados en el procesamiento de texto español. Sin otro motivo mas que ese, hemos utilizado su tokenizador en español para detectar si un token es o no un stopword. Por simplicidad del analisis, dejaremos al margen otros metodos de detectar los stopwords, p.ej., con NLTK en español.\n",
    "\n",
    "### GRU con GridSearch\n",
    "\n",
    "Las unidades basicas de una red recurrente son la unidades de recurrencia. Las redes recurrentes mas sencillas son las de tipo Elman. Este tipo de redes padecen del problema del desvanecimiento del gradiente. Unidades de recurrencia que intentar resolver este problema son, p.ej. las Long short-term memory (o LSTM por sus siglas) y las Gater recurrent unit (o GRU por sus siglas). Algunos resultados indican que las GRU pueden mejorar a las LSTM en diversas tareas cuando el numero de datos no es demasiado grande, ya que las primeras utilizan menos parametros. Ahora bien, en nuestro caso el modelo baseline utiliza una LSTM. Siguiendo las recomendaciones, estudiaremos una GRU con la intencion de lograr mejorar el desempeño obtenido con el modelo baseline (LSTM). Para esto, se realiza una busqueda de hiperparametros con el metodo de GridSearch. Los hiperparametros estudiados son:\n",
    "\n",
    "1. *Dimension de la capa embedding*.  Numero entero positivo, con la dimension de las representaciones vectoriales aprendibles (o embeddings), para cada token en la secuencia de input.\n",
    "2. *Dimension de las capas de la GRU*. Numero entero positivo, con la dimension de la capa posterior a la de embedding y correspondiente a la GRU.\n",
    "3. *Numero de capas GRU*. Numero entero positivo, que indica la cantidad de capa GRU apiladas.\n",
    "4. *Probabilidad de dropout*. Valor entre 0 y 1, que representa la probabilidad omitir \"neuronas\" durante el entrenamiento. Metodo que permite evitar un overfitting temprano.\n",
    "5. *Bidireccionalidad*. Elegir, o no, una copia de la GRU pero independiente (tambien aprendible) que se dirige en sentido contrario a la primera capa de recurrencia, i.e., de atras hacia adelante.\n",
    "\n",
    "### Con embeddings clínicos del lenguaje español\n",
    "\n",
    "### Con embeddings generales del lenguaje español\n",
    "En adición a los embeddings clínicos, se realizaron pruebas con embeddings generales del lenguaje español, en particular, cinco conjuntos de embeddings disponibles en la página [Spanish Word Embeddings](https://github.com/dccuchile/spanish-word-embeddings) (consultado el 11 de junio de 2022). Estos provienen de tres corpus de origen: Spanish Unannotated Corpora (SUC), Spanish Billion Word Corpus (SWBC), y Spanish Wikipedia. Y fueron procesados usando tres algoritmos: FastText, Glove, y Word2Vec.\n",
    "\n",
    "Para cada conjunto anterior se creó un modelo usando el baseline como base. Para todos estos se cambió el hiperparámetro de dimensión de embeddings a 300, y se mantuvo el resto igual a lo reportado anteriormente. Además, se modificó la capa de embeddings según correspondiera para utilizar los embeddings de la página en formato .vec.\n",
    "\n",
    "#### Baseline mejorado\n",
    "Luego de probar los embeddings generales, se procedió a ajustar los parámetros del modelo baseline. En particular, se ajustó la dimensión de entrada del embedding usado, para que corresponda al que dio mejor resultado: Glove aplicado a SWBC (855380).\n",
    "\n",
    "Adicionalmente, se usaron capas LSTM de 256 dimensiones. Dropout igual a 0.5, y con bidireccionalidad. Para la predicción, se entrenó el modelo 3 veces.\n",
    "\n",
    "### Con datos balanceados"
   ]
  },
  {
   "cell_type": "markdown",
   "id": "372b0939",
   "metadata": {
    "pycharm": {
     "name": "#%% md\n"
    }
   },
   "source": [
    "## Métricas de evaluación 📊\n",
    "\n",
    "**REQUIREMENTS: Describir las métricas utilizadas en la evaluación indicando qué miden y cuál es su interpretación en este problema en particular. (0.5 puntos)**\n",
    "\n",
    "\n",
    "En un problema de Sequence-labeling, la variable predicha por un modelo predictivo es un vector de etiquetas, donde cada etiqueta está asociada a un token en la secuencia del input. Una metrica usual para medir el desempeño de un modelo de este tipo determina TP, TN, FP y FN con cada etiqueta independientemente. Sin embargo, en la tarea de NER, el objetivo es reconocer entidades nombradas en el texto. Siendo las entidades, las predicciones importantes del modelo y no las etiquetas individuales en formato IOB2. Esto porque en el contexto clínico, varias condiciones y medicamentos tienen asociados una serie de adjetivos, biológicos y químicos, que afectan su significado e intensidad. Por su parte, los detalles de un paciente, y la especificación de partes del cuerpo son similarmente relevantes. Por esto, una metrica usual no cuantifica el desempeño del modelo para el problema original. Para ser más preciso, existen dos motivos, (1) las etiquetas importantes son aquellas asociadas a las entidades y (2) el modelo debe de reconocer exactamente tanto la ubicación de la entidad como el tipo de entidad. Una metrica que si logra estas dos cosas, se denomina **metrica estricta**.\n",
    "\n",
    "<!-- \\begin{align*}\n",
    "&\\texttt{PRESENTA}& &\\texttt{FRACTURA}& &\\texttt{CORONARIA}& &\\texttt{COMPLICADA}& &\\texttt{EN}& &\\quad\\text{(Texto)}\\\\\n",
    "&\\texttt{O}& &\\texttt{B-Disease}& &\\texttt{I-Disease}& &\\texttt{I-Disease}& &\\texttt{O}& &\\quad\\text{(IOB2)}\\\\\n",
    "&0& &1& &2& &3& &4& &\\quad\\text{(Indice)}\n",
    "\\end{align*} -->\n",
    "\n",
    "En lo que sigue detallaremos las métricas estrictas utilizadas. Para formalizar su definición, consideremos $D = (S, T)$ un conjunto de $n$ datos. Donde para cada secuencia $s \\in S$, $t^s \\in T$ corresponden a las etiquetas de $s$. Sin perdida de generalidad, supondremos que toda secuencia es de largo $m$. En la práctica, $m$ corresponde al largo máximo de una secuencia dentro del conjunto de datos. Si una secuencia (y sus etiquetas) es de largo menor que $m$, se rellena con $\\texttt{<pad>}$. Consideremos $P$ a las etiquetas predichas, i.e., $p^s \\in P$ es la predicción de la secuencia $s \\in S$, comparable con las etiquetas reales $t^s \\in T$. Naturalmente, $s_i$ es el i-esimo token de la secuencia $s$. Análogamente, $t^s_i$ para su etiqueta real y $p^s_i$ para la predicha. Se dirá que $(l, i, j, c)$ es una entidad válida de tipo $c$ en las etiquetas $l$, si $i\\leq j$, $l_i = \\texttt{B-}c$, para cada $k \\in \\{i+1, ..., j\\}$, $l_k = \\texttt{I-}c$ y, si $j<m$, entonces $l_{j+1} \\neq \\texttt{I-}c$. Denotaremos por $E(l, c)$ al conjunto de las entidades válidas de tipo $c$ en las etiquetas $l$. Adicionalmente, denotaremos por $E(L)$ al conjunto de todas las entidades válidas según $L$, i.e.,  $$E(L) = \\bigcup \\{E(l,  c): l \\in L \\text{ y $c$ es un tipo de entidad}\\}$$\n",
    "  \n",
    "* *Precision*. Para un tipo de entidad fija (p.ej. Disease), la precision mide la proporción de veces que una entidad predicha de tal tipo coincide con la entidad real sobre el total de veces que el modelo predice una entidad con el tipo deseado. En efecto, para una entidad de tipo $c$,\n",
    "\n",
    "$$ \\texttt{Precision}(c) = \\frac{|\\{ (l, i, j, d) \\in E(P): d = c, \\exists s \\in S, l = p^s, (p^s, i, j, c) \\in E(t^s, c)\\}|}{|(l, i, j, d) \\in E(P): d=c |}$$\n",
    "\n",
    "* *Recall*. En el contexto clínico, el recall también se conoce como sensibilidad, y es importante dado que frente a diagnósticos y medicamentos sensibles, es preferible descartar un caso FN a no haberlo considerado en primer lugar. Para un tipo de entidad fija, el recall mide la proporción de veces que una entidad predicha de tal tipo coincide con la entidad real sobre el total de entidades del tipo deseado. En efecto, para una entidad de tipo $c$,\n",
    "\n",
    "$$ \\texttt{Recall}(c) = \\frac{|\\{ (l, i, j, d) \\in E(P): d = c, \\exists s\\in S, l=p^s, (p^s, i, j, c) \\in E(t^s, c)\\}|}{|(l, i, j, d) \\in E(T): d=c |}$$\n",
    "\n",
    "* *Micro F1 score*. **Recuerde hacer la distinción entre lo que sería una métrica de micro f1-score vs macro f1-score.** Para un tipo de entidad fija, la Precision y el Recall, entregan información distinta sobre las predicciones para dicho tipo de entidad. El primero considera falsos-positivos, mientras que el segundo considera falsos-negativos. Una forma de condensar esta información en una única métrica es con el promedio armónico entre Precision y Recall, denominado F1-score. Dicha metrica es condicional al tipo de entidad elegida. Para obtener un F1-score global (que considere todos los tipos de entidades), existen dos aproximaciones: (1) Micro F1-score y (2) Macro F1-score. En palabras simples, (1) es el Accuracy del modelo y (2) Un promedio de F1-score por tipo de entidad. Descartamos Macro F1-score dado que nuestros datos son desbalancedados. Por lo tanto, cada F1-score por clase no son estadísticamente comparables. Nos quedaremos con Micro F1-score, ya que traduce globalmente el desempeño del modelo. Para computar esta metrica, se utiliza la técnica estricta definida anteriormente. En efecto,\n",
    "\n",
    "$$ \\texttt{Micro-F1-score} = \\frac{|\\{ (l, i, j, d) \\in E(P): \\exists s\\in S, l=p^s, (p^s, i, j, d) \\in E(t^s, d)\\}|}{|S|}$$\n",
    "\n"
   ]
  },
  {
   "cell_type": "markdown",
   "id": "0b571663",
   "metadata": {
    "pycharm": {
     "name": "#%% md\n"
    }
   },
   "source": [
    "## Diseño experimental ✏️\n",
    "\n",
    "**REQUIREMENTS: Esta es una de las secciones más importantes del reporte. Deben describir minuciosamente los experimentos que realizarán en la siguiente sección. Describir las variables de control que manejarán, algunos ejemplos pueden ser: Los hiperparámetros de los modelos, tipo de embeddings utilizados, tipos de arquitecturas. Ser claros con el conjunto de hiperparámetros que probarán, la decisión en las funciones de optimización, función de pérdida, regulación, etc. Básicamente explicar qué es lo que veremos en la siguiente sección. (1 punto)**"
   ]
  },
  {
   "cell_type": "markdown",
   "id": "9e029db2",
   "metadata": {
    "pycharm": {
     "name": "#%% md\n"
    }
   },
   "source": [
    "### Sin stopwords\n",
    "Entrenamiendo de tres modelos: (1) *Modelo de referencia*, (2) *Modelo masked* y (3) *Modelo without*. Donde, *Modelo de referencia* es un modelo **con** stopwords. Mientras que *Modelo masked* y *Modelo without* son modelos **sin** stopwords.\n",
    "\n",
    "#### Hiperparámetros\n",
    "Estos son comunes para los tres modelos.\n",
    "\n",
    "    Arquitectura: NER RNN\n",
    "    Dimensión de salida: Número de clases (12)\n",
    "    Tipo de capas intermedias: LSTM\n",
    "    Número de capas LSTM: 3\n",
    "    Dimensión de capas LSTM: 128\n",
    "    Tamaño de los batches: 16\n",
    "    Función de pérdida: CrossEntropyLoss\n",
    "    Optimizador: Algoritmo ADAM\n",
    "    Bidireccional: False\n",
    "    Dropout: 0.5\n",
    "    Número de epochs: 10\n",
    "    \n",
    " Estos son diferentes entre los tres modelos, dado que el vocabulario se ve afectado por el preprocesamiento para los modelos **sin** stopwords.   \n",
    " \n",
    "    Dimensión de entrada: Largo del vocabulario de entrenamiento \n",
    "                           (Modelo de referencia: 17591, \n",
    "                           Modelo masked: 16968,\n",
    "                           Modelo without: 16967)\n",
    "\n",
    "Notar que el modelo de referencia tiene mas palabras en el vocabulario que los otro modelos. Esto se debe a que los stopwords son filtrados en los ultimos dos modelos mencionados. Ademas, el modelo masked tiene una palabra mas en el vocabulario que el modelo without, dicha palabra es el token especial $\\texttt{<stopword>}$.\n",
    "\n",
    "#### Preprocesamiento\n",
    "\n",
    "Para obtener la libreria [spaCy](https://spacy.io/) en español, ejecutamos la siguiente celda de codigo:\n",
    "```python\n",
    "!pip install -U spacy\n",
    "import spacy\n",
    "!python -m spacy download es_core_news_md\n",
    "nlp = spacy.load('es_core_news_md')\n",
    "```\n",
    "Primero, se cargan las lineas de los archivos .txt de train y dev, para modificar los stopwords. Para esto, utilizamos lo siguiente:\n",
    "```python\n",
    "with open('train.txt') as f:\n",
    "    lines_train = f.readlines()\n",
    "\n",
    "with open('dev.txt') as f:\n",
    "    lines_dev = f.readlines()\n",
    "```\n",
    "Para filtrar los stopwords consideramos la siguiente funcion:\n",
    "```python\n",
    "def preprocessing(lines, method=\"masked\"):\n",
    "  lines_stopwords = []\n",
    "  for i, line in enumerate(lines):\n",
    "    start = time.time()\n",
    "    new_line = line\n",
    "    stop = False\n",
    "    if len(line.split())==2:\n",
    "      w, tag = line.split()\n",
    "      doc = nlp(w)\n",
    "      if doc[0].is_stop:\n",
    "        stop = True\n",
    "        w = \"<stopword>\"\n",
    "        new_line = f\"{w} {tag}\\n\"\n",
    "    if method == \"masked\": lines_stopwords.append(new_line)\n",
    "    else: if not stop: lines_stopwords.append(new_line)\n",
    "  return lines_stopwords\n",
    "```\n",
    "Para obtener el train y dev para el modelo masked consideramos la siguiente celda de codigo: (tiempo de ejecucion: ~12min)\n",
    "```python\n",
    "lines_stopwords_masked = preprocessing(lines_train, method=\"masked\", verbose=True)\n",
    "lines_dev_stopwords_masked = preprocessing(lines_dev, method=\"masked\", verbose=True)\n",
    "```\n",
    "Para train del modelo without, basta utilizar lo anterior y eliminar las linea con el token especial, de la siguiente forma:\n",
    "```python\n",
    "lines_stopwords_wo = [line \n",
    "                      for line in lines_stopwords_masked \n",
    "                      if len(line.split())==2 and line.split()[0] != \"<stopword>\"]\n",
    "```\n",
    "Finalmente, cada lista de lineas se guarda como un archivo .txt (adjunto junto a este notebook):\n",
    "```pytohn\n",
    "with open('train_wo.txt', 'a') as f:\n",
    "    f.writelines(lines_stopwords_wo)\n",
    "with open('train_masked.txt', 'a') as f:\n",
    "    f.writelines(lines_stopwords_masked)\n",
    "with open('dev_masked.txt', 'a') as f:\n",
    "    f.writelines(lines_dev_stopwords_masked)\n",
    "```\n",
    "### GRU con GridSearch\n",
    "\n",
    "#### Hiperparametros\n",
    "##### Variables fijas\n",
    "    Arquitectura: NER RNN\n",
    "    Dimensión de entrada: Largo del vocabulario de entrenamiento (17591)\n",
    "    Dimensión de salida: Número de clases (12)\n",
    "    Tipo de capas intermedias: GRU\n",
    "    Número de epochs: 10 \n",
    "    Tamaño de los batches: 16\n",
    "    Función de pérdida: CrossEntropyLoss\n",
    "    Optimizador: Algoritmo ADAM\n",
    "    \n",
    "##### Grilla\n",
    "    Dimensión de capa embedding: 128, 256\n",
    "    Dimensión de capas GRU: 128, 256\n",
    "    Número de capas GRU: 2, 3, 4\n",
    "    Bidireccional: False, True\n",
    "    Dropout: 0.2, 0.4, 0.5, 0.8\n",
    "\n",
    "### Con embeddings generales del lenguaje español\n",
    "En adición a los embeddings clínicos, se realizaron pruebas con embeddings generales del lenguaje español, en particular, los cinco conjuntos de embeddings disponibles en la página: [Spanish Word Embeddings](https://github.com/dccuchile/spanish-word-embeddings)\n",
    "#### Hiperparámetros\n",
    "Estos son comunes para los cinco conjuntos.\n",
    "\n",
    "    Arquitectura: NER RNN\n",
    "    Dimensión de entrada: Largo del vocabulario de entrenamiento (17591)\n",
    "    Dimensión de salida: Número de clases (12)\n",
    "    Tipo de capas intermedias: LSTM\n",
    "    Número de capas intermedias: 3\n",
    "    Dimensión de capas intermedias: 256\n",
    "    Tamaño de los batches: 16\n",
    "    Función de pérdida: CrossEntropyLoss\n",
    "    Optimizador: Algoritmo ADAM\n",
    "    Bidireccional: Sí\n",
    "    Dropout: 0.5\n",
    "    Número de epochs: 10\n",
    "\n",
    "#### Fast SWBC\n",
    "    Capa de embedding: Pre-entrenada (855380x300)\n",
    "\n",
    "#### Glove SWBC\n",
    "    Capa de embedding: Pre-entrenada (855380x300)\n",
    "\n",
    "#### Fast SUC\n",
    "    Capa de embedding: Pre-entrenada (1313423x300)\n",
    "\n",
    "#### W2V SWBC\n",
    "    Capa de embedding: Pre-entrenada (1000653x300)\n",
    "\n",
    "#### Wikipedia (español)\n",
    "    Capa de embedding: Pre-entrenada (985667x300)\n",
    "\n",
    "### Baseline mejorado\n",
    "Luego de probar los embeddings generales y ver que no existía una mejora notable, se procedió a probar con los parámetros ajustados del modelo baseline, pero sin los embeddings.\n",
    "#### Hiperparámetros\n",
    "    Arquitectura: NER RNN\n",
    "    Dimensión de entrada: Largo del vocabulario de entrenamiento (17591)\n",
    "    Dimensión de salida: Número de clases (12)\n",
    "    Tipo de capas intermedias: LSTM\n",
    "    Número de capas intermedias: 3\n",
    "    Dimensión de capas intermedias: 256\n",
    "    Tamaño de los batches: 16\n",
    "    Capa de embedding: Sin pre-entrenar (855380x300)\n",
    "    Función de pérdida: CrossEntropyLoss\n",
    "    Optimizador: Algoritmo ADAM\n",
    "    Bidireccional: Sí\n",
    "    Dropout: 0.5\n",
    "    Número de epochs: 10"
   ]
  },
  {
   "cell_type": "code",
   "execution_count": 41,
   "id": "581853fa",
   "metadata": {},
   "outputs": [],
   "source": [
    "import pickle\n",
    "import pandas as pd\n",
    "results_gridsearch = pickle.load(open(\"results_gridsearch.pickle\", \"rb\"))"
   ]
  },
  {
   "cell_type": "code",
   "execution_count": 68,
   "id": "03e67cf2",
   "metadata": {},
   "outputs": [
    {
     "data": {
      "text/html": [
       "<div>\n",
       "<style scoped>\n",
       "    .dataframe tbody tr th:only-of-type {\n",
       "        vertical-align: middle;\n",
       "    }\n",
       "\n",
       "    .dataframe tbody tr th {\n",
       "        vertical-align: top;\n",
       "    }\n",
       "\n",
       "    .dataframe thead th {\n",
       "        text-align: right;\n",
       "    }\n",
       "</style>\n",
       "<table border=\"1\" class=\"dataframe\">\n",
       "  <thead>\n",
       "    <tr style=\"text-align: right;\">\n",
       "      <th></th>\n",
       "      <th>EMBEDDING_DIM</th>\n",
       "      <th>HIDDEN_DIM</th>\n",
       "      <th>N_LAYERS</th>\n",
       "      <th>DROPOUT</th>\n",
       "      <th>BIDIRECTIONAL</th>\n",
       "      <th>Loss</th>\n",
       "      <th>F1-score</th>\n",
       "      <th>Precision</th>\n",
       "      <th>Recall</th>\n",
       "    </tr>\n",
       "  </thead>\n",
       "  <tbody>\n",
       "    <tr>\n",
       "      <th>10</th>\n",
       "      <td>128</td>\n",
       "      <td>128</td>\n",
       "      <td>3</td>\n",
       "      <td>0.5</td>\n",
       "      <td>True</td>\n",
       "      <td>0.369711</td>\n",
       "      <td>0.772867</td>\n",
       "      <td>0.805746</td>\n",
       "      <td>0.747648</td>\n",
       "    </tr>\n",
       "    <tr>\n",
       "      <th>38</th>\n",
       "      <td>256</td>\n",
       "      <td>128</td>\n",
       "      <td>2</td>\n",
       "      <td>0.4</td>\n",
       "      <td>True</td>\n",
       "      <td>0.342211</td>\n",
       "      <td>0.771385</td>\n",
       "      <td>0.796751</td>\n",
       "      <td>0.753486</td>\n",
       "    </tr>\n",
       "    <tr>\n",
       "      <th>8</th>\n",
       "      <td>128</td>\n",
       "      <td>128</td>\n",
       "      <td>3</td>\n",
       "      <td>0.4</td>\n",
       "      <td>True</td>\n",
       "      <td>0.353174</td>\n",
       "      <td>0.770943</td>\n",
       "      <td>0.796237</td>\n",
       "      <td>0.751863</td>\n",
       "    </tr>\n",
       "    <tr>\n",
       "      <th>22</th>\n",
       "      <td>128</td>\n",
       "      <td>256</td>\n",
       "      <td>2</td>\n",
       "      <td>0.5</td>\n",
       "      <td>True</td>\n",
       "      <td>0.347680</td>\n",
       "      <td>0.770716</td>\n",
       "      <td>0.795048</td>\n",
       "      <td>0.753321</td>\n",
       "    </tr>\n",
       "    <tr>\n",
       "      <th>64</th>\n",
       "      <td>256</td>\n",
       "      <td>256</td>\n",
       "      <td>3</td>\n",
       "      <td>0.5</td>\n",
       "      <td>True</td>\n",
       "      <td>0.370050</td>\n",
       "      <td>0.770368</td>\n",
       "      <td>0.773624</td>\n",
       "      <td>0.771977</td>\n",
       "    </tr>\n",
       "    <tr>\n",
       "      <th>...</th>\n",
       "      <td>...</td>\n",
       "      <td>...</td>\n",
       "      <td>...</td>\n",
       "      <td>...</td>\n",
       "      <td>...</td>\n",
       "      <td>...</td>\n",
       "      <td>...</td>\n",
       "      <td>...</td>\n",
       "      <td>...</td>\n",
       "    </tr>\n",
       "    <tr>\n",
       "      <th>51</th>\n",
       "      <td>256</td>\n",
       "      <td>128</td>\n",
       "      <td>4</td>\n",
       "      <td>0.4</td>\n",
       "      <td>False</td>\n",
       "      <td>0.411150</td>\n",
       "      <td>0.720849</td>\n",
       "      <td>0.746428</td>\n",
       "      <td>0.702300</td>\n",
       "    </tr>\n",
       "    <tr>\n",
       "      <th>49</th>\n",
       "      <td>256</td>\n",
       "      <td>128</td>\n",
       "      <td>4</td>\n",
       "      <td>0.3</td>\n",
       "      <td>False</td>\n",
       "      <td>0.395390</td>\n",
       "      <td>0.716974</td>\n",
       "      <td>0.734637</td>\n",
       "      <td>0.705302</td>\n",
       "    </tr>\n",
       "    <tr>\n",
       "      <th>33</th>\n",
       "      <td>128</td>\n",
       "      <td>256</td>\n",
       "      <td>4</td>\n",
       "      <td>0.4</td>\n",
       "      <td>False</td>\n",
       "      <td>0.413217</td>\n",
       "      <td>0.714860</td>\n",
       "      <td>0.737417</td>\n",
       "      <td>0.698393</td>\n",
       "    </tr>\n",
       "    <tr>\n",
       "      <th>53</th>\n",
       "      <td>256</td>\n",
       "      <td>128</td>\n",
       "      <td>4</td>\n",
       "      <td>0.5</td>\n",
       "      <td>False</td>\n",
       "      <td>0.421538</td>\n",
       "      <td>0.714689</td>\n",
       "      <td>0.714233</td>\n",
       "      <td>0.719480</td>\n",
       "    </tr>\n",
       "    <tr>\n",
       "      <th>35</th>\n",
       "      <td>128</td>\n",
       "      <td>256</td>\n",
       "      <td>4</td>\n",
       "      <td>0.5</td>\n",
       "      <td>False</td>\n",
       "      <td>0.423491</td>\n",
       "      <td>0.708245</td>\n",
       "      <td>0.728345</td>\n",
       "      <td>0.694826</td>\n",
       "    </tr>\n",
       "  </tbody>\n",
       "</table>\n",
       "<p>72 rows × 9 columns</p>\n",
       "</div>"
      ],
      "text/plain": [
       "   EMBEDDING_DIM HIDDEN_DIM N_LAYERS DROPOUT BIDIRECTIONAL      Loss  \\\n",
       "10           128        128        3     0.5          True  0.369711   \n",
       "38           256        128        2     0.4          True  0.342211   \n",
       "8            128        128        3     0.4          True  0.353174   \n",
       "22           128        256        2     0.5          True  0.347680   \n",
       "64           256        256        3     0.5          True  0.370050   \n",
       "..           ...        ...      ...     ...           ...       ...   \n",
       "51           256        128        4     0.4         False  0.411150   \n",
       "49           256        128        4     0.3         False  0.395390   \n",
       "33           128        256        4     0.4         False  0.413217   \n",
       "53           256        128        4     0.5         False  0.421538   \n",
       "35           128        256        4     0.5         False  0.423491   \n",
       "\n",
       "    F1-score  Precision    Recall  \n",
       "10  0.772867   0.805746  0.747648  \n",
       "38  0.771385   0.796751  0.753486  \n",
       "8   0.770943   0.796237  0.751863  \n",
       "22  0.770716   0.795048  0.753321  \n",
       "64  0.770368   0.773624  0.771977  \n",
       "..       ...        ...       ...  \n",
       "51  0.720849   0.746428  0.702300  \n",
       "49  0.716974   0.734637  0.705302  \n",
       "33  0.714860   0.737417  0.698393  \n",
       "53  0.714689   0.714233  0.719480  \n",
       "35  0.708245   0.728345  0.694826  \n",
       "\n",
       "[72 rows x 9 columns]"
      ]
     },
     "execution_count": 68,
     "metadata": {},
     "output_type": "execute_result"
    }
   ],
   "source": [
    "data_gridsearch = []\n",
    "for model_name, v in results_gridsearch.items():\n",
    "    list_name = model_name.split(\"_\")\n",
    "    params = {\n",
    "        \"_\".join(list_name[1:3]): str(list_name[3]),\n",
    "        \"_\".join(list_name[4:6]): str(list_name[6]),\n",
    "        \"_\".join(list_name[7:9]): str(list_name[9]),\n",
    "        \"_\".join(list_name[10:11]): str(\".\".join(list_name[11:13])),\n",
    "        list_name[13]: str(list_name[14])\n",
    "    }\n",
    "    o = params.copy()\n",
    "    o = {**o, **dict(list(zip(\"Loss F1-score Precision Recall\".split(), results_gridsearch[model_name])))}\n",
    "    data_gridsearch.append(o)\n",
    "df_gridsearch = pd.DataFrame(data_gridsearch).sort_values(\"F1-score\", ascending=False)\n",
    "df_gridsearch"
   ]
  },
  {
   "cell_type": "code",
   "execution_count": 99,
   "id": "4a0030af",
   "metadata": {},
   "outputs": [
    {
     "data": {
      "application/vnd.plotly.v1+json": {
       "config": {
        "plotlyServerURL": "https://plot.ly"
       },
       "data": [
        {
         "customdata": [
          [
           "128",
           "128",
           "3",
           "0.5",
           "True",
           0.3697113042165126,
           0.7728673192744874
          ],
          [
           "256",
           "128",
           "2",
           "0.4",
           "True",
           0.34221074051622835,
           0.7713851883763579
          ],
          [
           "128",
           "128",
           "3",
           "0.4",
           "True",
           0.35317376122942995,
           0.7709426384686549
          ],
          [
           "128",
           "256",
           "2",
           "0.5",
           "True",
           0.3476798821772848,
           0.7707162365365952
          ],
          [
           "256",
           "256",
           "3",
           "0.5",
           "True",
           0.37005034035870005,
           0.7703676690978943
          ],
          [
           "256",
           "128",
           "2",
           "0.5",
           "True",
           0.34389801549592186,
           0.7703472362684354
          ],
          [
           "256",
           "128",
           "4",
           "0.5",
           "True",
           0.38139854105455534,
           0.7678626855976302
          ],
          [
           "256",
           "256",
           "4",
           "0.3",
           "True",
           0.3876260199717113,
           0.7676774794138294
          ],
          [
           "256",
           "128",
           "3",
           "0.5",
           "True",
           0.37880268041044474,
           0.7661642532831576
          ],
          [
           "128",
           "128",
           "2",
           "0.4",
           "True",
           0.3365100904234818,
           0.7635643002534421
          ],
          [
           "128",
           "256",
           "3",
           "0.4",
           "True",
           0.3597330818218844,
           0.7626763524450416
          ],
          [
           "128",
           "128",
           "2",
           "0.3",
           "True",
           0.3460659049451351,
           0.7618724517868047
          ],
          [
           "128",
           "256",
           "4",
           "0.3",
           "True",
           0.3731510490179062,
           0.7617378190624945
          ],
          [
           "128",
           "256",
           "4",
           "0.4",
           "True",
           0.36386735763932976,
           0.7616636174917251
          ],
          [
           "128",
           "256",
           "3",
           "0.5",
           "True",
           0.3629532556182572,
           0.7604680623207363
          ],
          [
           "128",
           "128",
           "2",
           "0.5",
           "True",
           0.35028490530593054,
           0.759289247110803
          ],
          [
           "128",
           "256",
           "2",
           "0.3",
           "True",
           0.3608571268352015,
           0.7584553651314526
          ],
          [
           "128",
           "128",
           "4",
           "0.3",
           "True",
           0.3633938379851835,
           0.7580261784190553
          ],
          [
           "256",
           "128",
           "3",
           "0.3",
           "True",
           0.3453159789953913,
           0.7576919784395455
          ],
          [
           "256",
           "256",
           "2",
           "0.5",
           "True",
           0.35502139878060135,
           0.7573457866091154
          ],
          [
           "128",
           "128",
           "4",
           "0.5",
           "True",
           0.3695266277396253,
           0.7563769447576607
          ],
          [
           "256",
           "256",
           "3",
           "0.3",
           "True",
           0.36911941612405436,
           0.7549931781175182
          ],
          [
           "256",
           "128",
           "4",
           "0.4",
           "True",
           0.37442718220076393,
           0.7542022760328607
          ],
          [
           "128",
           "256",
           "3",
           "0.3",
           "True",
           0.36898504809609484,
           0.7535841844175907
          ],
          [
           "256",
           "128",
           "4",
           "0.3",
           "True",
           0.3589551237278751,
           0.752853274040778
          ],
          [
           "128",
           "256",
           "2",
           "0.4",
           "True",
           0.3517009260665093,
           0.7527695868713309
          ],
          [
           "256",
           "256",
           "2",
           "0.4",
           "True",
           0.3524959443935326,
           0.7515356146533835
          ],
          [
           "128",
           "128",
           "4",
           "0.4",
           "True",
           0.3709092094962086,
           0.7509497563976761
          ],
          [
           "256",
           "128",
           "3",
           "0.4",
           "True",
           0.3720781115282859,
           0.7507605236486584
          ],
          [
           "128",
           "128",
           "3",
           "0.3",
           "True",
           0.34733551860387835,
           0.7503771640512718
          ],
          [
           "256",
           "128",
           "2",
           "0.3",
           "True",
           0.34036281146109104,
           0.750094555796853
          ],
          [
           "256",
           "256",
           "2",
           "0.3",
           "True",
           0.36068781385464327,
           0.7490484895730198
          ],
          [
           "256",
           "256",
           "4",
           "0.4",
           "True",
           0.37482575779514654,
           0.7485739198795571
          ],
          [
           "128",
           "256",
           "4",
           "0.5",
           "True",
           0.3979136025799172,
           0.7466997744600555
          ],
          [
           "256",
           "256",
           "4",
           "0.5",
           "True",
           0.39938973635435104,
           0.7366043394754819
          ],
          [
           "256",
           "256",
           "3",
           "0.4",
           "True",
           0.3696577443874308,
           0.73347103950685
          ]
         ],
         "hovertemplate": "BIDIRECTIONAL=%{customdata[4]}<br>Precision=%{x}<br>Recall=%{y}<br>EMBEDDING_DIM=%{customdata[0]}<br>HIDDEN_DIM=%{customdata[1]}<br>N_LAYERS=%{customdata[2]}<br>DROPOUT=%{customdata[3]}<br>Loss=%{customdata[5]}<br>F1-score=%{customdata[6]}<extra></extra>",
         "legendgroup": "True",
         "marker": {
          "color": "#636efa",
          "symbol": "circle"
         },
         "mode": "markers",
         "name": "True",
         "orientation": "v",
         "showlegend": true,
         "type": "scatter",
         "x": [
          0.8057463665240981,
          0.7967514813271822,
          0.796237419283604,
          0.7950481043877257,
          0.7736235427024729,
          0.802819781467449,
          0.770899261163453,
          0.790341396786279,
          0.772384695057647,
          0.7948830460691204,
          0.783900230725422,
          0.7824896864500711,
          0.756810088940603,
          0.7896958542480093,
          0.7785509991411494,
          0.80611200922634,
          0.8130929491333679,
          0.7622788971696105,
          0.8149516483285134,
          0.7765366695274837,
          0.7675237089036259,
          0.7934530126813462,
          0.7468058830739391,
          0.7933060321635128,
          0.7716568124475335,
          0.813483198582565,
          0.8033409570617314,
          0.7817347707922903,
          0.74628522415857,
          0.7802492279897845,
          0.7867273946795901,
          0.8160936695901327,
          0.7554498694779274,
          0.7493948050208975,
          0.7518257306953096,
          0.7767013444440092
         ],
         "xaxis": "x",
         "y": [
          0.7476476379417006,
          0.7534863725382372,
          0.7518631149882464,
          0.7533213445005862,
          0.7719772721681065,
          0.7453836116478489,
          0.7689151456084992,
          0.7515043284860019,
          0.7657708500712203,
          0.7404269732017669,
          0.7469647425224168,
          0.7472187148244629,
          0.7717508734007695,
          0.7409931839054245,
          0.7476079342600724,
          0.7239605996701562,
          0.7158818090294835,
          0.7582055613401089,
          0.7132602475900972,
          0.7443622079612762,
          0.7497917573968851,
          0.7252659620498054,
          0.7671812312991618,
          0.7218517671538851,
          0.740687559863435,
          0.7058726775216929,
          0.7109543358176001,
          0.7280401179326105,
          0.7591696515030236,
          0.7277870954810927,
          0.7215811945378997,
          0.6981470943416064,
          0.7456170155178219,
          0.7494986887485852,
          0.7265790930037185,
          0.6999676327410044
         ],
         "yaxis": "y"
        },
        {
         "customdata": [
          [
           "256",
           "256",
           "2",
           "0.5",
           "False",
           0.38542509943779024,
           0.7520707318845146
          ],
          [
           "256",
           "256",
           "2",
           "0.3",
           "False",
           0.364683327664222,
           0.7488355057353845
          ],
          [
           "128",
           "256",
           "4",
           "0.3",
           "False",
           0.4037081722968391,
           0.7480819667343389
          ],
          [
           "128",
           "256",
           "3",
           "0.5",
           "False",
           0.39601073374173473,
           0.7475362009445738
          ],
          [
           "256",
           "128",
           "3",
           "0.3",
           "False",
           0.3788953588477203,
           0.7460880175166771
          ],
          [
           "128",
           "256",
           "2",
           "0.5",
           "False",
           0.36689077889812843,
           0.7445904276732433
          ],
          [
           "256",
           "256",
           "2",
           "0.4",
           "False",
           0.3709497945383191,
           0.7442073521364918
          ],
          [
           "256",
           "256",
           "3",
           "0.5",
           "False",
           0.39790256654045414,
           0.7432514875937101
          ],
          [
           "128",
           "128",
           "3",
           "0.4",
           "False",
           0.39266619139484,
           0.7429008595478676
          ],
          [
           "128",
           "128",
           "2",
           "0.4",
           "False",
           0.3766097306673016,
           0.7412358465285942
          ],
          [
           "128",
           "256",
           "3",
           "0.3",
           "False",
           0.3856989783900125,
           0.7356988949141546
          ],
          [
           "128",
           "128",
           "4",
           "0.5",
           "False",
           0.4144780074379274,
           0.7345210716148056
          ],
          [
           "128",
           "128",
           "3",
           "0.5",
           "False",
           0.40393281794552294,
           0.7342904665743281
          ],
          [
           "256",
           "128",
           "3",
           "0.5",
           "False",
           0.40374900214374065,
           0.7327972416598035
          ],
          [
           "256",
           "128",
           "2",
           "0.4",
           "False",
           0.37534074378865107,
           0.7315908362344125
          ],
          [
           "256",
           "128",
           "2",
           "0.3",
           "False",
           0.3728190359792539,
           0.7312999259762873
          ],
          [
           "128",
           "128",
           "3",
           "0.3",
           "False",
           0.38390264846384525,
           0.7312386934415749
          ],
          [
           "128",
           "128",
           "4",
           "0.4",
           "False",
           0.40553733919348034,
           0.7310874784907783
          ],
          [
           "256",
           "256",
           "4",
           "0.3",
           "False",
           0.39773121422954966,
           0.7309893522092681
          ],
          [
           "128",
           "128",
           "2",
           "0.3",
           "False",
           0.375959220209292,
           0.730920896261143
          ],
          [
           "128",
           "256",
           "2",
           "0.4",
           "False",
           0.37840505928865503,
           0.7305525739581143
          ],
          [
           "256",
           "256",
           "3",
           "0.4",
           "False",
           0.3930749488728387,
           0.7297821527198792
          ],
          [
           "128",
           "256",
           "2",
           "0.3",
           "False",
           0.37867578119039536,
           0.7297380376814203
          ],
          [
           "256",
           "128",
           "3",
           "0.4",
           "False",
           0.38885761238634586,
           0.7289634197930294
          ],
          [
           "256",
           "256",
           "4",
           "0.4",
           "False",
           0.4098474681377411,
           0.727581763608286
          ],
          [
           "256",
           "256",
           "3",
           "0.3",
           "False",
           0.3881118526416166,
           0.7274839443619193
          ],
          [
           "128",
           "128",
           "2",
           "0.5",
           "False",
           0.38541420522545067,
           0.7267510700619659
          ],
          [
           "128",
           "256",
           "3",
           "0.4",
           "False",
           0.3944123684029494,
           0.7264144365334816
          ],
          [
           "256",
           "128",
           "2",
           "0.5",
           "False",
           0.3891112780464547,
           0.7243378659092243
          ],
          [
           "128",
           "128",
           "4",
           "0.3",
           "False",
           0.3924211008208139,
           0.7237804109210717
          ],
          [
           "256",
           "256",
           "4",
           "0.5",
           "False",
           0.4258381293288299,
           0.7208708004671803
          ],
          [
           "256",
           "128",
           "4",
           "0.4",
           "False",
           0.41114960531038897,
           0.7208493091185459
          ],
          [
           "256",
           "128",
           "4",
           "0.3",
           "False",
           0.3953897442136492,
           0.7169744839840202
          ],
          [
           "128",
           "256",
           "4",
           "0.4",
           "False",
           0.4132174930668303,
           0.7148601633981216
          ],
          [
           "256",
           "128",
           "4",
           "0.5",
           "False",
           0.421537935467703,
           0.7146887856658942
          ],
          [
           "128",
           "256",
           "4",
           "0.5",
           "False",
           0.42349120868103846,
           0.7082447851215121
          ]
         ],
         "hovertemplate": "BIDIRECTIONAL=%{customdata[4]}<br>Precision=%{x}<br>Recall=%{y}<br>EMBEDDING_DIM=%{customdata[0]}<br>HIDDEN_DIM=%{customdata[1]}<br>N_LAYERS=%{customdata[2]}<br>DROPOUT=%{customdata[3]}<br>Loss=%{customdata[5]}<br>F1-score=%{customdata[6]}<extra></extra>",
         "legendgroup": "False",
         "marker": {
          "color": "#EF553B",
          "symbol": "circle"
         },
         "mode": "markers",
         "name": "False",
         "orientation": "v",
         "showlegend": true,
         "type": "scatter",
         "x": [
          0.7832084698872324,
          0.78373555647768,
          0.7782532601118233,
          0.7607101297999408,
          0.7774093879896034,
          0.7758955195205732,
          0.7861118281809283,
          0.7449528532591145,
          0.773382695987249,
          0.7780092337191736,
          0.7733548174831949,
          0.7460755568311045,
          0.7614977326339487,
          0.7580961959005699,
          0.7564928795276744,
          0.7727836048421114,
          0.7718173105567894,
          0.7518816344978194,
          0.7335636532744383,
          0.7798492941980427,
          0.7829205099959962,
          0.7874927397938006,
          0.7702650484915043,
          0.7480268077293485,
          0.757754520860571,
          0.7665311709088055,
          0.7622027673604527,
          0.7645218980441513,
          0.774844513694022,
          0.7489165792465945,
          0.7498552813662934,
          0.7464275578814268,
          0.7346368478644711,
          0.737416610952293,
          0.7142330360051089,
          0.7283447694745492
         ],
         "xaxis": "x",
         "y": [
          0.727923948229999,
          0.7217169305338516,
          0.7255443061575411,
          0.7387745791915027,
          0.7220035062390897,
          0.720870964754595,
          0.7117144451395065,
          0.7462647053421199,
          0.7195175104588023,
          0.7128464704106747,
          0.7068427464437673,
          0.7285889549051816,
          0.7140098939809679,
          0.7146873345265472,
          0.712977346128867,
          0.6985053014822883,
          0.6999215416319414,
          0.7163412966724211,
          0.7340226291852108,
          0.6927194563261192,
          0.6900116383447639,
          0.6851034085469031,
          0.6983310811266376,
          0.7147371459482338,
          0.704680442555123,
          0.6968871787397618,
          0.6994037109653507,
          0.6968271821821076,
          0.6853012888013009,
          0.7060991775713535,
          0.6986816712591161,
          0.702300184872281,
          0.7053016352391441,
          0.6983934355002638,
          0.7194803612753822,
          0.6948255990539819
         ],
         "yaxis": "y"
        }
       ],
       "layout": {
        "legend": {
         "title": {
          "text": "BIDIRECTIONAL"
         },
         "tracegroupgap": 0
        },
        "margin": {
         "t": 60
        },
        "template": {
         "data": {
          "bar": [
           {
            "error_x": {
             "color": "#2a3f5f"
            },
            "error_y": {
             "color": "#2a3f5f"
            },
            "marker": {
             "line": {
              "color": "#E5ECF6",
              "width": 0.5
             },
             "pattern": {
              "fillmode": "overlay",
              "size": 10,
              "solidity": 0.2
             }
            },
            "type": "bar"
           }
          ],
          "barpolar": [
           {
            "marker": {
             "line": {
              "color": "#E5ECF6",
              "width": 0.5
             },
             "pattern": {
              "fillmode": "overlay",
              "size": 10,
              "solidity": 0.2
             }
            },
            "type": "barpolar"
           }
          ],
          "carpet": [
           {
            "aaxis": {
             "endlinecolor": "#2a3f5f",
             "gridcolor": "white",
             "linecolor": "white",
             "minorgridcolor": "white",
             "startlinecolor": "#2a3f5f"
            },
            "baxis": {
             "endlinecolor": "#2a3f5f",
             "gridcolor": "white",
             "linecolor": "white",
             "minorgridcolor": "white",
             "startlinecolor": "#2a3f5f"
            },
            "type": "carpet"
           }
          ],
          "choropleth": [
           {
            "colorbar": {
             "outlinewidth": 0,
             "ticks": ""
            },
            "type": "choropleth"
           }
          ],
          "contour": [
           {
            "colorbar": {
             "outlinewidth": 0,
             "ticks": ""
            },
            "colorscale": [
             [
              0,
              "#0d0887"
             ],
             [
              0.1111111111111111,
              "#46039f"
             ],
             [
              0.2222222222222222,
              "#7201a8"
             ],
             [
              0.3333333333333333,
              "#9c179e"
             ],
             [
              0.4444444444444444,
              "#bd3786"
             ],
             [
              0.5555555555555556,
              "#d8576b"
             ],
             [
              0.6666666666666666,
              "#ed7953"
             ],
             [
              0.7777777777777778,
              "#fb9f3a"
             ],
             [
              0.8888888888888888,
              "#fdca26"
             ],
             [
              1,
              "#f0f921"
             ]
            ],
            "type": "contour"
           }
          ],
          "contourcarpet": [
           {
            "colorbar": {
             "outlinewidth": 0,
             "ticks": ""
            },
            "type": "contourcarpet"
           }
          ],
          "heatmap": [
           {
            "colorbar": {
             "outlinewidth": 0,
             "ticks": ""
            },
            "colorscale": [
             [
              0,
              "#0d0887"
             ],
             [
              0.1111111111111111,
              "#46039f"
             ],
             [
              0.2222222222222222,
              "#7201a8"
             ],
             [
              0.3333333333333333,
              "#9c179e"
             ],
             [
              0.4444444444444444,
              "#bd3786"
             ],
             [
              0.5555555555555556,
              "#d8576b"
             ],
             [
              0.6666666666666666,
              "#ed7953"
             ],
             [
              0.7777777777777778,
              "#fb9f3a"
             ],
             [
              0.8888888888888888,
              "#fdca26"
             ],
             [
              1,
              "#f0f921"
             ]
            ],
            "type": "heatmap"
           }
          ],
          "heatmapgl": [
           {
            "colorbar": {
             "outlinewidth": 0,
             "ticks": ""
            },
            "colorscale": [
             [
              0,
              "#0d0887"
             ],
             [
              0.1111111111111111,
              "#46039f"
             ],
             [
              0.2222222222222222,
              "#7201a8"
             ],
             [
              0.3333333333333333,
              "#9c179e"
             ],
             [
              0.4444444444444444,
              "#bd3786"
             ],
             [
              0.5555555555555556,
              "#d8576b"
             ],
             [
              0.6666666666666666,
              "#ed7953"
             ],
             [
              0.7777777777777778,
              "#fb9f3a"
             ],
             [
              0.8888888888888888,
              "#fdca26"
             ],
             [
              1,
              "#f0f921"
             ]
            ],
            "type": "heatmapgl"
           }
          ],
          "histogram": [
           {
            "marker": {
             "pattern": {
              "fillmode": "overlay",
              "size": 10,
              "solidity": 0.2
             }
            },
            "type": "histogram"
           }
          ],
          "histogram2d": [
           {
            "colorbar": {
             "outlinewidth": 0,
             "ticks": ""
            },
            "colorscale": [
             [
              0,
              "#0d0887"
             ],
             [
              0.1111111111111111,
              "#46039f"
             ],
             [
              0.2222222222222222,
              "#7201a8"
             ],
             [
              0.3333333333333333,
              "#9c179e"
             ],
             [
              0.4444444444444444,
              "#bd3786"
             ],
             [
              0.5555555555555556,
              "#d8576b"
             ],
             [
              0.6666666666666666,
              "#ed7953"
             ],
             [
              0.7777777777777778,
              "#fb9f3a"
             ],
             [
              0.8888888888888888,
              "#fdca26"
             ],
             [
              1,
              "#f0f921"
             ]
            ],
            "type": "histogram2d"
           }
          ],
          "histogram2dcontour": [
           {
            "colorbar": {
             "outlinewidth": 0,
             "ticks": ""
            },
            "colorscale": [
             [
              0,
              "#0d0887"
             ],
             [
              0.1111111111111111,
              "#46039f"
             ],
             [
              0.2222222222222222,
              "#7201a8"
             ],
             [
              0.3333333333333333,
              "#9c179e"
             ],
             [
              0.4444444444444444,
              "#bd3786"
             ],
             [
              0.5555555555555556,
              "#d8576b"
             ],
             [
              0.6666666666666666,
              "#ed7953"
             ],
             [
              0.7777777777777778,
              "#fb9f3a"
             ],
             [
              0.8888888888888888,
              "#fdca26"
             ],
             [
              1,
              "#f0f921"
             ]
            ],
            "type": "histogram2dcontour"
           }
          ],
          "mesh3d": [
           {
            "colorbar": {
             "outlinewidth": 0,
             "ticks": ""
            },
            "type": "mesh3d"
           }
          ],
          "parcoords": [
           {
            "line": {
             "colorbar": {
              "outlinewidth": 0,
              "ticks": ""
             }
            },
            "type": "parcoords"
           }
          ],
          "pie": [
           {
            "automargin": true,
            "type": "pie"
           }
          ],
          "scatter": [
           {
            "fillpattern": {
             "fillmode": "overlay",
             "size": 10,
             "solidity": 0.2
            },
            "type": "scatter"
           }
          ],
          "scatter3d": [
           {
            "line": {
             "colorbar": {
              "outlinewidth": 0,
              "ticks": ""
             }
            },
            "marker": {
             "colorbar": {
              "outlinewidth": 0,
              "ticks": ""
             }
            },
            "type": "scatter3d"
           }
          ],
          "scattercarpet": [
           {
            "marker": {
             "colorbar": {
              "outlinewidth": 0,
              "ticks": ""
             }
            },
            "type": "scattercarpet"
           }
          ],
          "scattergeo": [
           {
            "marker": {
             "colorbar": {
              "outlinewidth": 0,
              "ticks": ""
             }
            },
            "type": "scattergeo"
           }
          ],
          "scattergl": [
           {
            "marker": {
             "colorbar": {
              "outlinewidth": 0,
              "ticks": ""
             }
            },
            "type": "scattergl"
           }
          ],
          "scattermapbox": [
           {
            "marker": {
             "colorbar": {
              "outlinewidth": 0,
              "ticks": ""
             }
            },
            "type": "scattermapbox"
           }
          ],
          "scatterpolar": [
           {
            "marker": {
             "colorbar": {
              "outlinewidth": 0,
              "ticks": ""
             }
            },
            "type": "scatterpolar"
           }
          ],
          "scatterpolargl": [
           {
            "marker": {
             "colorbar": {
              "outlinewidth": 0,
              "ticks": ""
             }
            },
            "type": "scatterpolargl"
           }
          ],
          "scatterternary": [
           {
            "marker": {
             "colorbar": {
              "outlinewidth": 0,
              "ticks": ""
             }
            },
            "type": "scatterternary"
           }
          ],
          "surface": [
           {
            "colorbar": {
             "outlinewidth": 0,
             "ticks": ""
            },
            "colorscale": [
             [
              0,
              "#0d0887"
             ],
             [
              0.1111111111111111,
              "#46039f"
             ],
             [
              0.2222222222222222,
              "#7201a8"
             ],
             [
              0.3333333333333333,
              "#9c179e"
             ],
             [
              0.4444444444444444,
              "#bd3786"
             ],
             [
              0.5555555555555556,
              "#d8576b"
             ],
             [
              0.6666666666666666,
              "#ed7953"
             ],
             [
              0.7777777777777778,
              "#fb9f3a"
             ],
             [
              0.8888888888888888,
              "#fdca26"
             ],
             [
              1,
              "#f0f921"
             ]
            ],
            "type": "surface"
           }
          ],
          "table": [
           {
            "cells": {
             "fill": {
              "color": "#EBF0F8"
             },
             "line": {
              "color": "white"
             }
            },
            "header": {
             "fill": {
              "color": "#C8D4E3"
             },
             "line": {
              "color": "white"
             }
            },
            "type": "table"
           }
          ]
         },
         "layout": {
          "annotationdefaults": {
           "arrowcolor": "#2a3f5f",
           "arrowhead": 0,
           "arrowwidth": 1
          },
          "autotypenumbers": "strict",
          "coloraxis": {
           "colorbar": {
            "outlinewidth": 0,
            "ticks": ""
           }
          },
          "colorscale": {
           "diverging": [
            [
             0,
             "#8e0152"
            ],
            [
             0.1,
             "#c51b7d"
            ],
            [
             0.2,
             "#de77ae"
            ],
            [
             0.3,
             "#f1b6da"
            ],
            [
             0.4,
             "#fde0ef"
            ],
            [
             0.5,
             "#f7f7f7"
            ],
            [
             0.6,
             "#e6f5d0"
            ],
            [
             0.7,
             "#b8e186"
            ],
            [
             0.8,
             "#7fbc41"
            ],
            [
             0.9,
             "#4d9221"
            ],
            [
             1,
             "#276419"
            ]
           ],
           "sequential": [
            [
             0,
             "#0d0887"
            ],
            [
             0.1111111111111111,
             "#46039f"
            ],
            [
             0.2222222222222222,
             "#7201a8"
            ],
            [
             0.3333333333333333,
             "#9c179e"
            ],
            [
             0.4444444444444444,
             "#bd3786"
            ],
            [
             0.5555555555555556,
             "#d8576b"
            ],
            [
             0.6666666666666666,
             "#ed7953"
            ],
            [
             0.7777777777777778,
             "#fb9f3a"
            ],
            [
             0.8888888888888888,
             "#fdca26"
            ],
            [
             1,
             "#f0f921"
            ]
           ],
           "sequentialminus": [
            [
             0,
             "#0d0887"
            ],
            [
             0.1111111111111111,
             "#46039f"
            ],
            [
             0.2222222222222222,
             "#7201a8"
            ],
            [
             0.3333333333333333,
             "#9c179e"
            ],
            [
             0.4444444444444444,
             "#bd3786"
            ],
            [
             0.5555555555555556,
             "#d8576b"
            ],
            [
             0.6666666666666666,
             "#ed7953"
            ],
            [
             0.7777777777777778,
             "#fb9f3a"
            ],
            [
             0.8888888888888888,
             "#fdca26"
            ],
            [
             1,
             "#f0f921"
            ]
           ]
          },
          "colorway": [
           "#636efa",
           "#EF553B",
           "#00cc96",
           "#ab63fa",
           "#FFA15A",
           "#19d3f3",
           "#FF6692",
           "#B6E880",
           "#FF97FF",
           "#FECB52"
          ],
          "font": {
           "color": "#2a3f5f"
          },
          "geo": {
           "bgcolor": "white",
           "lakecolor": "white",
           "landcolor": "#E5ECF6",
           "showlakes": true,
           "showland": true,
           "subunitcolor": "white"
          },
          "hoverlabel": {
           "align": "left"
          },
          "hovermode": "closest",
          "mapbox": {
           "style": "light"
          },
          "paper_bgcolor": "white",
          "plot_bgcolor": "#E5ECF6",
          "polar": {
           "angularaxis": {
            "gridcolor": "white",
            "linecolor": "white",
            "ticks": ""
           },
           "bgcolor": "#E5ECF6",
           "radialaxis": {
            "gridcolor": "white",
            "linecolor": "white",
            "ticks": ""
           }
          },
          "scene": {
           "xaxis": {
            "backgroundcolor": "#E5ECF6",
            "gridcolor": "white",
            "gridwidth": 2,
            "linecolor": "white",
            "showbackground": true,
            "ticks": "",
            "zerolinecolor": "white"
           },
           "yaxis": {
            "backgroundcolor": "#E5ECF6",
            "gridcolor": "white",
            "gridwidth": 2,
            "linecolor": "white",
            "showbackground": true,
            "ticks": "",
            "zerolinecolor": "white"
           },
           "zaxis": {
            "backgroundcolor": "#E5ECF6",
            "gridcolor": "white",
            "gridwidth": 2,
            "linecolor": "white",
            "showbackground": true,
            "ticks": "",
            "zerolinecolor": "white"
           }
          },
          "shapedefaults": {
           "line": {
            "color": "#2a3f5f"
           }
          },
          "ternary": {
           "aaxis": {
            "gridcolor": "white",
            "linecolor": "white",
            "ticks": ""
           },
           "baxis": {
            "gridcolor": "white",
            "linecolor": "white",
            "ticks": ""
           },
           "bgcolor": "#E5ECF6",
           "caxis": {
            "gridcolor": "white",
            "linecolor": "white",
            "ticks": ""
           }
          },
          "title": {
           "x": 0.05
          },
          "xaxis": {
           "automargin": true,
           "gridcolor": "white",
           "linecolor": "white",
           "ticks": "",
           "title": {
            "standoff": 15
           },
           "zerolinecolor": "white",
           "zerolinewidth": 2
          },
          "yaxis": {
           "automargin": true,
           "gridcolor": "white",
           "linecolor": "white",
           "ticks": "",
           "title": {
            "standoff": 15
           },
           "zerolinecolor": "white",
           "zerolinewidth": 2
          }
         }
        },
        "xaxis": {
         "anchor": "y",
         "domain": [
          0,
          1
         ],
         "title": {
          "text": "Precision"
         }
        },
        "yaxis": {
         "anchor": "x",
         "domain": [
          0,
          1
         ],
         "title": {
          "text": "Recall"
         }
        }
       }
      },
      "text/html": [
       "<div>                            <div id=\"3e8e1d97-caba-49df-b9c7-88249346201e\" class=\"plotly-graph-div\" style=\"height:525px; width:100%;\"></div>            <script type=\"text/javascript\">                require([\"plotly\"], function(Plotly) {                    window.PLOTLYENV=window.PLOTLYENV || {};                                    if (document.getElementById(\"3e8e1d97-caba-49df-b9c7-88249346201e\")) {                    Plotly.newPlot(                        \"3e8e1d97-caba-49df-b9c7-88249346201e\",                        [{\"customdata\":[[\"128\",\"128\",\"3\",\"0.5\",\"True\",0.3697113042165126,0.7728673192744874],[\"256\",\"128\",\"2\",\"0.4\",\"True\",0.34221074051622835,0.7713851883763579],[\"128\",\"128\",\"3\",\"0.4\",\"True\",0.35317376122942995,0.7709426384686549],[\"128\",\"256\",\"2\",\"0.5\",\"True\",0.3476798821772848,0.7707162365365952],[\"256\",\"256\",\"3\",\"0.5\",\"True\",0.37005034035870005,0.7703676690978943],[\"256\",\"128\",\"2\",\"0.5\",\"True\",0.34389801549592186,0.7703472362684354],[\"256\",\"128\",\"4\",\"0.5\",\"True\",0.38139854105455534,0.7678626855976302],[\"256\",\"256\",\"4\",\"0.3\",\"True\",0.3876260199717113,0.7676774794138294],[\"256\",\"128\",\"3\",\"0.5\",\"True\",0.37880268041044474,0.7661642532831576],[\"128\",\"128\",\"2\",\"0.4\",\"True\",0.3365100904234818,0.7635643002534421],[\"128\",\"256\",\"3\",\"0.4\",\"True\",0.3597330818218844,0.7626763524450416],[\"128\",\"128\",\"2\",\"0.3\",\"True\",0.3460659049451351,0.7618724517868047],[\"128\",\"256\",\"4\",\"0.3\",\"True\",0.3731510490179062,0.7617378190624945],[\"128\",\"256\",\"4\",\"0.4\",\"True\",0.36386735763932976,0.7616636174917251],[\"128\",\"256\",\"3\",\"0.5\",\"True\",0.3629532556182572,0.7604680623207363],[\"128\",\"128\",\"2\",\"0.5\",\"True\",0.35028490530593054,0.759289247110803],[\"128\",\"256\",\"2\",\"0.3\",\"True\",0.3608571268352015,0.7584553651314526],[\"128\",\"128\",\"4\",\"0.3\",\"True\",0.3633938379851835,0.7580261784190553],[\"256\",\"128\",\"3\",\"0.3\",\"True\",0.3453159789953913,0.7576919784395455],[\"256\",\"256\",\"2\",\"0.5\",\"True\",0.35502139878060135,0.7573457866091154],[\"128\",\"128\",\"4\",\"0.5\",\"True\",0.3695266277396253,0.7563769447576607],[\"256\",\"256\",\"3\",\"0.3\",\"True\",0.36911941612405436,0.7549931781175182],[\"256\",\"128\",\"4\",\"0.4\",\"True\",0.37442718220076393,0.7542022760328607],[\"128\",\"256\",\"3\",\"0.3\",\"True\",0.36898504809609484,0.7535841844175907],[\"256\",\"128\",\"4\",\"0.3\",\"True\",0.3589551237278751,0.752853274040778],[\"128\",\"256\",\"2\",\"0.4\",\"True\",0.3517009260665093,0.7527695868713309],[\"256\",\"256\",\"2\",\"0.4\",\"True\",0.3524959443935326,0.7515356146533835],[\"128\",\"128\",\"4\",\"0.4\",\"True\",0.3709092094962086,0.7509497563976761],[\"256\",\"128\",\"3\",\"0.4\",\"True\",0.3720781115282859,0.7507605236486584],[\"128\",\"128\",\"3\",\"0.3\",\"True\",0.34733551860387835,0.7503771640512718],[\"256\",\"128\",\"2\",\"0.3\",\"True\",0.34036281146109104,0.750094555796853],[\"256\",\"256\",\"2\",\"0.3\",\"True\",0.36068781385464327,0.7490484895730198],[\"256\",\"256\",\"4\",\"0.4\",\"True\",0.37482575779514654,0.7485739198795571],[\"128\",\"256\",\"4\",\"0.5\",\"True\",0.3979136025799172,0.7466997744600555],[\"256\",\"256\",\"4\",\"0.5\",\"True\",0.39938973635435104,0.7366043394754819],[\"256\",\"256\",\"3\",\"0.4\",\"True\",0.3696577443874308,0.73347103950685]],\"hovertemplate\":\"BIDIRECTIONAL=%{customdata[4]}<br>Precision=%{x}<br>Recall=%{y}<br>EMBEDDING_DIM=%{customdata[0]}<br>HIDDEN_DIM=%{customdata[1]}<br>N_LAYERS=%{customdata[2]}<br>DROPOUT=%{customdata[3]}<br>Loss=%{customdata[5]}<br>F1-score=%{customdata[6]}<extra></extra>\",\"legendgroup\":\"True\",\"marker\":{\"color\":\"#636efa\",\"symbol\":\"circle\"},\"mode\":\"markers\",\"name\":\"True\",\"orientation\":\"v\",\"showlegend\":true,\"x\":[0.8057463665240981,0.7967514813271822,0.796237419283604,0.7950481043877257,0.7736235427024729,0.802819781467449,0.770899261163453,0.790341396786279,0.772384695057647,0.7948830460691204,0.783900230725422,0.7824896864500711,0.756810088940603,0.7896958542480093,0.7785509991411494,0.80611200922634,0.8130929491333679,0.7622788971696105,0.8149516483285134,0.7765366695274837,0.7675237089036259,0.7934530126813462,0.7468058830739391,0.7933060321635128,0.7716568124475335,0.813483198582565,0.8033409570617314,0.7817347707922903,0.74628522415857,0.7802492279897845,0.7867273946795901,0.8160936695901327,0.7554498694779274,0.7493948050208975,0.7518257306953096,0.7767013444440092],\"xaxis\":\"x\",\"y\":[0.7476476379417006,0.7534863725382372,0.7518631149882464,0.7533213445005862,0.7719772721681065,0.7453836116478489,0.7689151456084992,0.7515043284860019,0.7657708500712203,0.7404269732017669,0.7469647425224168,0.7472187148244629,0.7717508734007695,0.7409931839054245,0.7476079342600724,0.7239605996701562,0.7158818090294835,0.7582055613401089,0.7132602475900972,0.7443622079612762,0.7497917573968851,0.7252659620498054,0.7671812312991618,0.7218517671538851,0.740687559863435,0.7058726775216929,0.7109543358176001,0.7280401179326105,0.7591696515030236,0.7277870954810927,0.7215811945378997,0.6981470943416064,0.7456170155178219,0.7494986887485852,0.7265790930037185,0.6999676327410044],\"yaxis\":\"y\",\"type\":\"scatter\"},{\"customdata\":[[\"256\",\"256\",\"2\",\"0.5\",\"False\",0.38542509943779024,0.7520707318845146],[\"256\",\"256\",\"2\",\"0.3\",\"False\",0.364683327664222,0.7488355057353845],[\"128\",\"256\",\"4\",\"0.3\",\"False\",0.4037081722968391,0.7480819667343389],[\"128\",\"256\",\"3\",\"0.5\",\"False\",0.39601073374173473,0.7475362009445738],[\"256\",\"128\",\"3\",\"0.3\",\"False\",0.3788953588477203,0.7460880175166771],[\"128\",\"256\",\"2\",\"0.5\",\"False\",0.36689077889812843,0.7445904276732433],[\"256\",\"256\",\"2\",\"0.4\",\"False\",0.3709497945383191,0.7442073521364918],[\"256\",\"256\",\"3\",\"0.5\",\"False\",0.39790256654045414,0.7432514875937101],[\"128\",\"128\",\"3\",\"0.4\",\"False\",0.39266619139484,0.7429008595478676],[\"128\",\"128\",\"2\",\"0.4\",\"False\",0.3766097306673016,0.7412358465285942],[\"128\",\"256\",\"3\",\"0.3\",\"False\",0.3856989783900125,0.7356988949141546],[\"128\",\"128\",\"4\",\"0.5\",\"False\",0.4144780074379274,0.7345210716148056],[\"128\",\"128\",\"3\",\"0.5\",\"False\",0.40393281794552294,0.7342904665743281],[\"256\",\"128\",\"3\",\"0.5\",\"False\",0.40374900214374065,0.7327972416598035],[\"256\",\"128\",\"2\",\"0.4\",\"False\",0.37534074378865107,0.7315908362344125],[\"256\",\"128\",\"2\",\"0.3\",\"False\",0.3728190359792539,0.7312999259762873],[\"128\",\"128\",\"3\",\"0.3\",\"False\",0.38390264846384525,0.7312386934415749],[\"128\",\"128\",\"4\",\"0.4\",\"False\",0.40553733919348034,0.7310874784907783],[\"256\",\"256\",\"4\",\"0.3\",\"False\",0.39773121422954966,0.7309893522092681],[\"128\",\"128\",\"2\",\"0.3\",\"False\",0.375959220209292,0.730920896261143],[\"128\",\"256\",\"2\",\"0.4\",\"False\",0.37840505928865503,0.7305525739581143],[\"256\",\"256\",\"3\",\"0.4\",\"False\",0.3930749488728387,0.7297821527198792],[\"128\",\"256\",\"2\",\"0.3\",\"False\",0.37867578119039536,0.7297380376814203],[\"256\",\"128\",\"3\",\"0.4\",\"False\",0.38885761238634586,0.7289634197930294],[\"256\",\"256\",\"4\",\"0.4\",\"False\",0.4098474681377411,0.727581763608286],[\"256\",\"256\",\"3\",\"0.3\",\"False\",0.3881118526416166,0.7274839443619193],[\"128\",\"128\",\"2\",\"0.5\",\"False\",0.38541420522545067,0.7267510700619659],[\"128\",\"256\",\"3\",\"0.4\",\"False\",0.3944123684029494,0.7264144365334816],[\"256\",\"128\",\"2\",\"0.5\",\"False\",0.3891112780464547,0.7243378659092243],[\"128\",\"128\",\"4\",\"0.3\",\"False\",0.3924211008208139,0.7237804109210717],[\"256\",\"256\",\"4\",\"0.5\",\"False\",0.4258381293288299,0.7208708004671803],[\"256\",\"128\",\"4\",\"0.4\",\"False\",0.41114960531038897,0.7208493091185459],[\"256\",\"128\",\"4\",\"0.3\",\"False\",0.3953897442136492,0.7169744839840202],[\"128\",\"256\",\"4\",\"0.4\",\"False\",0.4132174930668303,0.7148601633981216],[\"256\",\"128\",\"4\",\"0.5\",\"False\",0.421537935467703,0.7146887856658942],[\"128\",\"256\",\"4\",\"0.5\",\"False\",0.42349120868103846,0.7082447851215121]],\"hovertemplate\":\"BIDIRECTIONAL=%{customdata[4]}<br>Precision=%{x}<br>Recall=%{y}<br>EMBEDDING_DIM=%{customdata[0]}<br>HIDDEN_DIM=%{customdata[1]}<br>N_LAYERS=%{customdata[2]}<br>DROPOUT=%{customdata[3]}<br>Loss=%{customdata[5]}<br>F1-score=%{customdata[6]}<extra></extra>\",\"legendgroup\":\"False\",\"marker\":{\"color\":\"#EF553B\",\"symbol\":\"circle\"},\"mode\":\"markers\",\"name\":\"False\",\"orientation\":\"v\",\"showlegend\":true,\"x\":[0.7832084698872324,0.78373555647768,0.7782532601118233,0.7607101297999408,0.7774093879896034,0.7758955195205732,0.7861118281809283,0.7449528532591145,0.773382695987249,0.7780092337191736,0.7733548174831949,0.7460755568311045,0.7614977326339487,0.7580961959005699,0.7564928795276744,0.7727836048421114,0.7718173105567894,0.7518816344978194,0.7335636532744383,0.7798492941980427,0.7829205099959962,0.7874927397938006,0.7702650484915043,0.7480268077293485,0.757754520860571,0.7665311709088055,0.7622027673604527,0.7645218980441513,0.774844513694022,0.7489165792465945,0.7498552813662934,0.7464275578814268,0.7346368478644711,0.737416610952293,0.7142330360051089,0.7283447694745492],\"xaxis\":\"x\",\"y\":[0.727923948229999,0.7217169305338516,0.7255443061575411,0.7387745791915027,0.7220035062390897,0.720870964754595,0.7117144451395065,0.7462647053421199,0.7195175104588023,0.7128464704106747,0.7068427464437673,0.7285889549051816,0.7140098939809679,0.7146873345265472,0.712977346128867,0.6985053014822883,0.6999215416319414,0.7163412966724211,0.7340226291852108,0.6927194563261192,0.6900116383447639,0.6851034085469031,0.6983310811266376,0.7147371459482338,0.704680442555123,0.6968871787397618,0.6994037109653507,0.6968271821821076,0.6853012888013009,0.7060991775713535,0.6986816712591161,0.702300184872281,0.7053016352391441,0.6983934355002638,0.7194803612753822,0.6948255990539819],\"yaxis\":\"y\",\"type\":\"scatter\"}],                        {\"template\":{\"data\":{\"histogram2dcontour\":[{\"type\":\"histogram2dcontour\",\"colorbar\":{\"outlinewidth\":0,\"ticks\":\"\"},\"colorscale\":[[0.0,\"#0d0887\"],[0.1111111111111111,\"#46039f\"],[0.2222222222222222,\"#7201a8\"],[0.3333333333333333,\"#9c179e\"],[0.4444444444444444,\"#bd3786\"],[0.5555555555555556,\"#d8576b\"],[0.6666666666666666,\"#ed7953\"],[0.7777777777777778,\"#fb9f3a\"],[0.8888888888888888,\"#fdca26\"],[1.0,\"#f0f921\"]]}],\"choropleth\":[{\"type\":\"choropleth\",\"colorbar\":{\"outlinewidth\":0,\"ticks\":\"\"}}],\"histogram2d\":[{\"type\":\"histogram2d\",\"colorbar\":{\"outlinewidth\":0,\"ticks\":\"\"},\"colorscale\":[[0.0,\"#0d0887\"],[0.1111111111111111,\"#46039f\"],[0.2222222222222222,\"#7201a8\"],[0.3333333333333333,\"#9c179e\"],[0.4444444444444444,\"#bd3786\"],[0.5555555555555556,\"#d8576b\"],[0.6666666666666666,\"#ed7953\"],[0.7777777777777778,\"#fb9f3a\"],[0.8888888888888888,\"#fdca26\"],[1.0,\"#f0f921\"]]}],\"heatmap\":[{\"type\":\"heatmap\",\"colorbar\":{\"outlinewidth\":0,\"ticks\":\"\"},\"colorscale\":[[0.0,\"#0d0887\"],[0.1111111111111111,\"#46039f\"],[0.2222222222222222,\"#7201a8\"],[0.3333333333333333,\"#9c179e\"],[0.4444444444444444,\"#bd3786\"],[0.5555555555555556,\"#d8576b\"],[0.6666666666666666,\"#ed7953\"],[0.7777777777777778,\"#fb9f3a\"],[0.8888888888888888,\"#fdca26\"],[1.0,\"#f0f921\"]]}],\"heatmapgl\":[{\"type\":\"heatmapgl\",\"colorbar\":{\"outlinewidth\":0,\"ticks\":\"\"},\"colorscale\":[[0.0,\"#0d0887\"],[0.1111111111111111,\"#46039f\"],[0.2222222222222222,\"#7201a8\"],[0.3333333333333333,\"#9c179e\"],[0.4444444444444444,\"#bd3786\"],[0.5555555555555556,\"#d8576b\"],[0.6666666666666666,\"#ed7953\"],[0.7777777777777778,\"#fb9f3a\"],[0.8888888888888888,\"#fdca26\"],[1.0,\"#f0f921\"]]}],\"contourcarpet\":[{\"type\":\"contourcarpet\",\"colorbar\":{\"outlinewidth\":0,\"ticks\":\"\"}}],\"contour\":[{\"type\":\"contour\",\"colorbar\":{\"outlinewidth\":0,\"ticks\":\"\"},\"colorscale\":[[0.0,\"#0d0887\"],[0.1111111111111111,\"#46039f\"],[0.2222222222222222,\"#7201a8\"],[0.3333333333333333,\"#9c179e\"],[0.4444444444444444,\"#bd3786\"],[0.5555555555555556,\"#d8576b\"],[0.6666666666666666,\"#ed7953\"],[0.7777777777777778,\"#fb9f3a\"],[0.8888888888888888,\"#fdca26\"],[1.0,\"#f0f921\"]]}],\"surface\":[{\"type\":\"surface\",\"colorbar\":{\"outlinewidth\":0,\"ticks\":\"\"},\"colorscale\":[[0.0,\"#0d0887\"],[0.1111111111111111,\"#46039f\"],[0.2222222222222222,\"#7201a8\"],[0.3333333333333333,\"#9c179e\"],[0.4444444444444444,\"#bd3786\"],[0.5555555555555556,\"#d8576b\"],[0.6666666666666666,\"#ed7953\"],[0.7777777777777778,\"#fb9f3a\"],[0.8888888888888888,\"#fdca26\"],[1.0,\"#f0f921\"]]}],\"mesh3d\":[{\"type\":\"mesh3d\",\"colorbar\":{\"outlinewidth\":0,\"ticks\":\"\"}}],\"scatter\":[{\"fillpattern\":{\"fillmode\":\"overlay\",\"size\":10,\"solidity\":0.2},\"type\":\"scatter\"}],\"parcoords\":[{\"type\":\"parcoords\",\"line\":{\"colorbar\":{\"outlinewidth\":0,\"ticks\":\"\"}}}],\"scatterpolargl\":[{\"type\":\"scatterpolargl\",\"marker\":{\"colorbar\":{\"outlinewidth\":0,\"ticks\":\"\"}}}],\"bar\":[{\"error_x\":{\"color\":\"#2a3f5f\"},\"error_y\":{\"color\":\"#2a3f5f\"},\"marker\":{\"line\":{\"color\":\"#E5ECF6\",\"width\":0.5},\"pattern\":{\"fillmode\":\"overlay\",\"size\":10,\"solidity\":0.2}},\"type\":\"bar\"}],\"scattergeo\":[{\"type\":\"scattergeo\",\"marker\":{\"colorbar\":{\"outlinewidth\":0,\"ticks\":\"\"}}}],\"scatterpolar\":[{\"type\":\"scatterpolar\",\"marker\":{\"colorbar\":{\"outlinewidth\":0,\"ticks\":\"\"}}}],\"histogram\":[{\"marker\":{\"pattern\":{\"fillmode\":\"overlay\",\"size\":10,\"solidity\":0.2}},\"type\":\"histogram\"}],\"scattergl\":[{\"type\":\"scattergl\",\"marker\":{\"colorbar\":{\"outlinewidth\":0,\"ticks\":\"\"}}}],\"scatter3d\":[{\"type\":\"scatter3d\",\"line\":{\"colorbar\":{\"outlinewidth\":0,\"ticks\":\"\"}},\"marker\":{\"colorbar\":{\"outlinewidth\":0,\"ticks\":\"\"}}}],\"scattermapbox\":[{\"type\":\"scattermapbox\",\"marker\":{\"colorbar\":{\"outlinewidth\":0,\"ticks\":\"\"}}}],\"scatterternary\":[{\"type\":\"scatterternary\",\"marker\":{\"colorbar\":{\"outlinewidth\":0,\"ticks\":\"\"}}}],\"scattercarpet\":[{\"type\":\"scattercarpet\",\"marker\":{\"colorbar\":{\"outlinewidth\":0,\"ticks\":\"\"}}}],\"carpet\":[{\"aaxis\":{\"endlinecolor\":\"#2a3f5f\",\"gridcolor\":\"white\",\"linecolor\":\"white\",\"minorgridcolor\":\"white\",\"startlinecolor\":\"#2a3f5f\"},\"baxis\":{\"endlinecolor\":\"#2a3f5f\",\"gridcolor\":\"white\",\"linecolor\":\"white\",\"minorgridcolor\":\"white\",\"startlinecolor\":\"#2a3f5f\"},\"type\":\"carpet\"}],\"table\":[{\"cells\":{\"fill\":{\"color\":\"#EBF0F8\"},\"line\":{\"color\":\"white\"}},\"header\":{\"fill\":{\"color\":\"#C8D4E3\"},\"line\":{\"color\":\"white\"}},\"type\":\"table\"}],\"barpolar\":[{\"marker\":{\"line\":{\"color\":\"#E5ECF6\",\"width\":0.5},\"pattern\":{\"fillmode\":\"overlay\",\"size\":10,\"solidity\":0.2}},\"type\":\"barpolar\"}],\"pie\":[{\"automargin\":true,\"type\":\"pie\"}]},\"layout\":{\"autotypenumbers\":\"strict\",\"colorway\":[\"#636efa\",\"#EF553B\",\"#00cc96\",\"#ab63fa\",\"#FFA15A\",\"#19d3f3\",\"#FF6692\",\"#B6E880\",\"#FF97FF\",\"#FECB52\"],\"font\":{\"color\":\"#2a3f5f\"},\"hovermode\":\"closest\",\"hoverlabel\":{\"align\":\"left\"},\"paper_bgcolor\":\"white\",\"plot_bgcolor\":\"#E5ECF6\",\"polar\":{\"bgcolor\":\"#E5ECF6\",\"angularaxis\":{\"gridcolor\":\"white\",\"linecolor\":\"white\",\"ticks\":\"\"},\"radialaxis\":{\"gridcolor\":\"white\",\"linecolor\":\"white\",\"ticks\":\"\"}},\"ternary\":{\"bgcolor\":\"#E5ECF6\",\"aaxis\":{\"gridcolor\":\"white\",\"linecolor\":\"white\",\"ticks\":\"\"},\"baxis\":{\"gridcolor\":\"white\",\"linecolor\":\"white\",\"ticks\":\"\"},\"caxis\":{\"gridcolor\":\"white\",\"linecolor\":\"white\",\"ticks\":\"\"}},\"coloraxis\":{\"colorbar\":{\"outlinewidth\":0,\"ticks\":\"\"}},\"colorscale\":{\"sequential\":[[0.0,\"#0d0887\"],[0.1111111111111111,\"#46039f\"],[0.2222222222222222,\"#7201a8\"],[0.3333333333333333,\"#9c179e\"],[0.4444444444444444,\"#bd3786\"],[0.5555555555555556,\"#d8576b\"],[0.6666666666666666,\"#ed7953\"],[0.7777777777777778,\"#fb9f3a\"],[0.8888888888888888,\"#fdca26\"],[1.0,\"#f0f921\"]],\"sequentialminus\":[[0.0,\"#0d0887\"],[0.1111111111111111,\"#46039f\"],[0.2222222222222222,\"#7201a8\"],[0.3333333333333333,\"#9c179e\"],[0.4444444444444444,\"#bd3786\"],[0.5555555555555556,\"#d8576b\"],[0.6666666666666666,\"#ed7953\"],[0.7777777777777778,\"#fb9f3a\"],[0.8888888888888888,\"#fdca26\"],[1.0,\"#f0f921\"]],\"diverging\":[[0,\"#8e0152\"],[0.1,\"#c51b7d\"],[0.2,\"#de77ae\"],[0.3,\"#f1b6da\"],[0.4,\"#fde0ef\"],[0.5,\"#f7f7f7\"],[0.6,\"#e6f5d0\"],[0.7,\"#b8e186\"],[0.8,\"#7fbc41\"],[0.9,\"#4d9221\"],[1,\"#276419\"]]},\"xaxis\":{\"gridcolor\":\"white\",\"linecolor\":\"white\",\"ticks\":\"\",\"title\":{\"standoff\":15},\"zerolinecolor\":\"white\",\"automargin\":true,\"zerolinewidth\":2},\"yaxis\":{\"gridcolor\":\"white\",\"linecolor\":\"white\",\"ticks\":\"\",\"title\":{\"standoff\":15},\"zerolinecolor\":\"white\",\"automargin\":true,\"zerolinewidth\":2},\"scene\":{\"xaxis\":{\"backgroundcolor\":\"#E5ECF6\",\"gridcolor\":\"white\",\"linecolor\":\"white\",\"showbackground\":true,\"ticks\":\"\",\"zerolinecolor\":\"white\",\"gridwidth\":2},\"yaxis\":{\"backgroundcolor\":\"#E5ECF6\",\"gridcolor\":\"white\",\"linecolor\":\"white\",\"showbackground\":true,\"ticks\":\"\",\"zerolinecolor\":\"white\",\"gridwidth\":2},\"zaxis\":{\"backgroundcolor\":\"#E5ECF6\",\"gridcolor\":\"white\",\"linecolor\":\"white\",\"showbackground\":true,\"ticks\":\"\",\"zerolinecolor\":\"white\",\"gridwidth\":2}},\"shapedefaults\":{\"line\":{\"color\":\"#2a3f5f\"}},\"annotationdefaults\":{\"arrowcolor\":\"#2a3f5f\",\"arrowhead\":0,\"arrowwidth\":1},\"geo\":{\"bgcolor\":\"white\",\"landcolor\":\"#E5ECF6\",\"subunitcolor\":\"white\",\"showland\":true,\"showlakes\":true,\"lakecolor\":\"white\"},\"title\":{\"x\":0.05},\"mapbox\":{\"style\":\"light\"}}},\"xaxis\":{\"anchor\":\"y\",\"domain\":[0.0,1.0],\"title\":{\"text\":\"Precision\"}},\"yaxis\":{\"anchor\":\"x\",\"domain\":[0.0,1.0],\"title\":{\"text\":\"Recall\"}},\"legend\":{\"title\":{\"text\":\"BIDIRECTIONAL\"},\"tracegroupgap\":0},\"margin\":{\"t\":60}},                        {\"responsive\": true}                    ).then(function(){\n",
       "                            \n",
       "var gd = document.getElementById('3e8e1d97-caba-49df-b9c7-88249346201e');\n",
       "var x = new MutationObserver(function (mutations, observer) {{\n",
       "        var display = window.getComputedStyle(gd).display;\n",
       "        if (!display || display === 'none') {{\n",
       "            console.log([gd, 'removed!']);\n",
       "            Plotly.purge(gd);\n",
       "            observer.disconnect();\n",
       "        }}\n",
       "}});\n",
       "\n",
       "// Listen for the removal of the full notebook cells\n",
       "var notebookContainer = gd.closest('#notebook-container');\n",
       "if (notebookContainer) {{\n",
       "    x.observe(notebookContainer, {childList: true});\n",
       "}}\n",
       "\n",
       "// Listen for the clearing of the current output cell\n",
       "var outputEl = gd.closest('.output');\n",
       "if (outputEl) {{\n",
       "    x.observe(outputEl, {childList: true});\n",
       "}}\n",
       "\n",
       "                        })                };                });            </script>        </div>"
      ]
     },
     "metadata": {},
     "output_type": "display_data"
    }
   ],
   "source": [
    "import plotly.express as px\n",
    "\n",
    "px.scatter(df_gridsearch, x=\"Precision\", y=\"Recall\", color=\"BIDIRECTIONAL\", hover_data=df_gridsearch.columns)"
   ]
  },
  {
   "cell_type": "code",
   "execution_count": 86,
   "id": "0b5e6984",
   "metadata": {},
   "outputs": [
    {
     "data": {
      "application/vnd.plotly.v1+json": {
       "config": {
        "plotlyServerURL": "https://plot.ly"
       },
       "data": [
        {
         "customdata": [
          [
           "128",
           "128",
           "3",
           "0.5",
           "True",
           0.3697113042165126,
           0.7728673192744874
          ],
          [
           "128",
           "128",
           "3",
           "0.4",
           "True",
           0.35317376122942995,
           0.7709426384686549
          ],
          [
           "256",
           "256",
           "3",
           "0.5",
           "True",
           0.37005034035870005,
           0.7703676690978943
          ],
          [
           "256",
           "128",
           "3",
           "0.5",
           "True",
           0.37880268041044474,
           0.7661642532831576
          ],
          [
           "128",
           "256",
           "3",
           "0.4",
           "True",
           0.3597330818218844,
           0.7626763524450416
          ],
          [
           "128",
           "256",
           "3",
           "0.5",
           "True",
           0.3629532556182572,
           0.7604680623207363
          ],
          [
           "256",
           "128",
           "3",
           "0.3",
           "True",
           0.3453159789953913,
           0.7576919784395455
          ],
          [
           "256",
           "256",
           "3",
           "0.3",
           "True",
           0.36911941612405436,
           0.7549931781175182
          ],
          [
           "128",
           "256",
           "3",
           "0.3",
           "True",
           0.36898504809609484,
           0.7535841844175907
          ],
          [
           "256",
           "128",
           "3",
           "0.4",
           "True",
           0.3720781115282859,
           0.7507605236486584
          ],
          [
           "128",
           "128",
           "3",
           "0.3",
           "True",
           0.34733551860387835,
           0.7503771640512718
          ],
          [
           "256",
           "256",
           "3",
           "0.4",
           "True",
           0.3696577443874308,
           0.73347103950685
          ]
         ],
         "hovertemplate": "N_LAYERS=%{customdata[2]}<br>Precision=%{x}<br>Recall=%{y}<br>EMBEDDING_DIM=%{customdata[0]}<br>HIDDEN_DIM=%{customdata[1]}<br>DROPOUT=%{customdata[3]}<br>BIDIRECTIONAL=%{customdata[4]}<br>Loss=%{customdata[5]}<br>F1-score=%{customdata[6]}<extra></extra>",
         "legendgroup": "3",
         "marker": {
          "color": "#636efa",
          "symbol": "circle"
         },
         "mode": "markers",
         "name": "3",
         "orientation": "v",
         "showlegend": true,
         "type": "scatter",
         "x": [
          0.8057463665240981,
          0.796237419283604,
          0.7736235427024729,
          0.772384695057647,
          0.783900230725422,
          0.7785509991411494,
          0.8149516483285134,
          0.7934530126813462,
          0.7933060321635128,
          0.74628522415857,
          0.7802492279897845,
          0.7767013444440092
         ],
         "xaxis": "x",
         "y": [
          0.7476476379417006,
          0.7518631149882464,
          0.7719772721681065,
          0.7657708500712203,
          0.7469647425224168,
          0.7476079342600724,
          0.7132602475900972,
          0.7252659620498054,
          0.7218517671538851,
          0.7591696515030236,
          0.7277870954810927,
          0.6999676327410044
         ],
         "yaxis": "y"
        },
        {
         "customdata": [
          [
           "256",
           "128",
           "2",
           "0.4",
           "True",
           0.34221074051622835,
           0.7713851883763579
          ],
          [
           "128",
           "256",
           "2",
           "0.5",
           "True",
           0.3476798821772848,
           0.7707162365365952
          ],
          [
           "256",
           "128",
           "2",
           "0.5",
           "True",
           0.34389801549592186,
           0.7703472362684354
          ],
          [
           "128",
           "128",
           "2",
           "0.4",
           "True",
           0.3365100904234818,
           0.7635643002534421
          ],
          [
           "128",
           "128",
           "2",
           "0.3",
           "True",
           0.3460659049451351,
           0.7618724517868047
          ],
          [
           "128",
           "128",
           "2",
           "0.5",
           "True",
           0.35028490530593054,
           0.759289247110803
          ],
          [
           "128",
           "256",
           "2",
           "0.3",
           "True",
           0.3608571268352015,
           0.7584553651314526
          ],
          [
           "256",
           "256",
           "2",
           "0.5",
           "True",
           0.35502139878060135,
           0.7573457866091154
          ],
          [
           "128",
           "256",
           "2",
           "0.4",
           "True",
           0.3517009260665093,
           0.7527695868713309
          ],
          [
           "256",
           "256",
           "2",
           "0.4",
           "True",
           0.3524959443935326,
           0.7515356146533835
          ],
          [
           "256",
           "128",
           "2",
           "0.3",
           "True",
           0.34036281146109104,
           0.750094555796853
          ],
          [
           "256",
           "256",
           "2",
           "0.3",
           "True",
           0.36068781385464327,
           0.7490484895730198
          ]
         ],
         "hovertemplate": "N_LAYERS=%{customdata[2]}<br>Precision=%{x}<br>Recall=%{y}<br>EMBEDDING_DIM=%{customdata[0]}<br>HIDDEN_DIM=%{customdata[1]}<br>DROPOUT=%{customdata[3]}<br>BIDIRECTIONAL=%{customdata[4]}<br>Loss=%{customdata[5]}<br>F1-score=%{customdata[6]}<extra></extra>",
         "legendgroup": "2",
         "marker": {
          "color": "#EF553B",
          "symbol": "circle"
         },
         "mode": "markers",
         "name": "2",
         "orientation": "v",
         "showlegend": true,
         "type": "scatter",
         "x": [
          0.7967514813271822,
          0.7950481043877257,
          0.802819781467449,
          0.7948830460691204,
          0.7824896864500711,
          0.80611200922634,
          0.8130929491333679,
          0.7765366695274837,
          0.813483198582565,
          0.8033409570617314,
          0.7867273946795901,
          0.8160936695901327
         ],
         "xaxis": "x",
         "y": [
          0.7534863725382372,
          0.7533213445005862,
          0.7453836116478489,
          0.7404269732017669,
          0.7472187148244629,
          0.7239605996701562,
          0.7158818090294835,
          0.7443622079612762,
          0.7058726775216929,
          0.7109543358176001,
          0.7215811945378997,
          0.6981470943416064
         ],
         "yaxis": "y"
        },
        {
         "customdata": [
          [
           "256",
           "128",
           "4",
           "0.5",
           "True",
           0.38139854105455534,
           0.7678626855976302
          ],
          [
           "256",
           "256",
           "4",
           "0.3",
           "True",
           0.3876260199717113,
           0.7676774794138294
          ],
          [
           "128",
           "256",
           "4",
           "0.3",
           "True",
           0.3731510490179062,
           0.7617378190624945
          ],
          [
           "128",
           "256",
           "4",
           "0.4",
           "True",
           0.36386735763932976,
           0.7616636174917251
          ],
          [
           "128",
           "128",
           "4",
           "0.3",
           "True",
           0.3633938379851835,
           0.7580261784190553
          ],
          [
           "128",
           "128",
           "4",
           "0.5",
           "True",
           0.3695266277396253,
           0.7563769447576607
          ],
          [
           "256",
           "128",
           "4",
           "0.4",
           "True",
           0.37442718220076393,
           0.7542022760328607
          ],
          [
           "256",
           "128",
           "4",
           "0.3",
           "True",
           0.3589551237278751,
           0.752853274040778
          ],
          [
           "128",
           "128",
           "4",
           "0.4",
           "True",
           0.3709092094962086,
           0.7509497563976761
          ],
          [
           "256",
           "256",
           "4",
           "0.4",
           "True",
           0.37482575779514654,
           0.7485739198795571
          ],
          [
           "128",
           "256",
           "4",
           "0.5",
           "True",
           0.3979136025799172,
           0.7466997744600555
          ],
          [
           "256",
           "256",
           "4",
           "0.5",
           "True",
           0.39938973635435104,
           0.7366043394754819
          ]
         ],
         "hovertemplate": "N_LAYERS=%{customdata[2]}<br>Precision=%{x}<br>Recall=%{y}<br>EMBEDDING_DIM=%{customdata[0]}<br>HIDDEN_DIM=%{customdata[1]}<br>DROPOUT=%{customdata[3]}<br>BIDIRECTIONAL=%{customdata[4]}<br>Loss=%{customdata[5]}<br>F1-score=%{customdata[6]}<extra></extra>",
         "legendgroup": "4",
         "marker": {
          "color": "#00cc96",
          "symbol": "circle"
         },
         "mode": "markers",
         "name": "4",
         "orientation": "v",
         "showlegend": true,
         "type": "scatter",
         "x": [
          0.770899261163453,
          0.790341396786279,
          0.756810088940603,
          0.7896958542480093,
          0.7622788971696105,
          0.7675237089036259,
          0.7468058830739391,
          0.7716568124475335,
          0.7817347707922903,
          0.7554498694779274,
          0.7493948050208975,
          0.7518257306953096
         ],
         "xaxis": "x",
         "y": [
          0.7689151456084992,
          0.7515043284860019,
          0.7717508734007695,
          0.7409931839054245,
          0.7582055613401089,
          0.7497917573968851,
          0.7671812312991618,
          0.740687559863435,
          0.7280401179326105,
          0.7456170155178219,
          0.7494986887485852,
          0.7265790930037185
         ],
         "yaxis": "y"
        }
       ],
       "layout": {
        "legend": {
         "title": {
          "text": "N_LAYERS"
         },
         "tracegroupgap": 0
        },
        "margin": {
         "t": 60
        },
        "template": {
         "data": {
          "bar": [
           {
            "error_x": {
             "color": "#2a3f5f"
            },
            "error_y": {
             "color": "#2a3f5f"
            },
            "marker": {
             "line": {
              "color": "#E5ECF6",
              "width": 0.5
             },
             "pattern": {
              "fillmode": "overlay",
              "size": 10,
              "solidity": 0.2
             }
            },
            "type": "bar"
           }
          ],
          "barpolar": [
           {
            "marker": {
             "line": {
              "color": "#E5ECF6",
              "width": 0.5
             },
             "pattern": {
              "fillmode": "overlay",
              "size": 10,
              "solidity": 0.2
             }
            },
            "type": "barpolar"
           }
          ],
          "carpet": [
           {
            "aaxis": {
             "endlinecolor": "#2a3f5f",
             "gridcolor": "white",
             "linecolor": "white",
             "minorgridcolor": "white",
             "startlinecolor": "#2a3f5f"
            },
            "baxis": {
             "endlinecolor": "#2a3f5f",
             "gridcolor": "white",
             "linecolor": "white",
             "minorgridcolor": "white",
             "startlinecolor": "#2a3f5f"
            },
            "type": "carpet"
           }
          ],
          "choropleth": [
           {
            "colorbar": {
             "outlinewidth": 0,
             "ticks": ""
            },
            "type": "choropleth"
           }
          ],
          "contour": [
           {
            "colorbar": {
             "outlinewidth": 0,
             "ticks": ""
            },
            "colorscale": [
             [
              0,
              "#0d0887"
             ],
             [
              0.1111111111111111,
              "#46039f"
             ],
             [
              0.2222222222222222,
              "#7201a8"
             ],
             [
              0.3333333333333333,
              "#9c179e"
             ],
             [
              0.4444444444444444,
              "#bd3786"
             ],
             [
              0.5555555555555556,
              "#d8576b"
             ],
             [
              0.6666666666666666,
              "#ed7953"
             ],
             [
              0.7777777777777778,
              "#fb9f3a"
             ],
             [
              0.8888888888888888,
              "#fdca26"
             ],
             [
              1,
              "#f0f921"
             ]
            ],
            "type": "contour"
           }
          ],
          "contourcarpet": [
           {
            "colorbar": {
             "outlinewidth": 0,
             "ticks": ""
            },
            "type": "contourcarpet"
           }
          ],
          "heatmap": [
           {
            "colorbar": {
             "outlinewidth": 0,
             "ticks": ""
            },
            "colorscale": [
             [
              0,
              "#0d0887"
             ],
             [
              0.1111111111111111,
              "#46039f"
             ],
             [
              0.2222222222222222,
              "#7201a8"
             ],
             [
              0.3333333333333333,
              "#9c179e"
             ],
             [
              0.4444444444444444,
              "#bd3786"
             ],
             [
              0.5555555555555556,
              "#d8576b"
             ],
             [
              0.6666666666666666,
              "#ed7953"
             ],
             [
              0.7777777777777778,
              "#fb9f3a"
             ],
             [
              0.8888888888888888,
              "#fdca26"
             ],
             [
              1,
              "#f0f921"
             ]
            ],
            "type": "heatmap"
           }
          ],
          "heatmapgl": [
           {
            "colorbar": {
             "outlinewidth": 0,
             "ticks": ""
            },
            "colorscale": [
             [
              0,
              "#0d0887"
             ],
             [
              0.1111111111111111,
              "#46039f"
             ],
             [
              0.2222222222222222,
              "#7201a8"
             ],
             [
              0.3333333333333333,
              "#9c179e"
             ],
             [
              0.4444444444444444,
              "#bd3786"
             ],
             [
              0.5555555555555556,
              "#d8576b"
             ],
             [
              0.6666666666666666,
              "#ed7953"
             ],
             [
              0.7777777777777778,
              "#fb9f3a"
             ],
             [
              0.8888888888888888,
              "#fdca26"
             ],
             [
              1,
              "#f0f921"
             ]
            ],
            "type": "heatmapgl"
           }
          ],
          "histogram": [
           {
            "marker": {
             "pattern": {
              "fillmode": "overlay",
              "size": 10,
              "solidity": 0.2
             }
            },
            "type": "histogram"
           }
          ],
          "histogram2d": [
           {
            "colorbar": {
             "outlinewidth": 0,
             "ticks": ""
            },
            "colorscale": [
             [
              0,
              "#0d0887"
             ],
             [
              0.1111111111111111,
              "#46039f"
             ],
             [
              0.2222222222222222,
              "#7201a8"
             ],
             [
              0.3333333333333333,
              "#9c179e"
             ],
             [
              0.4444444444444444,
              "#bd3786"
             ],
             [
              0.5555555555555556,
              "#d8576b"
             ],
             [
              0.6666666666666666,
              "#ed7953"
             ],
             [
              0.7777777777777778,
              "#fb9f3a"
             ],
             [
              0.8888888888888888,
              "#fdca26"
             ],
             [
              1,
              "#f0f921"
             ]
            ],
            "type": "histogram2d"
           }
          ],
          "histogram2dcontour": [
           {
            "colorbar": {
             "outlinewidth": 0,
             "ticks": ""
            },
            "colorscale": [
             [
              0,
              "#0d0887"
             ],
             [
              0.1111111111111111,
              "#46039f"
             ],
             [
              0.2222222222222222,
              "#7201a8"
             ],
             [
              0.3333333333333333,
              "#9c179e"
             ],
             [
              0.4444444444444444,
              "#bd3786"
             ],
             [
              0.5555555555555556,
              "#d8576b"
             ],
             [
              0.6666666666666666,
              "#ed7953"
             ],
             [
              0.7777777777777778,
              "#fb9f3a"
             ],
             [
              0.8888888888888888,
              "#fdca26"
             ],
             [
              1,
              "#f0f921"
             ]
            ],
            "type": "histogram2dcontour"
           }
          ],
          "mesh3d": [
           {
            "colorbar": {
             "outlinewidth": 0,
             "ticks": ""
            },
            "type": "mesh3d"
           }
          ],
          "parcoords": [
           {
            "line": {
             "colorbar": {
              "outlinewidth": 0,
              "ticks": ""
             }
            },
            "type": "parcoords"
           }
          ],
          "pie": [
           {
            "automargin": true,
            "type": "pie"
           }
          ],
          "scatter": [
           {
            "fillpattern": {
             "fillmode": "overlay",
             "size": 10,
             "solidity": 0.2
            },
            "type": "scatter"
           }
          ],
          "scatter3d": [
           {
            "line": {
             "colorbar": {
              "outlinewidth": 0,
              "ticks": ""
             }
            },
            "marker": {
             "colorbar": {
              "outlinewidth": 0,
              "ticks": ""
             }
            },
            "type": "scatter3d"
           }
          ],
          "scattercarpet": [
           {
            "marker": {
             "colorbar": {
              "outlinewidth": 0,
              "ticks": ""
             }
            },
            "type": "scattercarpet"
           }
          ],
          "scattergeo": [
           {
            "marker": {
             "colorbar": {
              "outlinewidth": 0,
              "ticks": ""
             }
            },
            "type": "scattergeo"
           }
          ],
          "scattergl": [
           {
            "marker": {
             "colorbar": {
              "outlinewidth": 0,
              "ticks": ""
             }
            },
            "type": "scattergl"
           }
          ],
          "scattermapbox": [
           {
            "marker": {
             "colorbar": {
              "outlinewidth": 0,
              "ticks": ""
             }
            },
            "type": "scattermapbox"
           }
          ],
          "scatterpolar": [
           {
            "marker": {
             "colorbar": {
              "outlinewidth": 0,
              "ticks": ""
             }
            },
            "type": "scatterpolar"
           }
          ],
          "scatterpolargl": [
           {
            "marker": {
             "colorbar": {
              "outlinewidth": 0,
              "ticks": ""
             }
            },
            "type": "scatterpolargl"
           }
          ],
          "scatterternary": [
           {
            "marker": {
             "colorbar": {
              "outlinewidth": 0,
              "ticks": ""
             }
            },
            "type": "scatterternary"
           }
          ],
          "surface": [
           {
            "colorbar": {
             "outlinewidth": 0,
             "ticks": ""
            },
            "colorscale": [
             [
              0,
              "#0d0887"
             ],
             [
              0.1111111111111111,
              "#46039f"
             ],
             [
              0.2222222222222222,
              "#7201a8"
             ],
             [
              0.3333333333333333,
              "#9c179e"
             ],
             [
              0.4444444444444444,
              "#bd3786"
             ],
             [
              0.5555555555555556,
              "#d8576b"
             ],
             [
              0.6666666666666666,
              "#ed7953"
             ],
             [
              0.7777777777777778,
              "#fb9f3a"
             ],
             [
              0.8888888888888888,
              "#fdca26"
             ],
             [
              1,
              "#f0f921"
             ]
            ],
            "type": "surface"
           }
          ],
          "table": [
           {
            "cells": {
             "fill": {
              "color": "#EBF0F8"
             },
             "line": {
              "color": "white"
             }
            },
            "header": {
             "fill": {
              "color": "#C8D4E3"
             },
             "line": {
              "color": "white"
             }
            },
            "type": "table"
           }
          ]
         },
         "layout": {
          "annotationdefaults": {
           "arrowcolor": "#2a3f5f",
           "arrowhead": 0,
           "arrowwidth": 1
          },
          "autotypenumbers": "strict",
          "coloraxis": {
           "colorbar": {
            "outlinewidth": 0,
            "ticks": ""
           }
          },
          "colorscale": {
           "diverging": [
            [
             0,
             "#8e0152"
            ],
            [
             0.1,
             "#c51b7d"
            ],
            [
             0.2,
             "#de77ae"
            ],
            [
             0.3,
             "#f1b6da"
            ],
            [
             0.4,
             "#fde0ef"
            ],
            [
             0.5,
             "#f7f7f7"
            ],
            [
             0.6,
             "#e6f5d0"
            ],
            [
             0.7,
             "#b8e186"
            ],
            [
             0.8,
             "#7fbc41"
            ],
            [
             0.9,
             "#4d9221"
            ],
            [
             1,
             "#276419"
            ]
           ],
           "sequential": [
            [
             0,
             "#0d0887"
            ],
            [
             0.1111111111111111,
             "#46039f"
            ],
            [
             0.2222222222222222,
             "#7201a8"
            ],
            [
             0.3333333333333333,
             "#9c179e"
            ],
            [
             0.4444444444444444,
             "#bd3786"
            ],
            [
             0.5555555555555556,
             "#d8576b"
            ],
            [
             0.6666666666666666,
             "#ed7953"
            ],
            [
             0.7777777777777778,
             "#fb9f3a"
            ],
            [
             0.8888888888888888,
             "#fdca26"
            ],
            [
             1,
             "#f0f921"
            ]
           ],
           "sequentialminus": [
            [
             0,
             "#0d0887"
            ],
            [
             0.1111111111111111,
             "#46039f"
            ],
            [
             0.2222222222222222,
             "#7201a8"
            ],
            [
             0.3333333333333333,
             "#9c179e"
            ],
            [
             0.4444444444444444,
             "#bd3786"
            ],
            [
             0.5555555555555556,
             "#d8576b"
            ],
            [
             0.6666666666666666,
             "#ed7953"
            ],
            [
             0.7777777777777778,
             "#fb9f3a"
            ],
            [
             0.8888888888888888,
             "#fdca26"
            ],
            [
             1,
             "#f0f921"
            ]
           ]
          },
          "colorway": [
           "#636efa",
           "#EF553B",
           "#00cc96",
           "#ab63fa",
           "#FFA15A",
           "#19d3f3",
           "#FF6692",
           "#B6E880",
           "#FF97FF",
           "#FECB52"
          ],
          "font": {
           "color": "#2a3f5f"
          },
          "geo": {
           "bgcolor": "white",
           "lakecolor": "white",
           "landcolor": "#E5ECF6",
           "showlakes": true,
           "showland": true,
           "subunitcolor": "white"
          },
          "hoverlabel": {
           "align": "left"
          },
          "hovermode": "closest",
          "mapbox": {
           "style": "light"
          },
          "paper_bgcolor": "white",
          "plot_bgcolor": "#E5ECF6",
          "polar": {
           "angularaxis": {
            "gridcolor": "white",
            "linecolor": "white",
            "ticks": ""
           },
           "bgcolor": "#E5ECF6",
           "radialaxis": {
            "gridcolor": "white",
            "linecolor": "white",
            "ticks": ""
           }
          },
          "scene": {
           "xaxis": {
            "backgroundcolor": "#E5ECF6",
            "gridcolor": "white",
            "gridwidth": 2,
            "linecolor": "white",
            "showbackground": true,
            "ticks": "",
            "zerolinecolor": "white"
           },
           "yaxis": {
            "backgroundcolor": "#E5ECF6",
            "gridcolor": "white",
            "gridwidth": 2,
            "linecolor": "white",
            "showbackground": true,
            "ticks": "",
            "zerolinecolor": "white"
           },
           "zaxis": {
            "backgroundcolor": "#E5ECF6",
            "gridcolor": "white",
            "gridwidth": 2,
            "linecolor": "white",
            "showbackground": true,
            "ticks": "",
            "zerolinecolor": "white"
           }
          },
          "shapedefaults": {
           "line": {
            "color": "#2a3f5f"
           }
          },
          "ternary": {
           "aaxis": {
            "gridcolor": "white",
            "linecolor": "white",
            "ticks": ""
           },
           "baxis": {
            "gridcolor": "white",
            "linecolor": "white",
            "ticks": ""
           },
           "bgcolor": "#E5ECF6",
           "caxis": {
            "gridcolor": "white",
            "linecolor": "white",
            "ticks": ""
           }
          },
          "title": {
           "x": 0.05
          },
          "xaxis": {
           "automargin": true,
           "gridcolor": "white",
           "linecolor": "white",
           "ticks": "",
           "title": {
            "standoff": 15
           },
           "zerolinecolor": "white",
           "zerolinewidth": 2
          },
          "yaxis": {
           "automargin": true,
           "gridcolor": "white",
           "linecolor": "white",
           "ticks": "",
           "title": {
            "standoff": 15
           },
           "zerolinecolor": "white",
           "zerolinewidth": 2
          }
         }
        },
        "xaxis": {
         "anchor": "y",
         "domain": [
          0,
          1
         ],
         "title": {
          "text": "Precision"
         }
        },
        "yaxis": {
         "anchor": "x",
         "domain": [
          0,
          1
         ],
         "title": {
          "text": "Recall"
         }
        }
       }
      },
      "text/html": [
       "<div>                            <div id=\"c5233455-8d82-49fc-9b7c-d1d60c4fc362\" class=\"plotly-graph-div\" style=\"height:525px; width:100%;\"></div>            <script type=\"text/javascript\">                require([\"plotly\"], function(Plotly) {                    window.PLOTLYENV=window.PLOTLYENV || {};                                    if (document.getElementById(\"c5233455-8d82-49fc-9b7c-d1d60c4fc362\")) {                    Plotly.newPlot(                        \"c5233455-8d82-49fc-9b7c-d1d60c4fc362\",                        [{\"customdata\":[[\"128\",\"128\",\"3\",\"0.5\",\"True\",0.3697113042165126,0.7728673192744874],[\"128\",\"128\",\"3\",\"0.4\",\"True\",0.35317376122942995,0.7709426384686549],[\"256\",\"256\",\"3\",\"0.5\",\"True\",0.37005034035870005,0.7703676690978943],[\"256\",\"128\",\"3\",\"0.5\",\"True\",0.37880268041044474,0.7661642532831576],[\"128\",\"256\",\"3\",\"0.4\",\"True\",0.3597330818218844,0.7626763524450416],[\"128\",\"256\",\"3\",\"0.5\",\"True\",0.3629532556182572,0.7604680623207363],[\"256\",\"128\",\"3\",\"0.3\",\"True\",0.3453159789953913,0.7576919784395455],[\"256\",\"256\",\"3\",\"0.3\",\"True\",0.36911941612405436,0.7549931781175182],[\"128\",\"256\",\"3\",\"0.3\",\"True\",0.36898504809609484,0.7535841844175907],[\"256\",\"128\",\"3\",\"0.4\",\"True\",0.3720781115282859,0.7507605236486584],[\"128\",\"128\",\"3\",\"0.3\",\"True\",0.34733551860387835,0.7503771640512718],[\"256\",\"256\",\"3\",\"0.4\",\"True\",0.3696577443874308,0.73347103950685]],\"hovertemplate\":\"N_LAYERS=%{customdata[2]}<br>Precision=%{x}<br>Recall=%{y}<br>EMBEDDING_DIM=%{customdata[0]}<br>HIDDEN_DIM=%{customdata[1]}<br>DROPOUT=%{customdata[3]}<br>BIDIRECTIONAL=%{customdata[4]}<br>Loss=%{customdata[5]}<br>F1-score=%{customdata[6]}<extra></extra>\",\"legendgroup\":\"3\",\"marker\":{\"color\":\"#636efa\",\"symbol\":\"circle\"},\"mode\":\"markers\",\"name\":\"3\",\"orientation\":\"v\",\"showlegend\":true,\"x\":[0.8057463665240981,0.796237419283604,0.7736235427024729,0.772384695057647,0.783900230725422,0.7785509991411494,0.8149516483285134,0.7934530126813462,0.7933060321635128,0.74628522415857,0.7802492279897845,0.7767013444440092],\"xaxis\":\"x\",\"y\":[0.7476476379417006,0.7518631149882464,0.7719772721681065,0.7657708500712203,0.7469647425224168,0.7476079342600724,0.7132602475900972,0.7252659620498054,0.7218517671538851,0.7591696515030236,0.7277870954810927,0.6999676327410044],\"yaxis\":\"y\",\"type\":\"scatter\"},{\"customdata\":[[\"256\",\"128\",\"2\",\"0.4\",\"True\",0.34221074051622835,0.7713851883763579],[\"128\",\"256\",\"2\",\"0.5\",\"True\",0.3476798821772848,0.7707162365365952],[\"256\",\"128\",\"2\",\"0.5\",\"True\",0.34389801549592186,0.7703472362684354],[\"128\",\"128\",\"2\",\"0.4\",\"True\",0.3365100904234818,0.7635643002534421],[\"128\",\"128\",\"2\",\"0.3\",\"True\",0.3460659049451351,0.7618724517868047],[\"128\",\"128\",\"2\",\"0.5\",\"True\",0.35028490530593054,0.759289247110803],[\"128\",\"256\",\"2\",\"0.3\",\"True\",0.3608571268352015,0.7584553651314526],[\"256\",\"256\",\"2\",\"0.5\",\"True\",0.35502139878060135,0.7573457866091154],[\"128\",\"256\",\"2\",\"0.4\",\"True\",0.3517009260665093,0.7527695868713309],[\"256\",\"256\",\"2\",\"0.4\",\"True\",0.3524959443935326,0.7515356146533835],[\"256\",\"128\",\"2\",\"0.3\",\"True\",0.34036281146109104,0.750094555796853],[\"256\",\"256\",\"2\",\"0.3\",\"True\",0.36068781385464327,0.7490484895730198]],\"hovertemplate\":\"N_LAYERS=%{customdata[2]}<br>Precision=%{x}<br>Recall=%{y}<br>EMBEDDING_DIM=%{customdata[0]}<br>HIDDEN_DIM=%{customdata[1]}<br>DROPOUT=%{customdata[3]}<br>BIDIRECTIONAL=%{customdata[4]}<br>Loss=%{customdata[5]}<br>F1-score=%{customdata[6]}<extra></extra>\",\"legendgroup\":\"2\",\"marker\":{\"color\":\"#EF553B\",\"symbol\":\"circle\"},\"mode\":\"markers\",\"name\":\"2\",\"orientation\":\"v\",\"showlegend\":true,\"x\":[0.7967514813271822,0.7950481043877257,0.802819781467449,0.7948830460691204,0.7824896864500711,0.80611200922634,0.8130929491333679,0.7765366695274837,0.813483198582565,0.8033409570617314,0.7867273946795901,0.8160936695901327],\"xaxis\":\"x\",\"y\":[0.7534863725382372,0.7533213445005862,0.7453836116478489,0.7404269732017669,0.7472187148244629,0.7239605996701562,0.7158818090294835,0.7443622079612762,0.7058726775216929,0.7109543358176001,0.7215811945378997,0.6981470943416064],\"yaxis\":\"y\",\"type\":\"scatter\"},{\"customdata\":[[\"256\",\"128\",\"4\",\"0.5\",\"True\",0.38139854105455534,0.7678626855976302],[\"256\",\"256\",\"4\",\"0.3\",\"True\",0.3876260199717113,0.7676774794138294],[\"128\",\"256\",\"4\",\"0.3\",\"True\",0.3731510490179062,0.7617378190624945],[\"128\",\"256\",\"4\",\"0.4\",\"True\",0.36386735763932976,0.7616636174917251],[\"128\",\"128\",\"4\",\"0.3\",\"True\",0.3633938379851835,0.7580261784190553],[\"128\",\"128\",\"4\",\"0.5\",\"True\",0.3695266277396253,0.7563769447576607],[\"256\",\"128\",\"4\",\"0.4\",\"True\",0.37442718220076393,0.7542022760328607],[\"256\",\"128\",\"4\",\"0.3\",\"True\",0.3589551237278751,0.752853274040778],[\"128\",\"128\",\"4\",\"0.4\",\"True\",0.3709092094962086,0.7509497563976761],[\"256\",\"256\",\"4\",\"0.4\",\"True\",0.37482575779514654,0.7485739198795571],[\"128\",\"256\",\"4\",\"0.5\",\"True\",0.3979136025799172,0.7466997744600555],[\"256\",\"256\",\"4\",\"0.5\",\"True\",0.39938973635435104,0.7366043394754819]],\"hovertemplate\":\"N_LAYERS=%{customdata[2]}<br>Precision=%{x}<br>Recall=%{y}<br>EMBEDDING_DIM=%{customdata[0]}<br>HIDDEN_DIM=%{customdata[1]}<br>DROPOUT=%{customdata[3]}<br>BIDIRECTIONAL=%{customdata[4]}<br>Loss=%{customdata[5]}<br>F1-score=%{customdata[6]}<extra></extra>\",\"legendgroup\":\"4\",\"marker\":{\"color\":\"#00cc96\",\"symbol\":\"circle\"},\"mode\":\"markers\",\"name\":\"4\",\"orientation\":\"v\",\"showlegend\":true,\"x\":[0.770899261163453,0.790341396786279,0.756810088940603,0.7896958542480093,0.7622788971696105,0.7675237089036259,0.7468058830739391,0.7716568124475335,0.7817347707922903,0.7554498694779274,0.7493948050208975,0.7518257306953096],\"xaxis\":\"x\",\"y\":[0.7689151456084992,0.7515043284860019,0.7717508734007695,0.7409931839054245,0.7582055613401089,0.7497917573968851,0.7671812312991618,0.740687559863435,0.7280401179326105,0.7456170155178219,0.7494986887485852,0.7265790930037185],\"yaxis\":\"y\",\"type\":\"scatter\"}],                        {\"template\":{\"data\":{\"histogram2dcontour\":[{\"type\":\"histogram2dcontour\",\"colorbar\":{\"outlinewidth\":0,\"ticks\":\"\"},\"colorscale\":[[0.0,\"#0d0887\"],[0.1111111111111111,\"#46039f\"],[0.2222222222222222,\"#7201a8\"],[0.3333333333333333,\"#9c179e\"],[0.4444444444444444,\"#bd3786\"],[0.5555555555555556,\"#d8576b\"],[0.6666666666666666,\"#ed7953\"],[0.7777777777777778,\"#fb9f3a\"],[0.8888888888888888,\"#fdca26\"],[1.0,\"#f0f921\"]]}],\"choropleth\":[{\"type\":\"choropleth\",\"colorbar\":{\"outlinewidth\":0,\"ticks\":\"\"}}],\"histogram2d\":[{\"type\":\"histogram2d\",\"colorbar\":{\"outlinewidth\":0,\"ticks\":\"\"},\"colorscale\":[[0.0,\"#0d0887\"],[0.1111111111111111,\"#46039f\"],[0.2222222222222222,\"#7201a8\"],[0.3333333333333333,\"#9c179e\"],[0.4444444444444444,\"#bd3786\"],[0.5555555555555556,\"#d8576b\"],[0.6666666666666666,\"#ed7953\"],[0.7777777777777778,\"#fb9f3a\"],[0.8888888888888888,\"#fdca26\"],[1.0,\"#f0f921\"]]}],\"heatmap\":[{\"type\":\"heatmap\",\"colorbar\":{\"outlinewidth\":0,\"ticks\":\"\"},\"colorscale\":[[0.0,\"#0d0887\"],[0.1111111111111111,\"#46039f\"],[0.2222222222222222,\"#7201a8\"],[0.3333333333333333,\"#9c179e\"],[0.4444444444444444,\"#bd3786\"],[0.5555555555555556,\"#d8576b\"],[0.6666666666666666,\"#ed7953\"],[0.7777777777777778,\"#fb9f3a\"],[0.8888888888888888,\"#fdca26\"],[1.0,\"#f0f921\"]]}],\"heatmapgl\":[{\"type\":\"heatmapgl\",\"colorbar\":{\"outlinewidth\":0,\"ticks\":\"\"},\"colorscale\":[[0.0,\"#0d0887\"],[0.1111111111111111,\"#46039f\"],[0.2222222222222222,\"#7201a8\"],[0.3333333333333333,\"#9c179e\"],[0.4444444444444444,\"#bd3786\"],[0.5555555555555556,\"#d8576b\"],[0.6666666666666666,\"#ed7953\"],[0.7777777777777778,\"#fb9f3a\"],[0.8888888888888888,\"#fdca26\"],[1.0,\"#f0f921\"]]}],\"contourcarpet\":[{\"type\":\"contourcarpet\",\"colorbar\":{\"outlinewidth\":0,\"ticks\":\"\"}}],\"contour\":[{\"type\":\"contour\",\"colorbar\":{\"outlinewidth\":0,\"ticks\":\"\"},\"colorscale\":[[0.0,\"#0d0887\"],[0.1111111111111111,\"#46039f\"],[0.2222222222222222,\"#7201a8\"],[0.3333333333333333,\"#9c179e\"],[0.4444444444444444,\"#bd3786\"],[0.5555555555555556,\"#d8576b\"],[0.6666666666666666,\"#ed7953\"],[0.7777777777777778,\"#fb9f3a\"],[0.8888888888888888,\"#fdca26\"],[1.0,\"#f0f921\"]]}],\"surface\":[{\"type\":\"surface\",\"colorbar\":{\"outlinewidth\":0,\"ticks\":\"\"},\"colorscale\":[[0.0,\"#0d0887\"],[0.1111111111111111,\"#46039f\"],[0.2222222222222222,\"#7201a8\"],[0.3333333333333333,\"#9c179e\"],[0.4444444444444444,\"#bd3786\"],[0.5555555555555556,\"#d8576b\"],[0.6666666666666666,\"#ed7953\"],[0.7777777777777778,\"#fb9f3a\"],[0.8888888888888888,\"#fdca26\"],[1.0,\"#f0f921\"]]}],\"mesh3d\":[{\"type\":\"mesh3d\",\"colorbar\":{\"outlinewidth\":0,\"ticks\":\"\"}}],\"scatter\":[{\"fillpattern\":{\"fillmode\":\"overlay\",\"size\":10,\"solidity\":0.2},\"type\":\"scatter\"}],\"parcoords\":[{\"type\":\"parcoords\",\"line\":{\"colorbar\":{\"outlinewidth\":0,\"ticks\":\"\"}}}],\"scatterpolargl\":[{\"type\":\"scatterpolargl\",\"marker\":{\"colorbar\":{\"outlinewidth\":0,\"ticks\":\"\"}}}],\"bar\":[{\"error_x\":{\"color\":\"#2a3f5f\"},\"error_y\":{\"color\":\"#2a3f5f\"},\"marker\":{\"line\":{\"color\":\"#E5ECF6\",\"width\":0.5},\"pattern\":{\"fillmode\":\"overlay\",\"size\":10,\"solidity\":0.2}},\"type\":\"bar\"}],\"scattergeo\":[{\"type\":\"scattergeo\",\"marker\":{\"colorbar\":{\"outlinewidth\":0,\"ticks\":\"\"}}}],\"scatterpolar\":[{\"type\":\"scatterpolar\",\"marker\":{\"colorbar\":{\"outlinewidth\":0,\"ticks\":\"\"}}}],\"histogram\":[{\"marker\":{\"pattern\":{\"fillmode\":\"overlay\",\"size\":10,\"solidity\":0.2}},\"type\":\"histogram\"}],\"scattergl\":[{\"type\":\"scattergl\",\"marker\":{\"colorbar\":{\"outlinewidth\":0,\"ticks\":\"\"}}}],\"scatter3d\":[{\"type\":\"scatter3d\",\"line\":{\"colorbar\":{\"outlinewidth\":0,\"ticks\":\"\"}},\"marker\":{\"colorbar\":{\"outlinewidth\":0,\"ticks\":\"\"}}}],\"scattermapbox\":[{\"type\":\"scattermapbox\",\"marker\":{\"colorbar\":{\"outlinewidth\":0,\"ticks\":\"\"}}}],\"scatterternary\":[{\"type\":\"scatterternary\",\"marker\":{\"colorbar\":{\"outlinewidth\":0,\"ticks\":\"\"}}}],\"scattercarpet\":[{\"type\":\"scattercarpet\",\"marker\":{\"colorbar\":{\"outlinewidth\":0,\"ticks\":\"\"}}}],\"carpet\":[{\"aaxis\":{\"endlinecolor\":\"#2a3f5f\",\"gridcolor\":\"white\",\"linecolor\":\"white\",\"minorgridcolor\":\"white\",\"startlinecolor\":\"#2a3f5f\"},\"baxis\":{\"endlinecolor\":\"#2a3f5f\",\"gridcolor\":\"white\",\"linecolor\":\"white\",\"minorgridcolor\":\"white\",\"startlinecolor\":\"#2a3f5f\"},\"type\":\"carpet\"}],\"table\":[{\"cells\":{\"fill\":{\"color\":\"#EBF0F8\"},\"line\":{\"color\":\"white\"}},\"header\":{\"fill\":{\"color\":\"#C8D4E3\"},\"line\":{\"color\":\"white\"}},\"type\":\"table\"}],\"barpolar\":[{\"marker\":{\"line\":{\"color\":\"#E5ECF6\",\"width\":0.5},\"pattern\":{\"fillmode\":\"overlay\",\"size\":10,\"solidity\":0.2}},\"type\":\"barpolar\"}],\"pie\":[{\"automargin\":true,\"type\":\"pie\"}]},\"layout\":{\"autotypenumbers\":\"strict\",\"colorway\":[\"#636efa\",\"#EF553B\",\"#00cc96\",\"#ab63fa\",\"#FFA15A\",\"#19d3f3\",\"#FF6692\",\"#B6E880\",\"#FF97FF\",\"#FECB52\"],\"font\":{\"color\":\"#2a3f5f\"},\"hovermode\":\"closest\",\"hoverlabel\":{\"align\":\"left\"},\"paper_bgcolor\":\"white\",\"plot_bgcolor\":\"#E5ECF6\",\"polar\":{\"bgcolor\":\"#E5ECF6\",\"angularaxis\":{\"gridcolor\":\"white\",\"linecolor\":\"white\",\"ticks\":\"\"},\"radialaxis\":{\"gridcolor\":\"white\",\"linecolor\":\"white\",\"ticks\":\"\"}},\"ternary\":{\"bgcolor\":\"#E5ECF6\",\"aaxis\":{\"gridcolor\":\"white\",\"linecolor\":\"white\",\"ticks\":\"\"},\"baxis\":{\"gridcolor\":\"white\",\"linecolor\":\"white\",\"ticks\":\"\"},\"caxis\":{\"gridcolor\":\"white\",\"linecolor\":\"white\",\"ticks\":\"\"}},\"coloraxis\":{\"colorbar\":{\"outlinewidth\":0,\"ticks\":\"\"}},\"colorscale\":{\"sequential\":[[0.0,\"#0d0887\"],[0.1111111111111111,\"#46039f\"],[0.2222222222222222,\"#7201a8\"],[0.3333333333333333,\"#9c179e\"],[0.4444444444444444,\"#bd3786\"],[0.5555555555555556,\"#d8576b\"],[0.6666666666666666,\"#ed7953\"],[0.7777777777777778,\"#fb9f3a\"],[0.8888888888888888,\"#fdca26\"],[1.0,\"#f0f921\"]],\"sequentialminus\":[[0.0,\"#0d0887\"],[0.1111111111111111,\"#46039f\"],[0.2222222222222222,\"#7201a8\"],[0.3333333333333333,\"#9c179e\"],[0.4444444444444444,\"#bd3786\"],[0.5555555555555556,\"#d8576b\"],[0.6666666666666666,\"#ed7953\"],[0.7777777777777778,\"#fb9f3a\"],[0.8888888888888888,\"#fdca26\"],[1.0,\"#f0f921\"]],\"diverging\":[[0,\"#8e0152\"],[0.1,\"#c51b7d\"],[0.2,\"#de77ae\"],[0.3,\"#f1b6da\"],[0.4,\"#fde0ef\"],[0.5,\"#f7f7f7\"],[0.6,\"#e6f5d0\"],[0.7,\"#b8e186\"],[0.8,\"#7fbc41\"],[0.9,\"#4d9221\"],[1,\"#276419\"]]},\"xaxis\":{\"gridcolor\":\"white\",\"linecolor\":\"white\",\"ticks\":\"\",\"title\":{\"standoff\":15},\"zerolinecolor\":\"white\",\"automargin\":true,\"zerolinewidth\":2},\"yaxis\":{\"gridcolor\":\"white\",\"linecolor\":\"white\",\"ticks\":\"\",\"title\":{\"standoff\":15},\"zerolinecolor\":\"white\",\"automargin\":true,\"zerolinewidth\":2},\"scene\":{\"xaxis\":{\"backgroundcolor\":\"#E5ECF6\",\"gridcolor\":\"white\",\"linecolor\":\"white\",\"showbackground\":true,\"ticks\":\"\",\"zerolinecolor\":\"white\",\"gridwidth\":2},\"yaxis\":{\"backgroundcolor\":\"#E5ECF6\",\"gridcolor\":\"white\",\"linecolor\":\"white\",\"showbackground\":true,\"ticks\":\"\",\"zerolinecolor\":\"white\",\"gridwidth\":2},\"zaxis\":{\"backgroundcolor\":\"#E5ECF6\",\"gridcolor\":\"white\",\"linecolor\":\"white\",\"showbackground\":true,\"ticks\":\"\",\"zerolinecolor\":\"white\",\"gridwidth\":2}},\"shapedefaults\":{\"line\":{\"color\":\"#2a3f5f\"}},\"annotationdefaults\":{\"arrowcolor\":\"#2a3f5f\",\"arrowhead\":0,\"arrowwidth\":1},\"geo\":{\"bgcolor\":\"white\",\"landcolor\":\"#E5ECF6\",\"subunitcolor\":\"white\",\"showland\":true,\"showlakes\":true,\"lakecolor\":\"white\"},\"title\":{\"x\":0.05},\"mapbox\":{\"style\":\"light\"}}},\"xaxis\":{\"anchor\":\"y\",\"domain\":[0.0,1.0],\"title\":{\"text\":\"Precision\"}},\"yaxis\":{\"anchor\":\"x\",\"domain\":[0.0,1.0],\"title\":{\"text\":\"Recall\"}},\"legend\":{\"title\":{\"text\":\"N_LAYERS\"},\"tracegroupgap\":0},\"margin\":{\"t\":60}},                        {\"responsive\": true}                    ).then(function(){\n",
       "                            \n",
       "var gd = document.getElementById('c5233455-8d82-49fc-9b7c-d1d60c4fc362');\n",
       "var x = new MutationObserver(function (mutations, observer) {{\n",
       "        var display = window.getComputedStyle(gd).display;\n",
       "        if (!display || display === 'none') {{\n",
       "            console.log([gd, 'removed!']);\n",
       "            Plotly.purge(gd);\n",
       "            observer.disconnect();\n",
       "        }}\n",
       "}});\n",
       "\n",
       "// Listen for the removal of the full notebook cells\n",
       "var notebookContainer = gd.closest('#notebook-container');\n",
       "if (notebookContainer) {{\n",
       "    x.observe(notebookContainer, {childList: true});\n",
       "}}\n",
       "\n",
       "// Listen for the clearing of the current output cell\n",
       "var outputEl = gd.closest('.output');\n",
       "if (outputEl) {{\n",
       "    x.observe(outputEl, {childList: true});\n",
       "}}\n",
       "\n",
       "                        })                };                });            </script>        </div>"
      ]
     },
     "metadata": {},
     "output_type": "display_data"
    }
   ],
   "source": [
    "subdf_gridsearch = df_gridsearch[df_gridsearch[\"BIDIRECTIONAL\"] == \"True\"]\n",
    "px.scatter(subdf_gridsearch, x=\"Precision\", y=\"Recall\", color=\"N_LAYERS\", hover_data=subdf_gridsearch.columns)"
   ]
  },
  {
   "cell_type": "code",
   "execution_count": 90,
   "id": "839561fe",
   "metadata": {},
   "outputs": [
    {
     "data": {
      "application/vnd.plotly.v1+json": {
       "config": {
        "plotlyServerURL": "https://plot.ly"
       },
       "data": [
        {
         "customdata": [
          [
           "128",
           "128",
           "3",
           "0.5",
           "True",
           0.3697113042165126,
           0.7728673192744874
          ],
          [
           "256",
           "256",
           "3",
           "0.5",
           "True",
           0.37005034035870005,
           0.7703676690978943
          ],
          [
           "256",
           "128",
           "3",
           "0.5",
           "True",
           0.37880268041044474,
           0.7661642532831576
          ],
          [
           "128",
           "256",
           "3",
           "0.5",
           "True",
           0.3629532556182572,
           0.7604680623207363
          ]
         ],
         "hovertemplate": "DROPOUT=%{customdata[3]}<br>Precision=%{x}<br>Recall=%{y}<br>EMBEDDING_DIM=%{customdata[0]}<br>HIDDEN_DIM=%{customdata[1]}<br>N_LAYERS=%{customdata[2]}<br>BIDIRECTIONAL=%{customdata[4]}<br>Loss=%{customdata[5]}<br>F1-score=%{customdata[6]}<extra></extra>",
         "legendgroup": "0.5",
         "marker": {
          "color": "#636efa",
          "symbol": "circle"
         },
         "mode": "markers",
         "name": "0.5",
         "orientation": "v",
         "showlegend": true,
         "type": "scatter",
         "x": [
          0.8057463665240981,
          0.7736235427024729,
          0.772384695057647,
          0.7785509991411494
         ],
         "xaxis": "x",
         "y": [
          0.7476476379417006,
          0.7719772721681065,
          0.7657708500712203,
          0.7476079342600724
         ],
         "yaxis": "y"
        },
        {
         "customdata": [
          [
           "128",
           "128",
           "3",
           "0.4",
           "True",
           0.35317376122942995,
           0.7709426384686549
          ],
          [
           "128",
           "256",
           "3",
           "0.4",
           "True",
           0.3597330818218844,
           0.7626763524450416
          ],
          [
           "256",
           "128",
           "3",
           "0.4",
           "True",
           0.3720781115282859,
           0.7507605236486584
          ],
          [
           "256",
           "256",
           "3",
           "0.4",
           "True",
           0.3696577443874308,
           0.73347103950685
          ]
         ],
         "hovertemplate": "DROPOUT=%{customdata[3]}<br>Precision=%{x}<br>Recall=%{y}<br>EMBEDDING_DIM=%{customdata[0]}<br>HIDDEN_DIM=%{customdata[1]}<br>N_LAYERS=%{customdata[2]}<br>BIDIRECTIONAL=%{customdata[4]}<br>Loss=%{customdata[5]}<br>F1-score=%{customdata[6]}<extra></extra>",
         "legendgroup": "0.4",
         "marker": {
          "color": "#EF553B",
          "symbol": "circle"
         },
         "mode": "markers",
         "name": "0.4",
         "orientation": "v",
         "showlegend": true,
         "type": "scatter",
         "x": [
          0.796237419283604,
          0.783900230725422,
          0.74628522415857,
          0.7767013444440092
         ],
         "xaxis": "x",
         "y": [
          0.7518631149882464,
          0.7469647425224168,
          0.7591696515030236,
          0.6999676327410044
         ],
         "yaxis": "y"
        },
        {
         "customdata": [
          [
           "256",
           "128",
           "3",
           "0.3",
           "True",
           0.3453159789953913,
           0.7576919784395455
          ],
          [
           "256",
           "256",
           "3",
           "0.3",
           "True",
           0.36911941612405436,
           0.7549931781175182
          ],
          [
           "128",
           "256",
           "3",
           "0.3",
           "True",
           0.36898504809609484,
           0.7535841844175907
          ],
          [
           "128",
           "128",
           "3",
           "0.3",
           "True",
           0.34733551860387835,
           0.7503771640512718
          ]
         ],
         "hovertemplate": "DROPOUT=%{customdata[3]}<br>Precision=%{x}<br>Recall=%{y}<br>EMBEDDING_DIM=%{customdata[0]}<br>HIDDEN_DIM=%{customdata[1]}<br>N_LAYERS=%{customdata[2]}<br>BIDIRECTIONAL=%{customdata[4]}<br>Loss=%{customdata[5]}<br>F1-score=%{customdata[6]}<extra></extra>",
         "legendgroup": "0.3",
         "marker": {
          "color": "#00cc96",
          "symbol": "circle"
         },
         "mode": "markers",
         "name": "0.3",
         "orientation": "v",
         "showlegend": true,
         "type": "scatter",
         "x": [
          0.8149516483285134,
          0.7934530126813462,
          0.7933060321635128,
          0.7802492279897845
         ],
         "xaxis": "x",
         "y": [
          0.7132602475900972,
          0.7252659620498054,
          0.7218517671538851,
          0.7277870954810927
         ],
         "yaxis": "y"
        }
       ],
       "layout": {
        "legend": {
         "title": {
          "text": "DROPOUT"
         },
         "tracegroupgap": 0
        },
        "margin": {
         "t": 60
        },
        "template": {
         "data": {
          "bar": [
           {
            "error_x": {
             "color": "#2a3f5f"
            },
            "error_y": {
             "color": "#2a3f5f"
            },
            "marker": {
             "line": {
              "color": "#E5ECF6",
              "width": 0.5
             },
             "pattern": {
              "fillmode": "overlay",
              "size": 10,
              "solidity": 0.2
             }
            },
            "type": "bar"
           }
          ],
          "barpolar": [
           {
            "marker": {
             "line": {
              "color": "#E5ECF6",
              "width": 0.5
             },
             "pattern": {
              "fillmode": "overlay",
              "size": 10,
              "solidity": 0.2
             }
            },
            "type": "barpolar"
           }
          ],
          "carpet": [
           {
            "aaxis": {
             "endlinecolor": "#2a3f5f",
             "gridcolor": "white",
             "linecolor": "white",
             "minorgridcolor": "white",
             "startlinecolor": "#2a3f5f"
            },
            "baxis": {
             "endlinecolor": "#2a3f5f",
             "gridcolor": "white",
             "linecolor": "white",
             "minorgridcolor": "white",
             "startlinecolor": "#2a3f5f"
            },
            "type": "carpet"
           }
          ],
          "choropleth": [
           {
            "colorbar": {
             "outlinewidth": 0,
             "ticks": ""
            },
            "type": "choropleth"
           }
          ],
          "contour": [
           {
            "colorbar": {
             "outlinewidth": 0,
             "ticks": ""
            },
            "colorscale": [
             [
              0,
              "#0d0887"
             ],
             [
              0.1111111111111111,
              "#46039f"
             ],
             [
              0.2222222222222222,
              "#7201a8"
             ],
             [
              0.3333333333333333,
              "#9c179e"
             ],
             [
              0.4444444444444444,
              "#bd3786"
             ],
             [
              0.5555555555555556,
              "#d8576b"
             ],
             [
              0.6666666666666666,
              "#ed7953"
             ],
             [
              0.7777777777777778,
              "#fb9f3a"
             ],
             [
              0.8888888888888888,
              "#fdca26"
             ],
             [
              1,
              "#f0f921"
             ]
            ],
            "type": "contour"
           }
          ],
          "contourcarpet": [
           {
            "colorbar": {
             "outlinewidth": 0,
             "ticks": ""
            },
            "type": "contourcarpet"
           }
          ],
          "heatmap": [
           {
            "colorbar": {
             "outlinewidth": 0,
             "ticks": ""
            },
            "colorscale": [
             [
              0,
              "#0d0887"
             ],
             [
              0.1111111111111111,
              "#46039f"
             ],
             [
              0.2222222222222222,
              "#7201a8"
             ],
             [
              0.3333333333333333,
              "#9c179e"
             ],
             [
              0.4444444444444444,
              "#bd3786"
             ],
             [
              0.5555555555555556,
              "#d8576b"
             ],
             [
              0.6666666666666666,
              "#ed7953"
             ],
             [
              0.7777777777777778,
              "#fb9f3a"
             ],
             [
              0.8888888888888888,
              "#fdca26"
             ],
             [
              1,
              "#f0f921"
             ]
            ],
            "type": "heatmap"
           }
          ],
          "heatmapgl": [
           {
            "colorbar": {
             "outlinewidth": 0,
             "ticks": ""
            },
            "colorscale": [
             [
              0,
              "#0d0887"
             ],
             [
              0.1111111111111111,
              "#46039f"
             ],
             [
              0.2222222222222222,
              "#7201a8"
             ],
             [
              0.3333333333333333,
              "#9c179e"
             ],
             [
              0.4444444444444444,
              "#bd3786"
             ],
             [
              0.5555555555555556,
              "#d8576b"
             ],
             [
              0.6666666666666666,
              "#ed7953"
             ],
             [
              0.7777777777777778,
              "#fb9f3a"
             ],
             [
              0.8888888888888888,
              "#fdca26"
             ],
             [
              1,
              "#f0f921"
             ]
            ],
            "type": "heatmapgl"
           }
          ],
          "histogram": [
           {
            "marker": {
             "pattern": {
              "fillmode": "overlay",
              "size": 10,
              "solidity": 0.2
             }
            },
            "type": "histogram"
           }
          ],
          "histogram2d": [
           {
            "colorbar": {
             "outlinewidth": 0,
             "ticks": ""
            },
            "colorscale": [
             [
              0,
              "#0d0887"
             ],
             [
              0.1111111111111111,
              "#46039f"
             ],
             [
              0.2222222222222222,
              "#7201a8"
             ],
             [
              0.3333333333333333,
              "#9c179e"
             ],
             [
              0.4444444444444444,
              "#bd3786"
             ],
             [
              0.5555555555555556,
              "#d8576b"
             ],
             [
              0.6666666666666666,
              "#ed7953"
             ],
             [
              0.7777777777777778,
              "#fb9f3a"
             ],
             [
              0.8888888888888888,
              "#fdca26"
             ],
             [
              1,
              "#f0f921"
             ]
            ],
            "type": "histogram2d"
           }
          ],
          "histogram2dcontour": [
           {
            "colorbar": {
             "outlinewidth": 0,
             "ticks": ""
            },
            "colorscale": [
             [
              0,
              "#0d0887"
             ],
             [
              0.1111111111111111,
              "#46039f"
             ],
             [
              0.2222222222222222,
              "#7201a8"
             ],
             [
              0.3333333333333333,
              "#9c179e"
             ],
             [
              0.4444444444444444,
              "#bd3786"
             ],
             [
              0.5555555555555556,
              "#d8576b"
             ],
             [
              0.6666666666666666,
              "#ed7953"
             ],
             [
              0.7777777777777778,
              "#fb9f3a"
             ],
             [
              0.8888888888888888,
              "#fdca26"
             ],
             [
              1,
              "#f0f921"
             ]
            ],
            "type": "histogram2dcontour"
           }
          ],
          "mesh3d": [
           {
            "colorbar": {
             "outlinewidth": 0,
             "ticks": ""
            },
            "type": "mesh3d"
           }
          ],
          "parcoords": [
           {
            "line": {
             "colorbar": {
              "outlinewidth": 0,
              "ticks": ""
             }
            },
            "type": "parcoords"
           }
          ],
          "pie": [
           {
            "automargin": true,
            "type": "pie"
           }
          ],
          "scatter": [
           {
            "fillpattern": {
             "fillmode": "overlay",
             "size": 10,
             "solidity": 0.2
            },
            "type": "scatter"
           }
          ],
          "scatter3d": [
           {
            "line": {
             "colorbar": {
              "outlinewidth": 0,
              "ticks": ""
             }
            },
            "marker": {
             "colorbar": {
              "outlinewidth": 0,
              "ticks": ""
             }
            },
            "type": "scatter3d"
           }
          ],
          "scattercarpet": [
           {
            "marker": {
             "colorbar": {
              "outlinewidth": 0,
              "ticks": ""
             }
            },
            "type": "scattercarpet"
           }
          ],
          "scattergeo": [
           {
            "marker": {
             "colorbar": {
              "outlinewidth": 0,
              "ticks": ""
             }
            },
            "type": "scattergeo"
           }
          ],
          "scattergl": [
           {
            "marker": {
             "colorbar": {
              "outlinewidth": 0,
              "ticks": ""
             }
            },
            "type": "scattergl"
           }
          ],
          "scattermapbox": [
           {
            "marker": {
             "colorbar": {
              "outlinewidth": 0,
              "ticks": ""
             }
            },
            "type": "scattermapbox"
           }
          ],
          "scatterpolar": [
           {
            "marker": {
             "colorbar": {
              "outlinewidth": 0,
              "ticks": ""
             }
            },
            "type": "scatterpolar"
           }
          ],
          "scatterpolargl": [
           {
            "marker": {
             "colorbar": {
              "outlinewidth": 0,
              "ticks": ""
             }
            },
            "type": "scatterpolargl"
           }
          ],
          "scatterternary": [
           {
            "marker": {
             "colorbar": {
              "outlinewidth": 0,
              "ticks": ""
             }
            },
            "type": "scatterternary"
           }
          ],
          "surface": [
           {
            "colorbar": {
             "outlinewidth": 0,
             "ticks": ""
            },
            "colorscale": [
             [
              0,
              "#0d0887"
             ],
             [
              0.1111111111111111,
              "#46039f"
             ],
             [
              0.2222222222222222,
              "#7201a8"
             ],
             [
              0.3333333333333333,
              "#9c179e"
             ],
             [
              0.4444444444444444,
              "#bd3786"
             ],
             [
              0.5555555555555556,
              "#d8576b"
             ],
             [
              0.6666666666666666,
              "#ed7953"
             ],
             [
              0.7777777777777778,
              "#fb9f3a"
             ],
             [
              0.8888888888888888,
              "#fdca26"
             ],
             [
              1,
              "#f0f921"
             ]
            ],
            "type": "surface"
           }
          ],
          "table": [
           {
            "cells": {
             "fill": {
              "color": "#EBF0F8"
             },
             "line": {
              "color": "white"
             }
            },
            "header": {
             "fill": {
              "color": "#C8D4E3"
             },
             "line": {
              "color": "white"
             }
            },
            "type": "table"
           }
          ]
         },
         "layout": {
          "annotationdefaults": {
           "arrowcolor": "#2a3f5f",
           "arrowhead": 0,
           "arrowwidth": 1
          },
          "autotypenumbers": "strict",
          "coloraxis": {
           "colorbar": {
            "outlinewidth": 0,
            "ticks": ""
           }
          },
          "colorscale": {
           "diverging": [
            [
             0,
             "#8e0152"
            ],
            [
             0.1,
             "#c51b7d"
            ],
            [
             0.2,
             "#de77ae"
            ],
            [
             0.3,
             "#f1b6da"
            ],
            [
             0.4,
             "#fde0ef"
            ],
            [
             0.5,
             "#f7f7f7"
            ],
            [
             0.6,
             "#e6f5d0"
            ],
            [
             0.7,
             "#b8e186"
            ],
            [
             0.8,
             "#7fbc41"
            ],
            [
             0.9,
             "#4d9221"
            ],
            [
             1,
             "#276419"
            ]
           ],
           "sequential": [
            [
             0,
             "#0d0887"
            ],
            [
             0.1111111111111111,
             "#46039f"
            ],
            [
             0.2222222222222222,
             "#7201a8"
            ],
            [
             0.3333333333333333,
             "#9c179e"
            ],
            [
             0.4444444444444444,
             "#bd3786"
            ],
            [
             0.5555555555555556,
             "#d8576b"
            ],
            [
             0.6666666666666666,
             "#ed7953"
            ],
            [
             0.7777777777777778,
             "#fb9f3a"
            ],
            [
             0.8888888888888888,
             "#fdca26"
            ],
            [
             1,
             "#f0f921"
            ]
           ],
           "sequentialminus": [
            [
             0,
             "#0d0887"
            ],
            [
             0.1111111111111111,
             "#46039f"
            ],
            [
             0.2222222222222222,
             "#7201a8"
            ],
            [
             0.3333333333333333,
             "#9c179e"
            ],
            [
             0.4444444444444444,
             "#bd3786"
            ],
            [
             0.5555555555555556,
             "#d8576b"
            ],
            [
             0.6666666666666666,
             "#ed7953"
            ],
            [
             0.7777777777777778,
             "#fb9f3a"
            ],
            [
             0.8888888888888888,
             "#fdca26"
            ],
            [
             1,
             "#f0f921"
            ]
           ]
          },
          "colorway": [
           "#636efa",
           "#EF553B",
           "#00cc96",
           "#ab63fa",
           "#FFA15A",
           "#19d3f3",
           "#FF6692",
           "#B6E880",
           "#FF97FF",
           "#FECB52"
          ],
          "font": {
           "color": "#2a3f5f"
          },
          "geo": {
           "bgcolor": "white",
           "lakecolor": "white",
           "landcolor": "#E5ECF6",
           "showlakes": true,
           "showland": true,
           "subunitcolor": "white"
          },
          "hoverlabel": {
           "align": "left"
          },
          "hovermode": "closest",
          "mapbox": {
           "style": "light"
          },
          "paper_bgcolor": "white",
          "plot_bgcolor": "#E5ECF6",
          "polar": {
           "angularaxis": {
            "gridcolor": "white",
            "linecolor": "white",
            "ticks": ""
           },
           "bgcolor": "#E5ECF6",
           "radialaxis": {
            "gridcolor": "white",
            "linecolor": "white",
            "ticks": ""
           }
          },
          "scene": {
           "xaxis": {
            "backgroundcolor": "#E5ECF6",
            "gridcolor": "white",
            "gridwidth": 2,
            "linecolor": "white",
            "showbackground": true,
            "ticks": "",
            "zerolinecolor": "white"
           },
           "yaxis": {
            "backgroundcolor": "#E5ECF6",
            "gridcolor": "white",
            "gridwidth": 2,
            "linecolor": "white",
            "showbackground": true,
            "ticks": "",
            "zerolinecolor": "white"
           },
           "zaxis": {
            "backgroundcolor": "#E5ECF6",
            "gridcolor": "white",
            "gridwidth": 2,
            "linecolor": "white",
            "showbackground": true,
            "ticks": "",
            "zerolinecolor": "white"
           }
          },
          "shapedefaults": {
           "line": {
            "color": "#2a3f5f"
           }
          },
          "ternary": {
           "aaxis": {
            "gridcolor": "white",
            "linecolor": "white",
            "ticks": ""
           },
           "baxis": {
            "gridcolor": "white",
            "linecolor": "white",
            "ticks": ""
           },
           "bgcolor": "#E5ECF6",
           "caxis": {
            "gridcolor": "white",
            "linecolor": "white",
            "ticks": ""
           }
          },
          "title": {
           "x": 0.05
          },
          "xaxis": {
           "automargin": true,
           "gridcolor": "white",
           "linecolor": "white",
           "ticks": "",
           "title": {
            "standoff": 15
           },
           "zerolinecolor": "white",
           "zerolinewidth": 2
          },
          "yaxis": {
           "automargin": true,
           "gridcolor": "white",
           "linecolor": "white",
           "ticks": "",
           "title": {
            "standoff": 15
           },
           "zerolinecolor": "white",
           "zerolinewidth": 2
          }
         }
        },
        "xaxis": {
         "anchor": "y",
         "domain": [
          0,
          1
         ],
         "title": {
          "text": "Precision"
         }
        },
        "yaxis": {
         "anchor": "x",
         "domain": [
          0,
          1
         ],
         "title": {
          "text": "Recall"
         }
        }
       }
      },
      "text/html": [
       "<div>                            <div id=\"b4d1942e-7df0-43da-80d0-6692615cbc68\" class=\"plotly-graph-div\" style=\"height:525px; width:100%;\"></div>            <script type=\"text/javascript\">                require([\"plotly\"], function(Plotly) {                    window.PLOTLYENV=window.PLOTLYENV || {};                                    if (document.getElementById(\"b4d1942e-7df0-43da-80d0-6692615cbc68\")) {                    Plotly.newPlot(                        \"b4d1942e-7df0-43da-80d0-6692615cbc68\",                        [{\"customdata\":[[\"128\",\"128\",\"3\",\"0.5\",\"True\",0.3697113042165126,0.7728673192744874],[\"256\",\"256\",\"3\",\"0.5\",\"True\",0.37005034035870005,0.7703676690978943],[\"256\",\"128\",\"3\",\"0.5\",\"True\",0.37880268041044474,0.7661642532831576],[\"128\",\"256\",\"3\",\"0.5\",\"True\",0.3629532556182572,0.7604680623207363]],\"hovertemplate\":\"DROPOUT=%{customdata[3]}<br>Precision=%{x}<br>Recall=%{y}<br>EMBEDDING_DIM=%{customdata[0]}<br>HIDDEN_DIM=%{customdata[1]}<br>N_LAYERS=%{customdata[2]}<br>BIDIRECTIONAL=%{customdata[4]}<br>Loss=%{customdata[5]}<br>F1-score=%{customdata[6]}<extra></extra>\",\"legendgroup\":\"0.5\",\"marker\":{\"color\":\"#636efa\",\"symbol\":\"circle\"},\"mode\":\"markers\",\"name\":\"0.5\",\"orientation\":\"v\",\"showlegend\":true,\"x\":[0.8057463665240981,0.7736235427024729,0.772384695057647,0.7785509991411494],\"xaxis\":\"x\",\"y\":[0.7476476379417006,0.7719772721681065,0.7657708500712203,0.7476079342600724],\"yaxis\":\"y\",\"type\":\"scatter\"},{\"customdata\":[[\"128\",\"128\",\"3\",\"0.4\",\"True\",0.35317376122942995,0.7709426384686549],[\"128\",\"256\",\"3\",\"0.4\",\"True\",0.3597330818218844,0.7626763524450416],[\"256\",\"128\",\"3\",\"0.4\",\"True\",0.3720781115282859,0.7507605236486584],[\"256\",\"256\",\"3\",\"0.4\",\"True\",0.3696577443874308,0.73347103950685]],\"hovertemplate\":\"DROPOUT=%{customdata[3]}<br>Precision=%{x}<br>Recall=%{y}<br>EMBEDDING_DIM=%{customdata[0]}<br>HIDDEN_DIM=%{customdata[1]}<br>N_LAYERS=%{customdata[2]}<br>BIDIRECTIONAL=%{customdata[4]}<br>Loss=%{customdata[5]}<br>F1-score=%{customdata[6]}<extra></extra>\",\"legendgroup\":\"0.4\",\"marker\":{\"color\":\"#EF553B\",\"symbol\":\"circle\"},\"mode\":\"markers\",\"name\":\"0.4\",\"orientation\":\"v\",\"showlegend\":true,\"x\":[0.796237419283604,0.783900230725422,0.74628522415857,0.7767013444440092],\"xaxis\":\"x\",\"y\":[0.7518631149882464,0.7469647425224168,0.7591696515030236,0.6999676327410044],\"yaxis\":\"y\",\"type\":\"scatter\"},{\"customdata\":[[\"256\",\"128\",\"3\",\"0.3\",\"True\",0.3453159789953913,0.7576919784395455],[\"256\",\"256\",\"3\",\"0.3\",\"True\",0.36911941612405436,0.7549931781175182],[\"128\",\"256\",\"3\",\"0.3\",\"True\",0.36898504809609484,0.7535841844175907],[\"128\",\"128\",\"3\",\"0.3\",\"True\",0.34733551860387835,0.7503771640512718]],\"hovertemplate\":\"DROPOUT=%{customdata[3]}<br>Precision=%{x}<br>Recall=%{y}<br>EMBEDDING_DIM=%{customdata[0]}<br>HIDDEN_DIM=%{customdata[1]}<br>N_LAYERS=%{customdata[2]}<br>BIDIRECTIONAL=%{customdata[4]}<br>Loss=%{customdata[5]}<br>F1-score=%{customdata[6]}<extra></extra>\",\"legendgroup\":\"0.3\",\"marker\":{\"color\":\"#00cc96\",\"symbol\":\"circle\"},\"mode\":\"markers\",\"name\":\"0.3\",\"orientation\":\"v\",\"showlegend\":true,\"x\":[0.8149516483285134,0.7934530126813462,0.7933060321635128,0.7802492279897845],\"xaxis\":\"x\",\"y\":[0.7132602475900972,0.7252659620498054,0.7218517671538851,0.7277870954810927],\"yaxis\":\"y\",\"type\":\"scatter\"}],                        {\"template\":{\"data\":{\"histogram2dcontour\":[{\"type\":\"histogram2dcontour\",\"colorbar\":{\"outlinewidth\":0,\"ticks\":\"\"},\"colorscale\":[[0.0,\"#0d0887\"],[0.1111111111111111,\"#46039f\"],[0.2222222222222222,\"#7201a8\"],[0.3333333333333333,\"#9c179e\"],[0.4444444444444444,\"#bd3786\"],[0.5555555555555556,\"#d8576b\"],[0.6666666666666666,\"#ed7953\"],[0.7777777777777778,\"#fb9f3a\"],[0.8888888888888888,\"#fdca26\"],[1.0,\"#f0f921\"]]}],\"choropleth\":[{\"type\":\"choropleth\",\"colorbar\":{\"outlinewidth\":0,\"ticks\":\"\"}}],\"histogram2d\":[{\"type\":\"histogram2d\",\"colorbar\":{\"outlinewidth\":0,\"ticks\":\"\"},\"colorscale\":[[0.0,\"#0d0887\"],[0.1111111111111111,\"#46039f\"],[0.2222222222222222,\"#7201a8\"],[0.3333333333333333,\"#9c179e\"],[0.4444444444444444,\"#bd3786\"],[0.5555555555555556,\"#d8576b\"],[0.6666666666666666,\"#ed7953\"],[0.7777777777777778,\"#fb9f3a\"],[0.8888888888888888,\"#fdca26\"],[1.0,\"#f0f921\"]]}],\"heatmap\":[{\"type\":\"heatmap\",\"colorbar\":{\"outlinewidth\":0,\"ticks\":\"\"},\"colorscale\":[[0.0,\"#0d0887\"],[0.1111111111111111,\"#46039f\"],[0.2222222222222222,\"#7201a8\"],[0.3333333333333333,\"#9c179e\"],[0.4444444444444444,\"#bd3786\"],[0.5555555555555556,\"#d8576b\"],[0.6666666666666666,\"#ed7953\"],[0.7777777777777778,\"#fb9f3a\"],[0.8888888888888888,\"#fdca26\"],[1.0,\"#f0f921\"]]}],\"heatmapgl\":[{\"type\":\"heatmapgl\",\"colorbar\":{\"outlinewidth\":0,\"ticks\":\"\"},\"colorscale\":[[0.0,\"#0d0887\"],[0.1111111111111111,\"#46039f\"],[0.2222222222222222,\"#7201a8\"],[0.3333333333333333,\"#9c179e\"],[0.4444444444444444,\"#bd3786\"],[0.5555555555555556,\"#d8576b\"],[0.6666666666666666,\"#ed7953\"],[0.7777777777777778,\"#fb9f3a\"],[0.8888888888888888,\"#fdca26\"],[1.0,\"#f0f921\"]]}],\"contourcarpet\":[{\"type\":\"contourcarpet\",\"colorbar\":{\"outlinewidth\":0,\"ticks\":\"\"}}],\"contour\":[{\"type\":\"contour\",\"colorbar\":{\"outlinewidth\":0,\"ticks\":\"\"},\"colorscale\":[[0.0,\"#0d0887\"],[0.1111111111111111,\"#46039f\"],[0.2222222222222222,\"#7201a8\"],[0.3333333333333333,\"#9c179e\"],[0.4444444444444444,\"#bd3786\"],[0.5555555555555556,\"#d8576b\"],[0.6666666666666666,\"#ed7953\"],[0.7777777777777778,\"#fb9f3a\"],[0.8888888888888888,\"#fdca26\"],[1.0,\"#f0f921\"]]}],\"surface\":[{\"type\":\"surface\",\"colorbar\":{\"outlinewidth\":0,\"ticks\":\"\"},\"colorscale\":[[0.0,\"#0d0887\"],[0.1111111111111111,\"#46039f\"],[0.2222222222222222,\"#7201a8\"],[0.3333333333333333,\"#9c179e\"],[0.4444444444444444,\"#bd3786\"],[0.5555555555555556,\"#d8576b\"],[0.6666666666666666,\"#ed7953\"],[0.7777777777777778,\"#fb9f3a\"],[0.8888888888888888,\"#fdca26\"],[1.0,\"#f0f921\"]]}],\"mesh3d\":[{\"type\":\"mesh3d\",\"colorbar\":{\"outlinewidth\":0,\"ticks\":\"\"}}],\"scatter\":[{\"fillpattern\":{\"fillmode\":\"overlay\",\"size\":10,\"solidity\":0.2},\"type\":\"scatter\"}],\"parcoords\":[{\"type\":\"parcoords\",\"line\":{\"colorbar\":{\"outlinewidth\":0,\"ticks\":\"\"}}}],\"scatterpolargl\":[{\"type\":\"scatterpolargl\",\"marker\":{\"colorbar\":{\"outlinewidth\":0,\"ticks\":\"\"}}}],\"bar\":[{\"error_x\":{\"color\":\"#2a3f5f\"},\"error_y\":{\"color\":\"#2a3f5f\"},\"marker\":{\"line\":{\"color\":\"#E5ECF6\",\"width\":0.5},\"pattern\":{\"fillmode\":\"overlay\",\"size\":10,\"solidity\":0.2}},\"type\":\"bar\"}],\"scattergeo\":[{\"type\":\"scattergeo\",\"marker\":{\"colorbar\":{\"outlinewidth\":0,\"ticks\":\"\"}}}],\"scatterpolar\":[{\"type\":\"scatterpolar\",\"marker\":{\"colorbar\":{\"outlinewidth\":0,\"ticks\":\"\"}}}],\"histogram\":[{\"marker\":{\"pattern\":{\"fillmode\":\"overlay\",\"size\":10,\"solidity\":0.2}},\"type\":\"histogram\"}],\"scattergl\":[{\"type\":\"scattergl\",\"marker\":{\"colorbar\":{\"outlinewidth\":0,\"ticks\":\"\"}}}],\"scatter3d\":[{\"type\":\"scatter3d\",\"line\":{\"colorbar\":{\"outlinewidth\":0,\"ticks\":\"\"}},\"marker\":{\"colorbar\":{\"outlinewidth\":0,\"ticks\":\"\"}}}],\"scattermapbox\":[{\"type\":\"scattermapbox\",\"marker\":{\"colorbar\":{\"outlinewidth\":0,\"ticks\":\"\"}}}],\"scatterternary\":[{\"type\":\"scatterternary\",\"marker\":{\"colorbar\":{\"outlinewidth\":0,\"ticks\":\"\"}}}],\"scattercarpet\":[{\"type\":\"scattercarpet\",\"marker\":{\"colorbar\":{\"outlinewidth\":0,\"ticks\":\"\"}}}],\"carpet\":[{\"aaxis\":{\"endlinecolor\":\"#2a3f5f\",\"gridcolor\":\"white\",\"linecolor\":\"white\",\"minorgridcolor\":\"white\",\"startlinecolor\":\"#2a3f5f\"},\"baxis\":{\"endlinecolor\":\"#2a3f5f\",\"gridcolor\":\"white\",\"linecolor\":\"white\",\"minorgridcolor\":\"white\",\"startlinecolor\":\"#2a3f5f\"},\"type\":\"carpet\"}],\"table\":[{\"cells\":{\"fill\":{\"color\":\"#EBF0F8\"},\"line\":{\"color\":\"white\"}},\"header\":{\"fill\":{\"color\":\"#C8D4E3\"},\"line\":{\"color\":\"white\"}},\"type\":\"table\"}],\"barpolar\":[{\"marker\":{\"line\":{\"color\":\"#E5ECF6\",\"width\":0.5},\"pattern\":{\"fillmode\":\"overlay\",\"size\":10,\"solidity\":0.2}},\"type\":\"barpolar\"}],\"pie\":[{\"automargin\":true,\"type\":\"pie\"}]},\"layout\":{\"autotypenumbers\":\"strict\",\"colorway\":[\"#636efa\",\"#EF553B\",\"#00cc96\",\"#ab63fa\",\"#FFA15A\",\"#19d3f3\",\"#FF6692\",\"#B6E880\",\"#FF97FF\",\"#FECB52\"],\"font\":{\"color\":\"#2a3f5f\"},\"hovermode\":\"closest\",\"hoverlabel\":{\"align\":\"left\"},\"paper_bgcolor\":\"white\",\"plot_bgcolor\":\"#E5ECF6\",\"polar\":{\"bgcolor\":\"#E5ECF6\",\"angularaxis\":{\"gridcolor\":\"white\",\"linecolor\":\"white\",\"ticks\":\"\"},\"radialaxis\":{\"gridcolor\":\"white\",\"linecolor\":\"white\",\"ticks\":\"\"}},\"ternary\":{\"bgcolor\":\"#E5ECF6\",\"aaxis\":{\"gridcolor\":\"white\",\"linecolor\":\"white\",\"ticks\":\"\"},\"baxis\":{\"gridcolor\":\"white\",\"linecolor\":\"white\",\"ticks\":\"\"},\"caxis\":{\"gridcolor\":\"white\",\"linecolor\":\"white\",\"ticks\":\"\"}},\"coloraxis\":{\"colorbar\":{\"outlinewidth\":0,\"ticks\":\"\"}},\"colorscale\":{\"sequential\":[[0.0,\"#0d0887\"],[0.1111111111111111,\"#46039f\"],[0.2222222222222222,\"#7201a8\"],[0.3333333333333333,\"#9c179e\"],[0.4444444444444444,\"#bd3786\"],[0.5555555555555556,\"#d8576b\"],[0.6666666666666666,\"#ed7953\"],[0.7777777777777778,\"#fb9f3a\"],[0.8888888888888888,\"#fdca26\"],[1.0,\"#f0f921\"]],\"sequentialminus\":[[0.0,\"#0d0887\"],[0.1111111111111111,\"#46039f\"],[0.2222222222222222,\"#7201a8\"],[0.3333333333333333,\"#9c179e\"],[0.4444444444444444,\"#bd3786\"],[0.5555555555555556,\"#d8576b\"],[0.6666666666666666,\"#ed7953\"],[0.7777777777777778,\"#fb9f3a\"],[0.8888888888888888,\"#fdca26\"],[1.0,\"#f0f921\"]],\"diverging\":[[0,\"#8e0152\"],[0.1,\"#c51b7d\"],[0.2,\"#de77ae\"],[0.3,\"#f1b6da\"],[0.4,\"#fde0ef\"],[0.5,\"#f7f7f7\"],[0.6,\"#e6f5d0\"],[0.7,\"#b8e186\"],[0.8,\"#7fbc41\"],[0.9,\"#4d9221\"],[1,\"#276419\"]]},\"xaxis\":{\"gridcolor\":\"white\",\"linecolor\":\"white\",\"ticks\":\"\",\"title\":{\"standoff\":15},\"zerolinecolor\":\"white\",\"automargin\":true,\"zerolinewidth\":2},\"yaxis\":{\"gridcolor\":\"white\",\"linecolor\":\"white\",\"ticks\":\"\",\"title\":{\"standoff\":15},\"zerolinecolor\":\"white\",\"automargin\":true,\"zerolinewidth\":2},\"scene\":{\"xaxis\":{\"backgroundcolor\":\"#E5ECF6\",\"gridcolor\":\"white\",\"linecolor\":\"white\",\"showbackground\":true,\"ticks\":\"\",\"zerolinecolor\":\"white\",\"gridwidth\":2},\"yaxis\":{\"backgroundcolor\":\"#E5ECF6\",\"gridcolor\":\"white\",\"linecolor\":\"white\",\"showbackground\":true,\"ticks\":\"\",\"zerolinecolor\":\"white\",\"gridwidth\":2},\"zaxis\":{\"backgroundcolor\":\"#E5ECF6\",\"gridcolor\":\"white\",\"linecolor\":\"white\",\"showbackground\":true,\"ticks\":\"\",\"zerolinecolor\":\"white\",\"gridwidth\":2}},\"shapedefaults\":{\"line\":{\"color\":\"#2a3f5f\"}},\"annotationdefaults\":{\"arrowcolor\":\"#2a3f5f\",\"arrowhead\":0,\"arrowwidth\":1},\"geo\":{\"bgcolor\":\"white\",\"landcolor\":\"#E5ECF6\",\"subunitcolor\":\"white\",\"showland\":true,\"showlakes\":true,\"lakecolor\":\"white\"},\"title\":{\"x\":0.05},\"mapbox\":{\"style\":\"light\"}}},\"xaxis\":{\"anchor\":\"y\",\"domain\":[0.0,1.0],\"title\":{\"text\":\"Precision\"}},\"yaxis\":{\"anchor\":\"x\",\"domain\":[0.0,1.0],\"title\":{\"text\":\"Recall\"}},\"legend\":{\"title\":{\"text\":\"DROPOUT\"},\"tracegroupgap\":0},\"margin\":{\"t\":60}},                        {\"responsive\": true}                    ).then(function(){\n",
       "                            \n",
       "var gd = document.getElementById('b4d1942e-7df0-43da-80d0-6692615cbc68');\n",
       "var x = new MutationObserver(function (mutations, observer) {{\n",
       "        var display = window.getComputedStyle(gd).display;\n",
       "        if (!display || display === 'none') {{\n",
       "            console.log([gd, 'removed!']);\n",
       "            Plotly.purge(gd);\n",
       "            observer.disconnect();\n",
       "        }}\n",
       "}});\n",
       "\n",
       "// Listen for the removal of the full notebook cells\n",
       "var notebookContainer = gd.closest('#notebook-container');\n",
       "if (notebookContainer) {{\n",
       "    x.observe(notebookContainer, {childList: true});\n",
       "}}\n",
       "\n",
       "// Listen for the clearing of the current output cell\n",
       "var outputEl = gd.closest('.output');\n",
       "if (outputEl) {{\n",
       "    x.observe(outputEl, {childList: true});\n",
       "}}\n",
       "\n",
       "                        })                };                });            </script>        </div>"
      ]
     },
     "metadata": {},
     "output_type": "display_data"
    }
   ],
   "source": [
    "subdf_gridsearch = df_gridsearch[(df_gridsearch[\"BIDIRECTIONAL\"] == \"True\") & (df_gridsearch[\"N_LAYERS\"] == \"3\")]\n",
    "px.scatter(subdf_gridsearch, x=\"Precision\", y=\"Recall\", color=\"DROPOUT\", hover_data=subdf_gridsearch.columns)"
   ]
  },
  {
   "cell_type": "code",
   "execution_count": 96,
   "id": "d11e058a",
   "metadata": {},
   "outputs": [
    {
     "data": {
      "application/vnd.plotly.v1+json": {
       "config": {
        "plotlyServerURL": "https://plot.ly"
       },
       "data": [
        {
         "alignmentgroup": "True",
         "customdata": [
          [
           "128",
           "3",
           "0.5",
           "True",
           0.3697113042165126,
           0.8057463665240981,
           0.7476476379417006
          ],
          [
           "128",
           "3",
           "0.5",
           "True",
           0.3629532556182572,
           0.7785509991411494,
           0.7476079342600724
          ]
         ],
         "hovertemplate": "EMBEDDING_DIM=%{customdata[0]}<br>HIDDEN_DIM=%{x}<br>F1-score=%{y}<br>N_LAYERS=%{customdata[1]}<br>DROPOUT=%{customdata[2]}<br>BIDIRECTIONAL=%{customdata[3]}<br>Loss=%{customdata[4]}<br>Precision=%{customdata[5]}<br>Recall=%{customdata[6]}<extra></extra>",
         "legendgroup": "128",
         "marker": {
          "color": "#636efa",
          "pattern": {
           "shape": ""
          }
         },
         "name": "128",
         "offsetgroup": "128",
         "orientation": "v",
         "showlegend": true,
         "textposition": "auto",
         "type": "bar",
         "x": [
          "128",
          "256"
         ],
         "xaxis": "x",
         "y": [
          0.7728673192744874,
          0.7604680623207363
         ],
         "yaxis": "y"
        },
        {
         "alignmentgroup": "True",
         "customdata": [
          [
           "256",
           "3",
           "0.5",
           "True",
           0.37005034035870005,
           0.7736235427024729,
           0.7719772721681065
          ],
          [
           "256",
           "3",
           "0.5",
           "True",
           0.37880268041044474,
           0.772384695057647,
           0.7657708500712203
          ]
         ],
         "hovertemplate": "EMBEDDING_DIM=%{customdata[0]}<br>HIDDEN_DIM=%{x}<br>F1-score=%{y}<br>N_LAYERS=%{customdata[1]}<br>DROPOUT=%{customdata[2]}<br>BIDIRECTIONAL=%{customdata[3]}<br>Loss=%{customdata[4]}<br>Precision=%{customdata[5]}<br>Recall=%{customdata[6]}<extra></extra>",
         "legendgroup": "256",
         "marker": {
          "color": "#EF553B",
          "pattern": {
           "shape": ""
          }
         },
         "name": "256",
         "offsetgroup": "256",
         "orientation": "v",
         "showlegend": true,
         "textposition": "auto",
         "type": "bar",
         "x": [
          "256",
          "128"
         ],
         "xaxis": "x",
         "y": [
          0.7703676690978943,
          0.7661642532831576
         ],
         "yaxis": "y"
        }
       ],
       "layout": {
        "barmode": "group",
        "legend": {
         "title": {
          "text": "EMBEDDING_DIM"
         },
         "tracegroupgap": 0
        },
        "margin": {
         "t": 60
        },
        "template": {
         "data": {
          "bar": [
           {
            "error_x": {
             "color": "#2a3f5f"
            },
            "error_y": {
             "color": "#2a3f5f"
            },
            "marker": {
             "line": {
              "color": "#E5ECF6",
              "width": 0.5
             },
             "pattern": {
              "fillmode": "overlay",
              "size": 10,
              "solidity": 0.2
             }
            },
            "type": "bar"
           }
          ],
          "barpolar": [
           {
            "marker": {
             "line": {
              "color": "#E5ECF6",
              "width": 0.5
             },
             "pattern": {
              "fillmode": "overlay",
              "size": 10,
              "solidity": 0.2
             }
            },
            "type": "barpolar"
           }
          ],
          "carpet": [
           {
            "aaxis": {
             "endlinecolor": "#2a3f5f",
             "gridcolor": "white",
             "linecolor": "white",
             "minorgridcolor": "white",
             "startlinecolor": "#2a3f5f"
            },
            "baxis": {
             "endlinecolor": "#2a3f5f",
             "gridcolor": "white",
             "linecolor": "white",
             "minorgridcolor": "white",
             "startlinecolor": "#2a3f5f"
            },
            "type": "carpet"
           }
          ],
          "choropleth": [
           {
            "colorbar": {
             "outlinewidth": 0,
             "ticks": ""
            },
            "type": "choropleth"
           }
          ],
          "contour": [
           {
            "colorbar": {
             "outlinewidth": 0,
             "ticks": ""
            },
            "colorscale": [
             [
              0,
              "#0d0887"
             ],
             [
              0.1111111111111111,
              "#46039f"
             ],
             [
              0.2222222222222222,
              "#7201a8"
             ],
             [
              0.3333333333333333,
              "#9c179e"
             ],
             [
              0.4444444444444444,
              "#bd3786"
             ],
             [
              0.5555555555555556,
              "#d8576b"
             ],
             [
              0.6666666666666666,
              "#ed7953"
             ],
             [
              0.7777777777777778,
              "#fb9f3a"
             ],
             [
              0.8888888888888888,
              "#fdca26"
             ],
             [
              1,
              "#f0f921"
             ]
            ],
            "type": "contour"
           }
          ],
          "contourcarpet": [
           {
            "colorbar": {
             "outlinewidth": 0,
             "ticks": ""
            },
            "type": "contourcarpet"
           }
          ],
          "heatmap": [
           {
            "colorbar": {
             "outlinewidth": 0,
             "ticks": ""
            },
            "colorscale": [
             [
              0,
              "#0d0887"
             ],
             [
              0.1111111111111111,
              "#46039f"
             ],
             [
              0.2222222222222222,
              "#7201a8"
             ],
             [
              0.3333333333333333,
              "#9c179e"
             ],
             [
              0.4444444444444444,
              "#bd3786"
             ],
             [
              0.5555555555555556,
              "#d8576b"
             ],
             [
              0.6666666666666666,
              "#ed7953"
             ],
             [
              0.7777777777777778,
              "#fb9f3a"
             ],
             [
              0.8888888888888888,
              "#fdca26"
             ],
             [
              1,
              "#f0f921"
             ]
            ],
            "type": "heatmap"
           }
          ],
          "heatmapgl": [
           {
            "colorbar": {
             "outlinewidth": 0,
             "ticks": ""
            },
            "colorscale": [
             [
              0,
              "#0d0887"
             ],
             [
              0.1111111111111111,
              "#46039f"
             ],
             [
              0.2222222222222222,
              "#7201a8"
             ],
             [
              0.3333333333333333,
              "#9c179e"
             ],
             [
              0.4444444444444444,
              "#bd3786"
             ],
             [
              0.5555555555555556,
              "#d8576b"
             ],
             [
              0.6666666666666666,
              "#ed7953"
             ],
             [
              0.7777777777777778,
              "#fb9f3a"
             ],
             [
              0.8888888888888888,
              "#fdca26"
             ],
             [
              1,
              "#f0f921"
             ]
            ],
            "type": "heatmapgl"
           }
          ],
          "histogram": [
           {
            "marker": {
             "pattern": {
              "fillmode": "overlay",
              "size": 10,
              "solidity": 0.2
             }
            },
            "type": "histogram"
           }
          ],
          "histogram2d": [
           {
            "colorbar": {
             "outlinewidth": 0,
             "ticks": ""
            },
            "colorscale": [
             [
              0,
              "#0d0887"
             ],
             [
              0.1111111111111111,
              "#46039f"
             ],
             [
              0.2222222222222222,
              "#7201a8"
             ],
             [
              0.3333333333333333,
              "#9c179e"
             ],
             [
              0.4444444444444444,
              "#bd3786"
             ],
             [
              0.5555555555555556,
              "#d8576b"
             ],
             [
              0.6666666666666666,
              "#ed7953"
             ],
             [
              0.7777777777777778,
              "#fb9f3a"
             ],
             [
              0.8888888888888888,
              "#fdca26"
             ],
             [
              1,
              "#f0f921"
             ]
            ],
            "type": "histogram2d"
           }
          ],
          "histogram2dcontour": [
           {
            "colorbar": {
             "outlinewidth": 0,
             "ticks": ""
            },
            "colorscale": [
             [
              0,
              "#0d0887"
             ],
             [
              0.1111111111111111,
              "#46039f"
             ],
             [
              0.2222222222222222,
              "#7201a8"
             ],
             [
              0.3333333333333333,
              "#9c179e"
             ],
             [
              0.4444444444444444,
              "#bd3786"
             ],
             [
              0.5555555555555556,
              "#d8576b"
             ],
             [
              0.6666666666666666,
              "#ed7953"
             ],
             [
              0.7777777777777778,
              "#fb9f3a"
             ],
             [
              0.8888888888888888,
              "#fdca26"
             ],
             [
              1,
              "#f0f921"
             ]
            ],
            "type": "histogram2dcontour"
           }
          ],
          "mesh3d": [
           {
            "colorbar": {
             "outlinewidth": 0,
             "ticks": ""
            },
            "type": "mesh3d"
           }
          ],
          "parcoords": [
           {
            "line": {
             "colorbar": {
              "outlinewidth": 0,
              "ticks": ""
             }
            },
            "type": "parcoords"
           }
          ],
          "pie": [
           {
            "automargin": true,
            "type": "pie"
           }
          ],
          "scatter": [
           {
            "fillpattern": {
             "fillmode": "overlay",
             "size": 10,
             "solidity": 0.2
            },
            "type": "scatter"
           }
          ],
          "scatter3d": [
           {
            "line": {
             "colorbar": {
              "outlinewidth": 0,
              "ticks": ""
             }
            },
            "marker": {
             "colorbar": {
              "outlinewidth": 0,
              "ticks": ""
             }
            },
            "type": "scatter3d"
           }
          ],
          "scattercarpet": [
           {
            "marker": {
             "colorbar": {
              "outlinewidth": 0,
              "ticks": ""
             }
            },
            "type": "scattercarpet"
           }
          ],
          "scattergeo": [
           {
            "marker": {
             "colorbar": {
              "outlinewidth": 0,
              "ticks": ""
             }
            },
            "type": "scattergeo"
           }
          ],
          "scattergl": [
           {
            "marker": {
             "colorbar": {
              "outlinewidth": 0,
              "ticks": ""
             }
            },
            "type": "scattergl"
           }
          ],
          "scattermapbox": [
           {
            "marker": {
             "colorbar": {
              "outlinewidth": 0,
              "ticks": ""
             }
            },
            "type": "scattermapbox"
           }
          ],
          "scatterpolar": [
           {
            "marker": {
             "colorbar": {
              "outlinewidth": 0,
              "ticks": ""
             }
            },
            "type": "scatterpolar"
           }
          ],
          "scatterpolargl": [
           {
            "marker": {
             "colorbar": {
              "outlinewidth": 0,
              "ticks": ""
             }
            },
            "type": "scatterpolargl"
           }
          ],
          "scatterternary": [
           {
            "marker": {
             "colorbar": {
              "outlinewidth": 0,
              "ticks": ""
             }
            },
            "type": "scatterternary"
           }
          ],
          "surface": [
           {
            "colorbar": {
             "outlinewidth": 0,
             "ticks": ""
            },
            "colorscale": [
             [
              0,
              "#0d0887"
             ],
             [
              0.1111111111111111,
              "#46039f"
             ],
             [
              0.2222222222222222,
              "#7201a8"
             ],
             [
              0.3333333333333333,
              "#9c179e"
             ],
             [
              0.4444444444444444,
              "#bd3786"
             ],
             [
              0.5555555555555556,
              "#d8576b"
             ],
             [
              0.6666666666666666,
              "#ed7953"
             ],
             [
              0.7777777777777778,
              "#fb9f3a"
             ],
             [
              0.8888888888888888,
              "#fdca26"
             ],
             [
              1,
              "#f0f921"
             ]
            ],
            "type": "surface"
           }
          ],
          "table": [
           {
            "cells": {
             "fill": {
              "color": "#EBF0F8"
             },
             "line": {
              "color": "white"
             }
            },
            "header": {
             "fill": {
              "color": "#C8D4E3"
             },
             "line": {
              "color": "white"
             }
            },
            "type": "table"
           }
          ]
         },
         "layout": {
          "annotationdefaults": {
           "arrowcolor": "#2a3f5f",
           "arrowhead": 0,
           "arrowwidth": 1
          },
          "autotypenumbers": "strict",
          "coloraxis": {
           "colorbar": {
            "outlinewidth": 0,
            "ticks": ""
           }
          },
          "colorscale": {
           "diverging": [
            [
             0,
             "#8e0152"
            ],
            [
             0.1,
             "#c51b7d"
            ],
            [
             0.2,
             "#de77ae"
            ],
            [
             0.3,
             "#f1b6da"
            ],
            [
             0.4,
             "#fde0ef"
            ],
            [
             0.5,
             "#f7f7f7"
            ],
            [
             0.6,
             "#e6f5d0"
            ],
            [
             0.7,
             "#b8e186"
            ],
            [
             0.8,
             "#7fbc41"
            ],
            [
             0.9,
             "#4d9221"
            ],
            [
             1,
             "#276419"
            ]
           ],
           "sequential": [
            [
             0,
             "#0d0887"
            ],
            [
             0.1111111111111111,
             "#46039f"
            ],
            [
             0.2222222222222222,
             "#7201a8"
            ],
            [
             0.3333333333333333,
             "#9c179e"
            ],
            [
             0.4444444444444444,
             "#bd3786"
            ],
            [
             0.5555555555555556,
             "#d8576b"
            ],
            [
             0.6666666666666666,
             "#ed7953"
            ],
            [
             0.7777777777777778,
             "#fb9f3a"
            ],
            [
             0.8888888888888888,
             "#fdca26"
            ],
            [
             1,
             "#f0f921"
            ]
           ],
           "sequentialminus": [
            [
             0,
             "#0d0887"
            ],
            [
             0.1111111111111111,
             "#46039f"
            ],
            [
             0.2222222222222222,
             "#7201a8"
            ],
            [
             0.3333333333333333,
             "#9c179e"
            ],
            [
             0.4444444444444444,
             "#bd3786"
            ],
            [
             0.5555555555555556,
             "#d8576b"
            ],
            [
             0.6666666666666666,
             "#ed7953"
            ],
            [
             0.7777777777777778,
             "#fb9f3a"
            ],
            [
             0.8888888888888888,
             "#fdca26"
            ],
            [
             1,
             "#f0f921"
            ]
           ]
          },
          "colorway": [
           "#636efa",
           "#EF553B",
           "#00cc96",
           "#ab63fa",
           "#FFA15A",
           "#19d3f3",
           "#FF6692",
           "#B6E880",
           "#FF97FF",
           "#FECB52"
          ],
          "font": {
           "color": "#2a3f5f"
          },
          "geo": {
           "bgcolor": "white",
           "lakecolor": "white",
           "landcolor": "#E5ECF6",
           "showlakes": true,
           "showland": true,
           "subunitcolor": "white"
          },
          "hoverlabel": {
           "align": "left"
          },
          "hovermode": "closest",
          "mapbox": {
           "style": "light"
          },
          "paper_bgcolor": "white",
          "plot_bgcolor": "#E5ECF6",
          "polar": {
           "angularaxis": {
            "gridcolor": "white",
            "linecolor": "white",
            "ticks": ""
           },
           "bgcolor": "#E5ECF6",
           "radialaxis": {
            "gridcolor": "white",
            "linecolor": "white",
            "ticks": ""
           }
          },
          "scene": {
           "xaxis": {
            "backgroundcolor": "#E5ECF6",
            "gridcolor": "white",
            "gridwidth": 2,
            "linecolor": "white",
            "showbackground": true,
            "ticks": "",
            "zerolinecolor": "white"
           },
           "yaxis": {
            "backgroundcolor": "#E5ECF6",
            "gridcolor": "white",
            "gridwidth": 2,
            "linecolor": "white",
            "showbackground": true,
            "ticks": "",
            "zerolinecolor": "white"
           },
           "zaxis": {
            "backgroundcolor": "#E5ECF6",
            "gridcolor": "white",
            "gridwidth": 2,
            "linecolor": "white",
            "showbackground": true,
            "ticks": "",
            "zerolinecolor": "white"
           }
          },
          "shapedefaults": {
           "line": {
            "color": "#2a3f5f"
           }
          },
          "ternary": {
           "aaxis": {
            "gridcolor": "white",
            "linecolor": "white",
            "ticks": ""
           },
           "baxis": {
            "gridcolor": "white",
            "linecolor": "white",
            "ticks": ""
           },
           "bgcolor": "#E5ECF6",
           "caxis": {
            "gridcolor": "white",
            "linecolor": "white",
            "ticks": ""
           }
          },
          "title": {
           "x": 0.05
          },
          "xaxis": {
           "automargin": true,
           "gridcolor": "white",
           "linecolor": "white",
           "ticks": "",
           "title": {
            "standoff": 15
           },
           "zerolinecolor": "white",
           "zerolinewidth": 2
          },
          "yaxis": {
           "automargin": true,
           "gridcolor": "white",
           "linecolor": "white",
           "ticks": "",
           "title": {
            "standoff": 15
           },
           "zerolinecolor": "white",
           "zerolinewidth": 2
          }
         }
        },
        "xaxis": {
         "anchor": "y",
         "domain": [
          0,
          1
         ],
         "title": {
          "text": "HIDDEN_DIM"
         }
        },
        "yaxis": {
         "anchor": "x",
         "domain": [
          0,
          1
         ],
         "title": {
          "text": "F1-score"
         }
        }
       }
      },
      "text/html": [
       "<div>                            <div id=\"e36d3d3e-33a5-4a3a-bb7a-4e9f361d8c47\" class=\"plotly-graph-div\" style=\"height:525px; width:100%;\"></div>            <script type=\"text/javascript\">                require([\"plotly\"], function(Plotly) {                    window.PLOTLYENV=window.PLOTLYENV || {};                                    if (document.getElementById(\"e36d3d3e-33a5-4a3a-bb7a-4e9f361d8c47\")) {                    Plotly.newPlot(                        \"e36d3d3e-33a5-4a3a-bb7a-4e9f361d8c47\",                        [{\"alignmentgroup\":\"True\",\"customdata\":[[\"128\",\"3\",\"0.5\",\"True\",0.3697113042165126,0.8057463665240981,0.7476476379417006],[\"128\",\"3\",\"0.5\",\"True\",0.3629532556182572,0.7785509991411494,0.7476079342600724]],\"hovertemplate\":\"EMBEDDING_DIM=%{customdata[0]}<br>HIDDEN_DIM=%{x}<br>F1-score=%{y}<br>N_LAYERS=%{customdata[1]}<br>DROPOUT=%{customdata[2]}<br>BIDIRECTIONAL=%{customdata[3]}<br>Loss=%{customdata[4]}<br>Precision=%{customdata[5]}<br>Recall=%{customdata[6]}<extra></extra>\",\"legendgroup\":\"128\",\"marker\":{\"color\":\"#636efa\",\"pattern\":{\"shape\":\"\"}},\"name\":\"128\",\"offsetgroup\":\"128\",\"orientation\":\"v\",\"showlegend\":true,\"textposition\":\"auto\",\"x\":[\"128\",\"256\"],\"xaxis\":\"x\",\"y\":[0.7728673192744874,0.7604680623207363],\"yaxis\":\"y\",\"type\":\"bar\"},{\"alignmentgroup\":\"True\",\"customdata\":[[\"256\",\"3\",\"0.5\",\"True\",0.37005034035870005,0.7736235427024729,0.7719772721681065],[\"256\",\"3\",\"0.5\",\"True\",0.37880268041044474,0.772384695057647,0.7657708500712203]],\"hovertemplate\":\"EMBEDDING_DIM=%{customdata[0]}<br>HIDDEN_DIM=%{x}<br>F1-score=%{y}<br>N_LAYERS=%{customdata[1]}<br>DROPOUT=%{customdata[2]}<br>BIDIRECTIONAL=%{customdata[3]}<br>Loss=%{customdata[4]}<br>Precision=%{customdata[5]}<br>Recall=%{customdata[6]}<extra></extra>\",\"legendgroup\":\"256\",\"marker\":{\"color\":\"#EF553B\",\"pattern\":{\"shape\":\"\"}},\"name\":\"256\",\"offsetgroup\":\"256\",\"orientation\":\"v\",\"showlegend\":true,\"textposition\":\"auto\",\"x\":[\"256\",\"128\"],\"xaxis\":\"x\",\"y\":[0.7703676690978943,0.7661642532831576],\"yaxis\":\"y\",\"type\":\"bar\"}],                        {\"template\":{\"data\":{\"histogram2dcontour\":[{\"type\":\"histogram2dcontour\",\"colorbar\":{\"outlinewidth\":0,\"ticks\":\"\"},\"colorscale\":[[0.0,\"#0d0887\"],[0.1111111111111111,\"#46039f\"],[0.2222222222222222,\"#7201a8\"],[0.3333333333333333,\"#9c179e\"],[0.4444444444444444,\"#bd3786\"],[0.5555555555555556,\"#d8576b\"],[0.6666666666666666,\"#ed7953\"],[0.7777777777777778,\"#fb9f3a\"],[0.8888888888888888,\"#fdca26\"],[1.0,\"#f0f921\"]]}],\"choropleth\":[{\"type\":\"choropleth\",\"colorbar\":{\"outlinewidth\":0,\"ticks\":\"\"}}],\"histogram2d\":[{\"type\":\"histogram2d\",\"colorbar\":{\"outlinewidth\":0,\"ticks\":\"\"},\"colorscale\":[[0.0,\"#0d0887\"],[0.1111111111111111,\"#46039f\"],[0.2222222222222222,\"#7201a8\"],[0.3333333333333333,\"#9c179e\"],[0.4444444444444444,\"#bd3786\"],[0.5555555555555556,\"#d8576b\"],[0.6666666666666666,\"#ed7953\"],[0.7777777777777778,\"#fb9f3a\"],[0.8888888888888888,\"#fdca26\"],[1.0,\"#f0f921\"]]}],\"heatmap\":[{\"type\":\"heatmap\",\"colorbar\":{\"outlinewidth\":0,\"ticks\":\"\"},\"colorscale\":[[0.0,\"#0d0887\"],[0.1111111111111111,\"#46039f\"],[0.2222222222222222,\"#7201a8\"],[0.3333333333333333,\"#9c179e\"],[0.4444444444444444,\"#bd3786\"],[0.5555555555555556,\"#d8576b\"],[0.6666666666666666,\"#ed7953\"],[0.7777777777777778,\"#fb9f3a\"],[0.8888888888888888,\"#fdca26\"],[1.0,\"#f0f921\"]]}],\"heatmapgl\":[{\"type\":\"heatmapgl\",\"colorbar\":{\"outlinewidth\":0,\"ticks\":\"\"},\"colorscale\":[[0.0,\"#0d0887\"],[0.1111111111111111,\"#46039f\"],[0.2222222222222222,\"#7201a8\"],[0.3333333333333333,\"#9c179e\"],[0.4444444444444444,\"#bd3786\"],[0.5555555555555556,\"#d8576b\"],[0.6666666666666666,\"#ed7953\"],[0.7777777777777778,\"#fb9f3a\"],[0.8888888888888888,\"#fdca26\"],[1.0,\"#f0f921\"]]}],\"contourcarpet\":[{\"type\":\"contourcarpet\",\"colorbar\":{\"outlinewidth\":0,\"ticks\":\"\"}}],\"contour\":[{\"type\":\"contour\",\"colorbar\":{\"outlinewidth\":0,\"ticks\":\"\"},\"colorscale\":[[0.0,\"#0d0887\"],[0.1111111111111111,\"#46039f\"],[0.2222222222222222,\"#7201a8\"],[0.3333333333333333,\"#9c179e\"],[0.4444444444444444,\"#bd3786\"],[0.5555555555555556,\"#d8576b\"],[0.6666666666666666,\"#ed7953\"],[0.7777777777777778,\"#fb9f3a\"],[0.8888888888888888,\"#fdca26\"],[1.0,\"#f0f921\"]]}],\"surface\":[{\"type\":\"surface\",\"colorbar\":{\"outlinewidth\":0,\"ticks\":\"\"},\"colorscale\":[[0.0,\"#0d0887\"],[0.1111111111111111,\"#46039f\"],[0.2222222222222222,\"#7201a8\"],[0.3333333333333333,\"#9c179e\"],[0.4444444444444444,\"#bd3786\"],[0.5555555555555556,\"#d8576b\"],[0.6666666666666666,\"#ed7953\"],[0.7777777777777778,\"#fb9f3a\"],[0.8888888888888888,\"#fdca26\"],[1.0,\"#f0f921\"]]}],\"mesh3d\":[{\"type\":\"mesh3d\",\"colorbar\":{\"outlinewidth\":0,\"ticks\":\"\"}}],\"scatter\":[{\"fillpattern\":{\"fillmode\":\"overlay\",\"size\":10,\"solidity\":0.2},\"type\":\"scatter\"}],\"parcoords\":[{\"type\":\"parcoords\",\"line\":{\"colorbar\":{\"outlinewidth\":0,\"ticks\":\"\"}}}],\"scatterpolargl\":[{\"type\":\"scatterpolargl\",\"marker\":{\"colorbar\":{\"outlinewidth\":0,\"ticks\":\"\"}}}],\"bar\":[{\"error_x\":{\"color\":\"#2a3f5f\"},\"error_y\":{\"color\":\"#2a3f5f\"},\"marker\":{\"line\":{\"color\":\"#E5ECF6\",\"width\":0.5},\"pattern\":{\"fillmode\":\"overlay\",\"size\":10,\"solidity\":0.2}},\"type\":\"bar\"}],\"scattergeo\":[{\"type\":\"scattergeo\",\"marker\":{\"colorbar\":{\"outlinewidth\":0,\"ticks\":\"\"}}}],\"scatterpolar\":[{\"type\":\"scatterpolar\",\"marker\":{\"colorbar\":{\"outlinewidth\":0,\"ticks\":\"\"}}}],\"histogram\":[{\"marker\":{\"pattern\":{\"fillmode\":\"overlay\",\"size\":10,\"solidity\":0.2}},\"type\":\"histogram\"}],\"scattergl\":[{\"type\":\"scattergl\",\"marker\":{\"colorbar\":{\"outlinewidth\":0,\"ticks\":\"\"}}}],\"scatter3d\":[{\"type\":\"scatter3d\",\"line\":{\"colorbar\":{\"outlinewidth\":0,\"ticks\":\"\"}},\"marker\":{\"colorbar\":{\"outlinewidth\":0,\"ticks\":\"\"}}}],\"scattermapbox\":[{\"type\":\"scattermapbox\",\"marker\":{\"colorbar\":{\"outlinewidth\":0,\"ticks\":\"\"}}}],\"scatterternary\":[{\"type\":\"scatterternary\",\"marker\":{\"colorbar\":{\"outlinewidth\":0,\"ticks\":\"\"}}}],\"scattercarpet\":[{\"type\":\"scattercarpet\",\"marker\":{\"colorbar\":{\"outlinewidth\":0,\"ticks\":\"\"}}}],\"carpet\":[{\"aaxis\":{\"endlinecolor\":\"#2a3f5f\",\"gridcolor\":\"white\",\"linecolor\":\"white\",\"minorgridcolor\":\"white\",\"startlinecolor\":\"#2a3f5f\"},\"baxis\":{\"endlinecolor\":\"#2a3f5f\",\"gridcolor\":\"white\",\"linecolor\":\"white\",\"minorgridcolor\":\"white\",\"startlinecolor\":\"#2a3f5f\"},\"type\":\"carpet\"}],\"table\":[{\"cells\":{\"fill\":{\"color\":\"#EBF0F8\"},\"line\":{\"color\":\"white\"}},\"header\":{\"fill\":{\"color\":\"#C8D4E3\"},\"line\":{\"color\":\"white\"}},\"type\":\"table\"}],\"barpolar\":[{\"marker\":{\"line\":{\"color\":\"#E5ECF6\",\"width\":0.5},\"pattern\":{\"fillmode\":\"overlay\",\"size\":10,\"solidity\":0.2}},\"type\":\"barpolar\"}],\"pie\":[{\"automargin\":true,\"type\":\"pie\"}]},\"layout\":{\"autotypenumbers\":\"strict\",\"colorway\":[\"#636efa\",\"#EF553B\",\"#00cc96\",\"#ab63fa\",\"#FFA15A\",\"#19d3f3\",\"#FF6692\",\"#B6E880\",\"#FF97FF\",\"#FECB52\"],\"font\":{\"color\":\"#2a3f5f\"},\"hovermode\":\"closest\",\"hoverlabel\":{\"align\":\"left\"},\"paper_bgcolor\":\"white\",\"plot_bgcolor\":\"#E5ECF6\",\"polar\":{\"bgcolor\":\"#E5ECF6\",\"angularaxis\":{\"gridcolor\":\"white\",\"linecolor\":\"white\",\"ticks\":\"\"},\"radialaxis\":{\"gridcolor\":\"white\",\"linecolor\":\"white\",\"ticks\":\"\"}},\"ternary\":{\"bgcolor\":\"#E5ECF6\",\"aaxis\":{\"gridcolor\":\"white\",\"linecolor\":\"white\",\"ticks\":\"\"},\"baxis\":{\"gridcolor\":\"white\",\"linecolor\":\"white\",\"ticks\":\"\"},\"caxis\":{\"gridcolor\":\"white\",\"linecolor\":\"white\",\"ticks\":\"\"}},\"coloraxis\":{\"colorbar\":{\"outlinewidth\":0,\"ticks\":\"\"}},\"colorscale\":{\"sequential\":[[0.0,\"#0d0887\"],[0.1111111111111111,\"#46039f\"],[0.2222222222222222,\"#7201a8\"],[0.3333333333333333,\"#9c179e\"],[0.4444444444444444,\"#bd3786\"],[0.5555555555555556,\"#d8576b\"],[0.6666666666666666,\"#ed7953\"],[0.7777777777777778,\"#fb9f3a\"],[0.8888888888888888,\"#fdca26\"],[1.0,\"#f0f921\"]],\"sequentialminus\":[[0.0,\"#0d0887\"],[0.1111111111111111,\"#46039f\"],[0.2222222222222222,\"#7201a8\"],[0.3333333333333333,\"#9c179e\"],[0.4444444444444444,\"#bd3786\"],[0.5555555555555556,\"#d8576b\"],[0.6666666666666666,\"#ed7953\"],[0.7777777777777778,\"#fb9f3a\"],[0.8888888888888888,\"#fdca26\"],[1.0,\"#f0f921\"]],\"diverging\":[[0,\"#8e0152\"],[0.1,\"#c51b7d\"],[0.2,\"#de77ae\"],[0.3,\"#f1b6da\"],[0.4,\"#fde0ef\"],[0.5,\"#f7f7f7\"],[0.6,\"#e6f5d0\"],[0.7,\"#b8e186\"],[0.8,\"#7fbc41\"],[0.9,\"#4d9221\"],[1,\"#276419\"]]},\"xaxis\":{\"gridcolor\":\"white\",\"linecolor\":\"white\",\"ticks\":\"\",\"title\":{\"standoff\":15},\"zerolinecolor\":\"white\",\"automargin\":true,\"zerolinewidth\":2},\"yaxis\":{\"gridcolor\":\"white\",\"linecolor\":\"white\",\"ticks\":\"\",\"title\":{\"standoff\":15},\"zerolinecolor\":\"white\",\"automargin\":true,\"zerolinewidth\":2},\"scene\":{\"xaxis\":{\"backgroundcolor\":\"#E5ECF6\",\"gridcolor\":\"white\",\"linecolor\":\"white\",\"showbackground\":true,\"ticks\":\"\",\"zerolinecolor\":\"white\",\"gridwidth\":2},\"yaxis\":{\"backgroundcolor\":\"#E5ECF6\",\"gridcolor\":\"white\",\"linecolor\":\"white\",\"showbackground\":true,\"ticks\":\"\",\"zerolinecolor\":\"white\",\"gridwidth\":2},\"zaxis\":{\"backgroundcolor\":\"#E5ECF6\",\"gridcolor\":\"white\",\"linecolor\":\"white\",\"showbackground\":true,\"ticks\":\"\",\"zerolinecolor\":\"white\",\"gridwidth\":2}},\"shapedefaults\":{\"line\":{\"color\":\"#2a3f5f\"}},\"annotationdefaults\":{\"arrowcolor\":\"#2a3f5f\",\"arrowhead\":0,\"arrowwidth\":1},\"geo\":{\"bgcolor\":\"white\",\"landcolor\":\"#E5ECF6\",\"subunitcolor\":\"white\",\"showland\":true,\"showlakes\":true,\"lakecolor\":\"white\"},\"title\":{\"x\":0.05},\"mapbox\":{\"style\":\"light\"}}},\"xaxis\":{\"anchor\":\"y\",\"domain\":[0.0,1.0],\"title\":{\"text\":\"HIDDEN_DIM\"}},\"yaxis\":{\"anchor\":\"x\",\"domain\":[0.0,1.0],\"title\":{\"text\":\"F1-score\"}},\"legend\":{\"title\":{\"text\":\"EMBEDDING_DIM\"},\"tracegroupgap\":0},\"margin\":{\"t\":60},\"barmode\":\"group\"},                        {\"responsive\": true}                    ).then(function(){\n",
       "                            \n",
       "var gd = document.getElementById('e36d3d3e-33a5-4a3a-bb7a-4e9f361d8c47');\n",
       "var x = new MutationObserver(function (mutations, observer) {{\n",
       "        var display = window.getComputedStyle(gd).display;\n",
       "        if (!display || display === 'none') {{\n",
       "            console.log([gd, 'removed!']);\n",
       "            Plotly.purge(gd);\n",
       "            observer.disconnect();\n",
       "        }}\n",
       "}});\n",
       "\n",
       "// Listen for the removal of the full notebook cells\n",
       "var notebookContainer = gd.closest('#notebook-container');\n",
       "if (notebookContainer) {{\n",
       "    x.observe(notebookContainer, {childList: true});\n",
       "}}\n",
       "\n",
       "// Listen for the clearing of the current output cell\n",
       "var outputEl = gd.closest('.output');\n",
       "if (outputEl) {{\n",
       "    x.observe(outputEl, {childList: true});\n",
       "}}\n",
       "\n",
       "                        })                };                });            </script>        </div>"
      ]
     },
     "metadata": {},
     "output_type": "display_data"
    }
   ],
   "source": [
    "subdf_gridsearch = df_gridsearch[(df_gridsearch[\"BIDIRECTIONAL\"] == \"True\") & (df_gridsearch[\"N_LAYERS\"] == \"3\") & (df_gridsearch[\"DROPOUT\"] == \"0.5\")]\n",
    "px.bar(subdf_gridsearch, x=\"HIDDEN_DIM\", y=\"F1-score\", color=\"EMBEDDING_DIM\", barmode='group', hover_data=subdf_gridsearch.columns)"
   ]
  },
  {
   "cell_type": "markdown",
   "id": "6dbb5989",
   "metadata": {
    "pycharm": {
     "name": "#%% md\n"
    }
   },
   "source": [
    "## Experimentos 🧪\n",
    "\n",
    "**REQUIREMENTS: Reportar todos sus experimentos y código en esta sección. Comparar los resultados obtenidos utilizando diferentes modelos. ¡Es vital haber realizado varios experimentos para sacar una buena nota! (2.0 puntos)**"
   ]
  },
  {
   "cell_type": "markdown",
   "id": "eec00b05",
   "metadata": {
    "pycharm": {
     "name": "#%% md\n"
    }
   },
   "source": [
    "### Configuración común"
   ]
  },
  {
   "cell_type": "code",
   "execution_count": null,
   "id": "c12991b8",
   "metadata": {
    "pycharm": {
     "name": "#%%\n"
    }
   },
   "outputs": [],
   "source": [
    "%pip install -U torchtext==0.10.0\n",
    "%pip install seqeval"
   ]
  },
  {
   "cell_type": "code",
   "execution_count": null,
   "id": "a997bb74",
   "metadata": {
    "pycharm": {
     "name": "#%%\n"
    }
   },
   "outputs": [],
   "source": [
    "import time\n",
    "import torch\n",
    "import torch.nn as nn\n",
    "import torch.nn.functional as F\n",
    "import torch.optim as optim\n",
    "from seqeval.metrics import f1_score, precision_score, recall_score\n",
    "from torchtext import data, datasets, legacy\n",
    "\n",
    "# Garantizar reproducibilidad de los experimentos\n",
    "SEED = 1234\n",
    "torch.manual_seed(SEED)\n",
    "torch.backends.cudnn.deterministic = True\n",
    "\n",
    "\n",
    "TEXT = legacy.data.Field(lower=False) \n",
    "NER_TAGS = legacy.data.Field(unk_token=None)\n",
    "fields = ((\"text\", TEXT), (\"nertags\", NER_TAGS))\n",
    "\n",
    "\n",
    "train_data, valid_data, test_data = legacy.datasets.SequenceTaggingDataset.splits(\n",
    "    path=\"./\",\n",
    "    train=\"train.txt\",\n",
    "    validation=\"dev.txt\",\n",
    "    test=\"test.txt\",\n",
    "    fields=fields,\n",
    "    encoding=\"utf-8\",\n",
    "    separator=\" \"\n",
    ")\n",
    "\n",
    "\n",
    "print(f\"Numero de ejemplos de entrenamiento: {len(train_data)}\")\n",
    "print(f\"Número de ejemplos de validación: {len(valid_data)}\")\n",
    "print(f\"Número de ejemplos de test (competencia): {len(test_data)}\")\n",
    "\n",
    "\n",
    "TEXT.build_vocab(train_data)\n",
    "NER_TAGS.build_vocab(train_data)\n",
    "UNK_IDX = TEXT.vocab.stoi[TEXT.unk_token]\n",
    "PAD_IDX = TEXT.vocab.stoi[TEXT.pad_token]\n",
    "PAD_TAG_IDX = NER_TAGS.vocab.stoi[NER_TAGS.pad_token]\n",
    "O_TAG_IDX = NER_TAGS.vocab.stoi['O']\n",
    "\n",
    "\n",
    "def tag_percentage(tag_counts):\n",
    "    \n",
    "    total_count = sum([count for tag, count in tag_counts])\n",
    "    tag_counts_percentages = [(tag, count, count/total_count) for tag, count in tag_counts]\n",
    "    return tag_counts_percentages\n",
    "\n",
    "\n",
    "print(\"Tag Ocurrencia Porcentaje\\n\")\n",
    "\n",
    "for tag, count, percent in tag_percentage(NER_TAGS.vocab.freqs.most_common()):\n",
    "    print(f\"{tag}\\t{count}\\t{percent*100:4.1f}%\")\n",
    "\n",
    "BATCH_SIZE = 16  # disminuir si hay problemas de ram.\n",
    "\n",
    "# Usar cuda si es que está disponible.\n",
    "device = torch.device('cuda' if torch.cuda.is_available() else 'cpu')\n",
    "print('Using', device)\n",
    "\n",
    "# Dividir datos entre entrenamiento y test. Si van a hacer algún sort no puede ser sobre\n",
    "# el conjunto de testing ya que al hacer sus predicciones sobre el conjunto de test sin etiquetas\n",
    "# debe conservar el orden original para ser comparado con los golden_labels. \n",
    "\n",
    "train_iterator, valid_iterator, test_iterator = legacy.data.BucketIterator.splits(\n",
    "    (train_data, valid_data, test_data),\n",
    "    batch_size=BATCH_SIZE,\n",
    "    device=device,\n",
    "    sort=False,\n",
    ")\n",
    "\n",
    "\n",
    "def calculate_metrics(preds, y_true, pad_idx=PAD_TAG_IDX, o_idx=O_TAG_IDX):\n",
    "    \"\"\"\n",
    "    Calcula precision, recall y f1 de cada batch.\n",
    "    \"\"\"\n",
    "\n",
    "    # Obtener el indice de la clase con probabilidad mayor. (clases)\n",
    "    y_pred = preds.argmax(dim=1, keepdim=True)\n",
    "\n",
    "    # filtramos <pad> para calcular los scores.\n",
    "    mask = [(y_true != pad_idx)]\n",
    "    y_pred = y_pred[mask]\n",
    "    y_true = y_true[mask]\n",
    "\n",
    "    # traemos a la cpu\n",
    "    y_pred = y_pred.view(-1).to('cpu').numpy()\n",
    "    y_true = y_true.to('cpu').numpy()\n",
    "    y_pred = [[NER_TAGS.vocab.itos[v] for v in y_pred]]\n",
    "    y_true = [[NER_TAGS.vocab.itos[v] for v in y_true]]\n",
    "    \n",
    "    # calcular scores\n",
    "    f1 = f1_score(y_true, y_pred, mode='strict')\n",
    "    precision = precision_score(y_true, y_pred, mode='strict')\n",
    "    recall = recall_score(y_true, y_pred, mode='strict')\n",
    "\n",
    "    return precision, recall, f1"
   ]
  },
  {
   "cell_type": "markdown",
   "id": "cbf7b169",
   "metadata": {
    "pycharm": {
     "name": "#%% md\n"
    }
   },
   "source": [
    "### Embeddings generales del español"
   ]
  },
  {
   "cell_type": "code",
   "execution_count": null,
   "id": "c88d8833",
   "metadata": {
    "pycharm": {
     "name": "#%%\n"
    }
   },
   "outputs": [],
   "source": [
    "import torch.nn as nn\n",
    "import numpy as np\n",
    "import gensim\n",
    "\n",
    "# Cargar data de los embeddings manualmente\n",
    "embedding_glove_swbc_dict = dict()\n",
    "embedding_fast_swbc_dict = dict()\n",
    "embedding_fast_suc_dict = dict()\n",
    "embedding_w2v_dict = dict()\n",
    "embedding_wiki_dict = dict()\n",
    "\n",
    "for par in [\n",
    "            [embedding_glove_swbc_dict, 'glove-sbwc.i25.vec'],\n",
    "            [embedding_fast_swbc_dict, 'fasttext-sbwc.3.6.e20.vec'],\n",
    "            [embedding_fast_suc_dict, 'embedding-l-model.vec'],\n",
    "            [embedding_w2v_dict, 'SBW-vectors-300-min5.vec']\n",
    "            [embedding_wiki_dict, 'wiki.es.vec']\n",
    "            ]:\n",
    "  with open(par[1], mode='rb') as f:\n",
    "    first = True\n",
    "    for line in f:\n",
    "      if first:\n",
    "        first = False\n",
    "        continue\n",
    "      values = line.split()\n",
    "      word = values[0]\n",
    "      coefs = np.asarray(values[1:], dtype='float32')\n",
    "      par[0][word] = coefs\n",
    "  print('Loaded %s word vectors.' % len(par[0]))"
   ]
  },
  {
   "cell_type": "code",
   "execution_count": null,
   "id": "912d7df5",
   "metadata": {
    "pycharm": {
     "name": "#%%\n"
    }
   },
   "outputs": [],
   "source": [
    "# Cargar embeddings con gensim\n",
    "temp = gensim.models.KeyedVectors.load_word2vec_format('glove-sbwc.i25.vec')\n",
    "embedding_glove_swbc = nn.Embedding.from_pretrained(torch.FloatTensor(temp.vectors))\n",
    "\n",
    "temp = gensim.models.KeyedVectors.load_word2vec_format('fasttext-sbwc.3.6.e20.vec')\n",
    "embedding_fast_swbc = nn.Embedding.from_pretrained(torch.FloatTensor(temp.vectors))\n",
    "\n",
    "temp = gensim.models.KeyedVectors.load_word2vec_format('embedding-l-model.vec')\n",
    "embedding_fast_suc = nn.Embedding.from_pretrained(torch.FloatTensor(temp.vectors))\n",
    "\n",
    "temp = gensim.models.KeyedVectors.load_word2vec_format('SBW-vectors-300-min5.vec')\n",
    "embedding_w2v = nn.Embedding.from_pretrained(torch.FloatTensor(temp.vectors))\n",
    "\n",
    "temp = gensim.models.KeyedVectors.load_word2vec_format('wiki.es.vec')\n",
    "embedding_wiki = nn.Embedding.from_pretrained(torch.FloatTensor(temp.vectors))"
   ]
  },
  {
   "cell_type": "markdown",
   "id": "eead28f3",
   "metadata": {
    "pycharm": {
     "name": "#%% md\n"
    }
   },
   "source": [
    "Fast SUC"
   ]
  },
  {
   "cell_type": "code",
   "execution_count": null,
   "id": "d603b4a2",
   "metadata": {
    "pycharm": {
     "name": "#%%\n"
    }
   },
   "outputs": [],
   "source": [
    "# Definir la red\n",
    "class NER_RNN(nn.Module):\n",
    "    def __init__(self, \n",
    "                 input_dim, \n",
    "                 embedding_dim, \n",
    "                 hidden_dim, \n",
    "                 output_dim,\n",
    "                 n_layers, \n",
    "                 bidirectional, \n",
    "                 dropout):\n",
    "\n",
    "        super().__init__()\n",
    "\n",
    "        # Capa de embedding\n",
    "        self.embedding = embedding_fast_suc\n",
    "\n",
    "        # Capa LSTM\n",
    "        self.lstm = nn.LSTM(embedding_dim,\n",
    "                           hidden_dim,\n",
    "                           num_layers=n_layers,\n",
    "                           bidirectional=bidirectional, \n",
    "                           dropout = dropout if n_layers > 1 else 0)\n",
    "\n",
    "        # Capa de salida\n",
    "        self.fc = nn.Linear(hidden_dim * 2 if bidirectional else hidden_dim,\n",
    "                            output_dim)\n",
    "\n",
    "        # Dropout\n",
    "        self.dropout = nn.Dropout(dropout)\n",
    "\n",
    "    def forward(self, text):\n",
    "        embedded = self.dropout(self.embedding(text))\n",
    "        outputs, (hidden, cell) = self.lstm(embedded)\n",
    "        predictions = self.fc(self.dropout(outputs))\n",
    "        return predictions\n",
    "\n",
    "\n",
    "# Tamaño del vocabulario\n",
    "INPUT_DIM = len(TEXT.vocab)\n",
    "EMBEDDING_DIM = 300  # dimensión de los embeddings.\n",
    "HIDDEN_DIM = 256  # dimensión de la capas LSTM\n",
    "OUTPUT_DIM = len(NER_TAGS.vocab)  # número de clases\n",
    "\n",
    "N_LAYERS = 3  # número de capas.\n",
    "DROPOUT = 0.5\n",
    "BIDIRECTIONAL = True\n",
    "\n",
    "baseline_model = NER_RNN(INPUT_DIM, EMBEDDING_DIM, HIDDEN_DIM, OUTPUT_DIM,\n",
    "                         N_LAYERS, BIDIRECTIONAL, DROPOUT)\n",
    "\n",
    "baseline_model_name = 'baseline'  # nombre que tendrá el modelo guardado...\n",
    "baseline_n_epochs = 10\n",
    "\n",
    "\n",
    "# Loss: Cross Entropy\n",
    "TAG_PAD_IDX = NER_TAGS.vocab.stoi[NER_TAGS.pad_token]\n",
    "baseline_criterion = nn.CrossEntropyLoss(ignore_index = TAG_PAD_IDX)\n",
    "\n",
    "\n",
    "model = baseline_model\n",
    "model_name = baseline_model_name\n",
    "criterion = baseline_criterion\n",
    "n_epochs = baseline_n_epochs\n",
    "\n",
    "\n",
    "def init_weights(m):\n",
    "    # Inicializamos los pesos como aleatorios\n",
    "    for name, param in m.named_parameters():\n",
    "        nn.init.normal_(param.data, mean=0, std=0.1) \n",
    "        \n",
    "    # Seteamos como 0 los embeddings de UNK y PAD.\n",
    "    model.embedding.weight.data[UNK_IDX] = torch.zeros(EMBEDDING_DIM)\n",
    "    model.embedding.weight.data[PAD_IDX] = torch.zeros(EMBEDDING_DIM)\n",
    "\n",
    "\n",
    "model.apply(init_weights)\n",
    "\n",
    "\n",
    "def count_parameters(model):\n",
    "    return sum(p.numel() for p in model.parameters() if p.requires_grad)\n",
    "print(f'El modelo actual tiene {count_parameters(model):,} parámetros entrenables.')\n",
    "\n",
    "\n",
    "optimizer = optim.Adam(model.parameters())\n",
    "model = model.to(device)\n",
    "criterion = criterion.to(device)\n",
    "\n",
    "def train(model, iterator, optimizer, criterion):\n",
    "\n",
    "    epoch_loss = 0\n",
    "    epoch_precision = 0\n",
    "    epoch_recall = 0\n",
    "    epoch_f1 = 0\n",
    "\n",
    "    model.train()\n",
    "\n",
    "    # Por cada batch del iterador de la época:\n",
    "    for batch in iterator:\n",
    "\n",
    "        # Extraemos el texto y los tags del batch que estamos procesado\n",
    "        text = batch.text\n",
    "        tags = batch.nertags\n",
    "\n",
    "        # Reiniciamos los gradientes calculados en la iteración anterior\n",
    "        optimizer.zero_grad()\n",
    "\n",
    "        #text = [sent len, batch size]\n",
    "\n",
    "        # Predecimos los tags del texto del batch.\n",
    "        predictions = model(text)\n",
    "\n",
    "        #predictions = [sent len, batch size, output dim]\n",
    "        #tags = [sent len, batch size]\n",
    "\n",
    "        # Reordenamos los datos para calcular la loss\n",
    "        predictions = predictions.view(-1, predictions.shape[-1])\n",
    "        tags = tags.view(-1)\n",
    "\n",
    "        #predictions = [sent len * batch size, output dim]\n",
    "\n",
    "        # Calculamos el Cross Entropy de las predicciones con respecto a las etiquetas reales\n",
    "        loss = criterion(predictions, tags)\n",
    "        \n",
    "        # Calculamos el accuracy\n",
    "        precision, recall, f1 = calculate_metrics(predictions, tags)\n",
    "\n",
    "        # Calculamos los gradientes\n",
    "        loss.backward()\n",
    "\n",
    "        # Actualizamos los parámetros de la red\n",
    "        optimizer.step()\n",
    "\n",
    "        # Actualizamos el loss y las métricas\n",
    "        epoch_loss += loss.item()\n",
    "        epoch_precision += precision\n",
    "        epoch_recall += recall\n",
    "        epoch_f1 += f1\n",
    "\n",
    "    return epoch_loss / len(iterator), epoch_precision / len(iterator), epoch_recall / len(iterator), epoch_f1 / len(iterator)\n",
    "\n",
    "\n",
    "def epoch_time(start_time, end_time):\n",
    "    elapsed_time = end_time - start_time\n",
    "    elapsed_mins = int(elapsed_time / 60)\n",
    "    elapsed_secs = int(elapsed_time - (elapsed_mins * 60))\n",
    "    return elapsed_mins, elapsed_secs\n",
    "\n",
    "\n",
    "def evaluate(model, iterator, criterion):\n",
    "\n",
    "    epoch_loss = 0\n",
    "    epoch_precision = 0\n",
    "    epoch_recall = 0\n",
    "    epoch_f1 = 0\n",
    "\n",
    "    model.eval()\n",
    "\n",
    "    # Indicamos que ahora no guardaremos los gradientes\n",
    "    with torch.no_grad():\n",
    "        # Por cada batch\n",
    "        for batch in iterator:\n",
    "\n",
    "            text = batch.text\n",
    "            tags = batch.nertags\n",
    "\n",
    "            # Predecimos\n",
    "            predictions = model(text)\n",
    "\n",
    "            predictions = predictions.view(-1, predictions.shape[-1])\n",
    "            tags = tags.view(-1)\n",
    "\n",
    "            # Calculamos el Cross Entropy de las predicciones con respecto a las etiquetas reales\n",
    "            loss = criterion(predictions, tags)\n",
    "\n",
    "            # Calculamos las métricas\n",
    "            precision, recall, f1 = calculate_metrics(predictions, tags)\n",
    "\n",
    "            # Actualizamos el loss y las métricas\n",
    "            epoch_loss += loss.item()\n",
    "            epoch_precision += precision\n",
    "            epoch_recall += recall\n",
    "            epoch_f1 += f1\n",
    "\n",
    "    return epoch_loss / len(iterator), epoch_precision / len(\n",
    "        iterator), epoch_recall / len(iterator), epoch_f1 / len(iterator)"
   ]
  },
  {
   "cell_type": "code",
   "execution_count": null,
   "id": "b369056b",
   "metadata": {
    "colab": {
     "base_uri": "https://localhost:8080/",
     "height": 1000
    },
    "id": "iK5lQqpviicf",
    "outputId": "0880b2a1-7386-4277-f863-afd343c8cd13",
    "pycharm": {
     "name": "#%%\n"
    }
   },
   "outputs": [
    {
     "name": "stdout",
     "output_type": "stream",
     "text": [
      "Epoch: 01 | Epoch Time: 4m 1s\n",
      "\tTrain Loss: 0.935 | Train f1: 0.30 | Train precision: 0.53 | Train recall: 0.21\n",
      "\t Val. Loss: 0.759 |  Val. f1: 0.45 |  Val. precision: 0.70 | Val. recall: 0.34\n",
      "Epoch: 02 | Epoch Time: 4m 7s\n",
      "\tTrain Loss: 0.746 | Train f1: 0.46 | Train precision: 0.65 | Train recall: 0.36\n",
      "\t Val. Loss: 0.639 |  Val. f1: 0.51 |  Val. precision: 0.72 | Val. recall: 0.40\n",
      "Epoch: 03 | Epoch Time: 11m 35s\n",
      "\tTrain Loss: 0.662 | Train f1: 0.52 | Train precision: 0.69 | Train recall: 0.42\n",
      "\t Val. Loss: 0.586 |  Val. f1: 0.55 |  Val. precision: 0.74 | Val. recall: 0.45\n",
      "Epoch: 04 | Epoch Time: 3m 56s\n",
      "\tTrain Loss: 0.604 | Train f1: 0.56 | Train precision: 0.72 | Train recall: 0.47\n",
      "\t Val. Loss: 0.564 |  Val. f1: 0.59 |  Val. precision: 0.75 | Val. recall: 0.50\n",
      "Epoch: 05 | Epoch Time: 3m 57s\n",
      "\tTrain Loss: 0.566 | Train f1: 0.59 | Train precision: 0.73 | Train recall: 0.50\n",
      "\t Val. Loss: 0.546 |  Val. f1: 0.59 |  Val. precision: 0.76 | Val. recall: 0.49\n",
      "Epoch: 06 | Epoch Time: 3m 58s\n",
      "\tTrain Loss: 0.538 | Train f1: 0.61 | Train precision: 0.74 | Train recall: 0.52\n",
      "\t Val. Loss: 0.538 |  Val. f1: 0.60 |  Val. precision: 0.73 | Val. recall: 0.51\n",
      "Epoch: 07 | Epoch Time: 4m 2s\n",
      "\tTrain Loss: 0.502 | Train f1: 0.63 | Train precision: 0.75 | Train recall: 0.55\n",
      "\t Val. Loss: 0.520 |  Val. f1: 0.61 |  Val. precision: 0.70 | Val. recall: 0.55\n",
      "Epoch: 08 | Epoch Time: 4m 2s\n",
      "\tTrain Loss: 0.473 | Train f1: 0.66 | Train precision: 0.76 | Train recall: 0.58\n",
      "\t Val. Loss: 0.483 |  Val. f1: 0.64 |  Val. precision: 0.75 | Val. recall: 0.56\n",
      "Epoch: 09 | Epoch Time: 3m 59s\n",
      "\tTrain Loss: 0.451 | Train f1: 0.67 | Train precision: 0.77 | Train recall: 0.60\n",
      "\t Val. Loss: 0.484 |  Val. f1: 0.64 |  Val. precision: 0.73 | Val. recall: 0.59\n",
      "Epoch: 10 | Epoch Time: 4m 26s\n",
      "\tTrain Loss: 0.428 | Train f1: 0.69 | Train precision: 0.79 | Train recall: 0.62\n",
      "\t Val. Loss: 0.487 |  Val. f1: 0.64 |  Val. precision: 0.71 | Val. recall: 0.59\n"
     ]
    }
   ],
   "source": [
    "best_valid_loss = float('inf')\n",
    "\n",
    "for epoch in range(n_epochs):\n",
    "\n",
    "    start_time = time.time()\n",
    "\n",
    "    # Recuerdo: train_iterator y valid_iterator contienen el dataset dividido en batches.\n",
    "\n",
    "    # Entrenar\n",
    "    train_loss, train_precision, train_recall, train_f1 = train(\n",
    "        model, train_iterator, optimizer, criterion)\n",
    "\n",
    "    # Evaluar (valid = validación)\n",
    "    valid_loss, valid_precision, valid_recall, valid_f1 = evaluate(\n",
    "        model, valid_iterator, criterion)\n",
    "\n",
    "    end_time = time.time()\n",
    "\n",
    "    epoch_mins, epoch_secs = epoch_time(start_time, end_time)\n",
    "\n",
    "    # Si obtuvimos mejores resultados, guardamos este modelo en el almacenamiento (para poder cargarlo luego)\n",
    "    # Si detienen el entrenamiento prematuramente, pueden cargar el modelo en el siguiente recuadro de código.\n",
    "    if valid_loss < best_valid_loss:\n",
    "        best_valid_loss = valid_loss\n",
    "        torch.save(model.state_dict(), '{}.pt'.format(model_name))\n",
    "    # Si ya no mejoramos el loss de validación, terminamos de entrenar.\n",
    "\n",
    "    print(f'Epoch: {epoch+1:02} | Epoch Time: {epoch_mins}m {epoch_secs}s')\n",
    "    print(\n",
    "        f'\\tTrain Loss: {train_loss:.3f} | Train f1: {train_f1:.2f} | Train precision: {train_precision:.2f} | Train recall: {train_recall:.2f}'\n",
    "    )\n",
    "    print(\n",
    "        f'\\t Val. Loss: {valid_loss:.3f} |  Val. f1: {valid_f1:.2f} |  Val. precision: {valid_precision:.2f} | Val. recall: {valid_recall:.2f}'\n",
    "    )"
   ]
  },
  {
   "cell_type": "code",
   "execution_count": null,
   "id": "18496b3e",
   "metadata": {
    "id": "s0gVbP8yiicj",
    "pycharm": {
     "name": "#%%\n"
    }
   },
   "outputs": [
    {
     "name": "stdout",
     "output_type": "stream",
     "text": [
      "Val. Loss: 0.483 |  Val. f1: 0.64 | Val. precision: 0.75 | Val. recall: 0.56\n"
     ]
    }
   ],
   "source": [
    "model.load_state_dict(torch.load('{}.pt'.format(model_name)))\n",
    "torch.cuda.empty_cache()\n",
    "\n",
    "valid_loss, valid_precision, valid_recall, valid_f1 = evaluate(\n",
    "    model, valid_iterator, criterion)\n",
    "\n",
    "print(\n",
    "    f'Val. Loss: {valid_loss:.3f} |  Val. f1: {valid_f1:.2f} | Val. precision: {valid_precision:.2f} | Val. recall: {valid_recall:.2f}'\n",
    ")"
   ]
  },
  {
   "cell_type": "markdown",
   "id": "b69d8924",
   "metadata": {
    "pycharm": {
     "name": "#%% md\n"
    }
   },
   "source": [
    "Fast SWBC"
   ]
  },
  {
   "cell_type": "code",
   "execution_count": null,
   "id": "7d1e61f0",
   "metadata": {
    "pycharm": {
     "name": "#%%\n"
    }
   },
   "outputs": [],
   "source": [
    "# Definir la red\n",
    "class NER_RNN(nn.Module):\n",
    "    def __init__(self, \n",
    "                 input_dim, \n",
    "                 embedding_dim, \n",
    "                 hidden_dim, \n",
    "                 output_dim,\n",
    "                 n_layers, \n",
    "                 bidirectional, \n",
    "                 dropout):\n",
    "\n",
    "        super().__init__()\n",
    "\n",
    "        # Capa de embedding\n",
    "        self.embedding = embedding_fast_swbc\n",
    "\n",
    "        # Capa LSTM\n",
    "        self.lstm = nn.LSTM(embedding_dim,\n",
    "                           hidden_dim,\n",
    "                           num_layers=n_layers,\n",
    "                           bidirectional=bidirectional, \n",
    "                           dropout = dropout if n_layers > 1 else 0)\n",
    "\n",
    "        # Capa de salida\n",
    "        self.fc = nn.Linear(hidden_dim * 2 if bidirectional else hidden_dim,\n",
    "                            output_dim)\n",
    "\n",
    "        # Dropout\n",
    "        self.dropout = nn.Dropout(dropout)\n",
    "\n",
    "    def forward(self, text):\n",
    "        embedded = self.dropout(self.embedding(text))\n",
    "        outputs, (hidden, cell) = self.lstm(embedded)\n",
    "        predictions = self.fc(self.dropout(outputs))\n",
    "        return predictions\n",
    "\n",
    "\n",
    "# Tamaño del vocabulario\n",
    "INPUT_DIM = len(TEXT.vocab)\n",
    "EMBEDDING_DIM = 300  # dimensión de los embeddings.\n",
    "HIDDEN_DIM = 256  # dimensión de la capas LSTM\n",
    "OUTPUT_DIM = len(NER_TAGS.vocab)  # número de clases\n",
    "\n",
    "N_LAYERS = 3  # número de capas.\n",
    "DROPOUT = 0.5\n",
    "BIDIRECTIONAL = True\n",
    "\n",
    "baseline_model = NER_RNN(INPUT_DIM, EMBEDDING_DIM, HIDDEN_DIM, OUTPUT_DIM,\n",
    "                         N_LAYERS, BIDIRECTIONAL, DROPOUT)\n",
    "\n",
    "baseline_model_name = 'baseline'  # nombre que tendrá el modelo guardado...\n",
    "baseline_n_epochs = 10\n",
    "\n",
    "\n",
    "# Loss: Cross Entropy\n",
    "TAG_PAD_IDX = NER_TAGS.vocab.stoi[NER_TAGS.pad_token]\n",
    "baseline_criterion = nn.CrossEntropyLoss(ignore_index = TAG_PAD_IDX)\n",
    "\n",
    "\n",
    "model = baseline_model\n",
    "model_name = baseline_model_name\n",
    "criterion = baseline_criterion\n",
    "n_epochs = baseline_n_epochs\n",
    "\n",
    "\n",
    "def init_weights(m):\n",
    "    # Inicializamos los pesos como aleatorios\n",
    "    for name, param in m.named_parameters():\n",
    "        nn.init.normal_(param.data, mean=0, std=0.1) \n",
    "        \n",
    "    # Seteamos como 0 los embeddings de UNK y PAD.\n",
    "    model.embedding.weight.data[UNK_IDX] = torch.zeros(EMBEDDING_DIM)\n",
    "    model.embedding.weight.data[PAD_IDX] = torch.zeros(EMBEDDING_DIM)\n",
    "\n",
    "\n",
    "model.apply(init_weights)\n",
    "\n",
    "\n",
    "def count_parameters(model):\n",
    "    return sum(p.numel() for p in model.parameters() if p.requires_grad)\n",
    "print(f'El modelo actual tiene {count_parameters(model):,} parámetros entrenables.')\n",
    "\n",
    "\n",
    "optimizer = optim.Adam(model.parameters())\n",
    "model = model.to(device)\n",
    "criterion = criterion.to(device)\n",
    "\n",
    "def train(model, iterator, optimizer, criterion):\n",
    "\n",
    "    epoch_loss = 0\n",
    "    epoch_precision = 0\n",
    "    epoch_recall = 0\n",
    "    epoch_f1 = 0\n",
    "\n",
    "    model.train()\n",
    "\n",
    "    # Por cada batch del iterador de la época:\n",
    "    for batch in iterator:\n",
    "\n",
    "        # Extraemos el texto y los tags del batch que estamos procesado\n",
    "        text = batch.text\n",
    "        tags = batch.nertags\n",
    "\n",
    "        # Reiniciamos los gradientes calculados en la iteración anterior\n",
    "        optimizer.zero_grad()\n",
    "\n",
    "        #text = [sent len, batch size]\n",
    "\n",
    "        # Predecimos los tags del texto del batch.\n",
    "        predictions = model(text)\n",
    "\n",
    "        #predictions = [sent len, batch size, output dim]\n",
    "        #tags = [sent len, batch size]\n",
    "\n",
    "        # Reordenamos los datos para calcular la loss\n",
    "        predictions = predictions.view(-1, predictions.shape[-1])\n",
    "        tags = tags.view(-1)\n",
    "\n",
    "        #predictions = [sent len * batch size, output dim]\n",
    "\n",
    "\n",
    "\n",
    "        # Calculamos el Cross Entropy de las predicciones con respecto a las etiquetas reales\n",
    "        loss = criterion(predictions, tags)\n",
    "        \n",
    "        # Calculamos el accuracy\n",
    "        precision, recall, f1 = calculate_metrics(predictions, tags)\n",
    "\n",
    "        # Calculamos los gradientes\n",
    "        loss.backward()\n",
    "\n",
    "        # Actualizamos los parámetros de la red\n",
    "        optimizer.step()\n",
    "\n",
    "        # Actualizamos el loss y las métricas\n",
    "        epoch_loss += loss.item()\n",
    "        epoch_precision += precision\n",
    "        epoch_recall += recall\n",
    "        epoch_f1 += f1\n",
    "\n",
    "    return epoch_loss / len(iterator), epoch_precision / len(iterator), epoch_recall / len(iterator), epoch_f1 / len(iterator)\n",
    "\n",
    "\n",
    "def epoch_time(start_time, end_time):\n",
    "    elapsed_time = end_time - start_time\n",
    "    elapsed_mins = int(elapsed_time / 60)\n",
    "    elapsed_secs = int(elapsed_time - (elapsed_mins * 60))\n",
    "    return elapsed_mins, elapsed_secs\n",
    "\n",
    "\n",
    "def evaluate(model, iterator, criterion):\n",
    "\n",
    "    epoch_loss = 0\n",
    "    epoch_precision = 0\n",
    "    epoch_recall = 0\n",
    "    epoch_f1 = 0\n",
    "\n",
    "    model.eval()\n",
    "\n",
    "    # Indicamos que ahora no guardaremos los gradientes\n",
    "    with torch.no_grad():\n",
    "        # Por cada batch\n",
    "        for batch in iterator:\n",
    "\n",
    "            text = batch.text\n",
    "            tags = batch.nertags\n",
    "\n",
    "            # Predecimos\n",
    "            predictions = model(text)\n",
    "\n",
    "            predictions = predictions.view(-1, predictions.shape[-1])\n",
    "            tags = tags.view(-1)\n",
    "\n",
    "            # Calculamos el Cross Entropy de las predicciones con respecto a las etiquetas reales\n",
    "            loss = criterion(predictions, tags)\n",
    "\n",
    "            # Calculamos las métricas\n",
    "            precision, recall, f1 = calculate_metrics(predictions, tags)\n",
    "\n",
    "            # Actualizamos el loss y las métricas\n",
    "            epoch_loss += loss.item()\n",
    "            epoch_precision += precision\n",
    "            epoch_recall += recall\n",
    "            epoch_f1 += f1\n",
    "\n",
    "    return epoch_loss / len(iterator), epoch_precision / len(\n",
    "        iterator), epoch_recall / len(iterator), epoch_f1 / len(iterator)"
   ]
  },
  {
   "cell_type": "code",
   "execution_count": null,
   "id": "c1f496fb",
   "metadata": {
    "colab": {
     "base_uri": "https://localhost:8080/",
     "height": 1000
    },
    "id": "iK5lQqpviicf",
    "outputId": "0880b2a1-7386-4277-f863-afd343c8cd13",
    "pycharm": {
     "name": "#%%\n"
    }
   },
   "outputs": [
    {
     "name": "stderr",
     "output_type": "stream",
     "text": [
      "c:\\Users\\autofact\\Documents\\NLP-competition-2\\venv\\lib\\site-packages\\seqeval\\metrics\\sequence_labeling.py:171: UserWarning: <pad> seems not to be NE tag.\n",
      "  warnings.warn('{} seems not to be NE tag.'.format(chunk))\n",
      "c:\\Users\\autofact\\Documents\\NLP-competition-2\\venv\\lib\\site-packages\\seqeval\\metrics\\v1.py:57: UndefinedMetricWarning: Precision is ill-defined and being set to 0.0 due to no predicted samples. Use `zero_division` parameter to control this behavior.\n",
      "  _warn_prf(average, modifier, msg_start, len(result))\n"
     ]
    },
    {
     "name": "stdout",
     "output_type": "stream",
     "text": [
      "Epoch: 01 | Epoch Time: 3m 59s\n",
      "\tTrain Loss: 0.944 | Train f1: 0.28 | Train precision: 0.50 | Train recall: 0.20\n",
      "\t Val. Loss: 0.767 |  Val. f1: 0.43 |  Val. precision: 0.69 | Val. recall: 0.32\n",
      "Epoch: 02 | Epoch Time: 3m 56s\n",
      "\tTrain Loss: 0.751 | Train f1: 0.46 | Train precision: 0.66 | Train recall: 0.36\n",
      "\t Val. Loss: 0.639 |  Val. f1: 0.50 |  Val. precision: 0.74 | Val. recall: 0.39\n",
      "Epoch: 03 | Epoch Time: 3m 57s\n",
      "\tTrain Loss: 0.674 | Train f1: 0.51 | Train precision: 0.69 | Train recall: 0.41\n",
      "\t Val. Loss: 0.605 |  Val. f1: 0.55 |  Val. precision: 0.70 | Val. recall: 0.45\n",
      "Epoch: 04 | Epoch Time: 4m 12s\n",
      "\tTrain Loss: 0.612 | Train f1: 0.56 | Train precision: 0.72 | Train recall: 0.46\n",
      "\t Val. Loss: 0.563 |  Val. f1: 0.58 |  Val. precision: 0.74 | Val. recall: 0.48\n",
      "Epoch: 05 | Epoch Time: 4m 13s\n",
      "\tTrain Loss: 0.566 | Train f1: 0.59 | Train precision: 0.73 | Train recall: 0.50\n",
      "\t Val. Loss: 0.532 |  Val. f1: 0.61 |  Val. precision: 0.74 | Val. recall: 0.54\n",
      "Epoch: 06 | Epoch Time: 4m 5s\n",
      "\tTrain Loss: 0.536 | Train f1: 0.61 | Train precision: 0.74 | Train recall: 0.52\n",
      "\t Val. Loss: 0.515 |  Val. f1: 0.62 |  Val. precision: 0.71 | Val. recall: 0.55\n",
      "Epoch: 07 | Epoch Time: 4m 16s\n",
      "\tTrain Loss: 0.506 | Train f1: 0.63 | Train precision: 0.75 | Train recall: 0.55\n",
      "\t Val. Loss: 0.500 |  Val. f1: 0.63 |  Val. precision: 0.72 | Val. recall: 0.56\n",
      "Epoch: 08 | Epoch Time: 4m 11s\n",
      "\tTrain Loss: 0.481 | Train f1: 0.65 | Train precision: 0.76 | Train recall: 0.57\n",
      "\t Val. Loss: 0.468 |  Val. f1: 0.65 |  Val. precision: 0.76 | Val. recall: 0.58\n",
      "Epoch: 09 | Epoch Time: 4m 14s\n",
      "\tTrain Loss: 0.452 | Train f1: 0.67 | Train precision: 0.77 | Train recall: 0.60\n",
      "\t Val. Loss: 0.460 |  Val. f1: 0.66 |  Val. precision: 0.73 | Val. recall: 0.61\n",
      "Epoch: 10 | Epoch Time: 4m 39s\n",
      "\tTrain Loss: 0.435 | Train f1: 0.69 | Train precision: 0.78 | Train recall: 0.61\n",
      "\t Val. Loss: 0.475 |  Val. f1: 0.66 |  Val. precision: 0.73 | Val. recall: 0.60\n"
     ]
    }
   ],
   "source": [
    "best_valid_loss = float('inf')\n",
    "\n",
    "for epoch in range(n_epochs):\n",
    "\n",
    "    start_time = time.time()\n",
    "\n",
    "    # Recuerdo: train_iterator y valid_iterator contienen el dataset dividido en batches.\n",
    "\n",
    "    # Entrenar\n",
    "    train_loss, train_precision, train_recall, train_f1 = train(\n",
    "        model, train_iterator, optimizer, criterion)\n",
    "\n",
    "    # Evaluar (valid = validación)\n",
    "    valid_loss, valid_precision, valid_recall, valid_f1 = evaluate(\n",
    "        model, valid_iterator, criterion)\n",
    "\n",
    "    end_time = time.time()\n",
    "\n",
    "    epoch_mins, epoch_secs = epoch_time(start_time, end_time)\n",
    "\n",
    "    # Si obtuvimos mejores resultados, guardamos este modelo en el almacenamiento (para poder cargarlo luego)\n",
    "    # Si detienen el entrenamiento prematuramente, pueden cargar el modelo en el siguiente recuadro de código.\n",
    "    if valid_loss < best_valid_loss:\n",
    "        best_valid_loss = valid_loss\n",
    "        torch.save(model.state_dict(), '{}.pt'.format(model_name))\n",
    "    # Si ya no mejoramos el loss de validación, terminamos de entrenar.\n",
    "\n",
    "    print(f'Epoch: {epoch+1:02} | Epoch Time: {epoch_mins}m {epoch_secs}s')\n",
    "    print(\n",
    "        f'\\tTrain Loss: {train_loss:.3f} | Train f1: {train_f1:.2f} | Train precision: {train_precision:.2f} | Train recall: {train_recall:.2f}'\n",
    "    )\n",
    "    print(\n",
    "        f'\\t Val. Loss: {valid_loss:.3f} |  Val. f1: {valid_f1:.2f} |  Val. precision: {valid_precision:.2f} | Val. recall: {valid_recall:.2f}'\n",
    "    )"
   ]
  },
  {
   "cell_type": "code",
   "execution_count": null,
   "id": "fb748ef8",
   "metadata": {
    "id": "s0gVbP8yiicj",
    "pycharm": {
     "name": "#%%\n"
    }
   },
   "outputs": [
    {
     "name": "stdout",
     "output_type": "stream",
     "text": [
      "Val. Loss: 0.460 |  Val. f1: 0.66 | Val. precision: 0.73 | Val. recall: 0.61\n"
     ]
    }
   ],
   "source": [
    "model.load_state_dict(torch.load('{}.pt'.format(model_name)))\n",
    "torch.cuda.empty_cache()\n",
    "\n",
    "valid_loss, valid_precision, valid_recall, valid_f1 = evaluate(\n",
    "    model, valid_iterator, criterion)\n",
    "\n",
    "print(\n",
    "    f'Val. Loss: {valid_loss:.3f} |  Val. f1: {valid_f1:.2f} | Val. precision: {valid_precision:.2f} | Val. recall: {valid_recall:.2f}'\n",
    ")"
   ]
  },
  {
   "cell_type": "markdown",
   "id": "ebbabd9f",
   "metadata": {
    "pycharm": {
     "name": "#%% md\n"
    }
   },
   "source": [
    "Glove SWBC"
   ]
  },
  {
   "cell_type": "code",
   "execution_count": null,
   "id": "062ff0b1",
   "metadata": {
    "pycharm": {
     "name": "#%%\n"
    }
   },
   "outputs": [],
   "source": [
    "# Definir la red\n",
    "class NER_RNN(nn.Module):\n",
    "    def __init__(self, \n",
    "                 input_dim, \n",
    "                 embedding_dim, \n",
    "                 hidden_dim, \n",
    "                 output_dim,\n",
    "                 n_layers, \n",
    "                 bidirectional, \n",
    "                 dropout):\n",
    "\n",
    "        super().__init__()\n",
    "\n",
    "        # Capa de embedding\n",
    "        self.embedding = embedding_glove_swbc\n",
    "\n",
    "        # Capa LSTM\n",
    "        self.lstm = nn.LSTM(embedding_dim,\n",
    "                           hidden_dim,\n",
    "                           num_layers=n_layers,\n",
    "                           bidirectional=bidirectional, \n",
    "                           dropout = dropout if n_layers > 1 else 0)\n",
    "\n",
    "        # Capa de salida\n",
    "        self.fc = nn.Linear(hidden_dim * 2 if bidirectional else hidden_dim,\n",
    "                            output_dim)\n",
    "\n",
    "        # Dropout\n",
    "        self.dropout = nn.Dropout(dropout)\n",
    "\n",
    "    def forward(self, text):\n",
    "        embedded = self.dropout(self.embedding(text))\n",
    "        outputs, (hidden, cell) = self.lstm(embedded)\n",
    "        predictions = self.fc(self.dropout(outputs))\n",
    "        return predictions\n",
    "\n",
    "\n",
    "# Tamaño del vocabulario\n",
    "INPUT_DIM = len(TEXT.vocab)\n",
    "EMBEDDING_DIM = 300  # dimensión de los embeddings.\n",
    "HIDDEN_DIM = 256  # dimensión de la capas LSTM\n",
    "OUTPUT_DIM = len(NER_TAGS.vocab)  # número de clases\n",
    "\n",
    "N_LAYERS = 3  # número de capas.\n",
    "DROPOUT = 0.5\n",
    "BIDIRECTIONAL = True\n",
    "\n",
    "baseline_model = NER_RNN(INPUT_DIM, EMBEDDING_DIM, HIDDEN_DIM, OUTPUT_DIM,\n",
    "                         N_LAYERS, BIDIRECTIONAL, DROPOUT)\n",
    "\n",
    "baseline_model_name = 'baseline'  # nombre que tendrá el modelo guardado...\n",
    "baseline_n_epochs = 10\n",
    "\n",
    "\n",
    "# Loss: Cross Entropy\n",
    "TAG_PAD_IDX = NER_TAGS.vocab.stoi[NER_TAGS.pad_token]\n",
    "baseline_criterion = nn.CrossEntropyLoss(ignore_index = TAG_PAD_IDX)\n",
    "\n",
    "\n",
    "model = baseline_model\n",
    "model_name = baseline_model_name\n",
    "criterion = baseline_criterion\n",
    "n_epochs = baseline_n_epochs\n",
    "\n",
    "\n",
    "def init_weights(m):\n",
    "    # Inicializamos los pesos como aleatorios\n",
    "    for name, param in m.named_parameters():\n",
    "        nn.init.normal_(param.data, mean=0, std=0.1) \n",
    "        \n",
    "    # Seteamos como 0 los embeddings de UNK y PAD.\n",
    "    model.embedding.weight.data[UNK_IDX] = torch.zeros(EMBEDDING_DIM)\n",
    "    model.embedding.weight.data[PAD_IDX] = torch.zeros(EMBEDDING_DIM)\n",
    "\n",
    "\n",
    "model.apply(init_weights)\n",
    "\n",
    "\n",
    "def count_parameters(model):\n",
    "    return sum(p.numel() for p in model.parameters() if p.requires_grad)\n",
    "print(f'El modelo actual tiene {count_parameters(model):,} parámetros entrenables.')\n",
    "\n",
    "\n",
    "optimizer = optim.Adam(model.parameters())\n",
    "model = model.to(device)\n",
    "criterion = criterion.to(device)\n",
    "\n",
    "def train(model, iterator, optimizer, criterion):\n",
    "\n",
    "    epoch_loss = 0\n",
    "    epoch_precision = 0\n",
    "    epoch_recall = 0\n",
    "    epoch_f1 = 0\n",
    "\n",
    "    model.train()\n",
    "\n",
    "    # Por cada batch del iterador de la época:\n",
    "    for batch in iterator:\n",
    "\n",
    "        # Extraemos el texto y los tags del batch que estamos procesado\n",
    "        text = batch.text\n",
    "        tags = batch.nertags\n",
    "\n",
    "        # Reiniciamos los gradientes calculados en la iteración anterior\n",
    "        optimizer.zero_grad()\n",
    "\n",
    "        #text = [sent len, batch size]\n",
    "\n",
    "        # Predecimos los tags del texto del batch.\n",
    "        predictions = model(text)\n",
    "\n",
    "        #predictions = [sent len, batch size, output dim]\n",
    "        #tags = [sent len, batch size]\n",
    "\n",
    "        # Reordenamos los datos para calcular la loss\n",
    "        predictions = predictions.view(-1, predictions.shape[-1])\n",
    "        tags = tags.view(-1)\n",
    "\n",
    "        #predictions = [sent len * batch size, output dim]\n",
    "\n",
    "\n",
    "\n",
    "        # Calculamos el Cross Entropy de las predicciones con respecto a las etiquetas reales\n",
    "        loss = criterion(predictions, tags)\n",
    "        \n",
    "        # Calculamos el accuracy\n",
    "        precision, recall, f1 = calculate_metrics(predictions, tags)\n",
    "\n",
    "        # Calculamos los gradientes\n",
    "        loss.backward()\n",
    "\n",
    "        # Actualizamos los parámetros de la red\n",
    "        optimizer.step()\n",
    "\n",
    "        # Actualizamos el loss y las métricas\n",
    "        epoch_loss += loss.item()\n",
    "        epoch_precision += precision\n",
    "        epoch_recall += recall\n",
    "        epoch_f1 += f1\n",
    "\n",
    "    return epoch_loss / len(iterator), epoch_precision / len(iterator), epoch_recall / len(iterator), epoch_f1 / len(iterator)\n",
    "\n",
    "\n",
    "def epoch_time(start_time, end_time):\n",
    "    elapsed_time = end_time - start_time\n",
    "    elapsed_mins = int(elapsed_time / 60)\n",
    "    elapsed_secs = int(elapsed_time - (elapsed_mins * 60))\n",
    "    return elapsed_mins, elapsed_secs\n",
    "\n",
    "\n",
    "def evaluate(model, iterator, criterion):\n",
    "\n",
    "    epoch_loss = 0\n",
    "    epoch_precision = 0\n",
    "    epoch_recall = 0\n",
    "    epoch_f1 = 0\n",
    "\n",
    "    model.eval()\n",
    "\n",
    "    # Indicamos que ahora no guardaremos los gradientes\n",
    "    with torch.no_grad():\n",
    "        # Por cada batch\n",
    "        for batch in iterator:\n",
    "\n",
    "            text = batch.text\n",
    "            tags = batch.nertags\n",
    "\n",
    "            # Predecimos\n",
    "            predictions = model(text)\n",
    "\n",
    "            predictions = predictions.view(-1, predictions.shape[-1])\n",
    "            tags = tags.view(-1)\n",
    "\n",
    "            # Calculamos el Cross Entropy de las predicciones con respecto a las etiquetas reales\n",
    "            loss = criterion(predictions, tags)\n",
    "\n",
    "            # Calculamos las métricas\n",
    "            precision, recall, f1 = calculate_metrics(predictions, tags)\n",
    "\n",
    "            # Actualizamos el loss y las métricas\n",
    "            epoch_loss += loss.item()\n",
    "            epoch_precision += precision\n",
    "            epoch_recall += recall\n",
    "            epoch_f1 += f1\n",
    "\n",
    "    return epoch_loss / len(iterator), epoch_precision / len(\n",
    "        iterator), epoch_recall / len(iterator), epoch_f1 / len(iterator)"
   ]
  },
  {
   "cell_type": "code",
   "execution_count": null,
   "id": "ea48422c",
   "metadata": {
    "colab": {
     "base_uri": "https://localhost:8080/",
     "height": 1000
    },
    "id": "iK5lQqpviicf",
    "outputId": "0880b2a1-7386-4277-f863-afd343c8cd13",
    "pycharm": {
     "name": "#%%\n"
    }
   },
   "outputs": [
    {
     "name": "stderr",
     "output_type": "stream",
     "text": [
      "c:\\Users\\autofact\\Documents\\NLP-competition-2\\venv\\lib\\site-packages\\seqeval\\metrics\\sequence_labeling.py:171: UserWarning: <pad> seems not to be NE tag.\n",
      "  warnings.warn('{} seems not to be NE tag.'.format(chunk))\n",
      "c:\\Users\\autofact\\Documents\\NLP-competition-2\\venv\\lib\\site-packages\\seqeval\\metrics\\v1.py:57: UndefinedMetricWarning: Precision is ill-defined and being set to 0.0 due to no predicted samples. Use `zero_division` parameter to control this behavior.\n",
      "  _warn_prf(average, modifier, msg_start, len(result))\n"
     ]
    },
    {
     "name": "stdout",
     "output_type": "stream",
     "text": [
      "Epoch: 01 | Epoch Time: 3m 59s\n",
      "\tTrain Loss: 0.944 | Train f1: 0.28 | Train precision: 0.50 | Train recall: 0.20\n",
      "\t Val. Loss: 0.767 |  Val. f1: 0.43 |  Val. precision: 0.69 | Val. recall: 0.32\n",
      "Epoch: 02 | Epoch Time: 3m 56s\n",
      "\tTrain Loss: 0.751 | Train f1: 0.46 | Train precision: 0.66 | Train recall: 0.36\n",
      "\t Val. Loss: 0.639 |  Val. f1: 0.50 |  Val. precision: 0.74 | Val. recall: 0.39\n",
      "Epoch: 03 | Epoch Time: 3m 57s\n",
      "\tTrain Loss: 0.674 | Train f1: 0.51 | Train precision: 0.69 | Train recall: 0.41\n",
      "\t Val. Loss: 0.605 |  Val. f1: 0.55 |  Val. precision: 0.70 | Val. recall: 0.45\n",
      "Epoch: 04 | Epoch Time: 4m 12s\n",
      "\tTrain Loss: 0.612 | Train f1: 0.56 | Train precision: 0.72 | Train recall: 0.46\n",
      "\t Val. Loss: 0.563 |  Val. f1: 0.58 |  Val. precision: 0.74 | Val. recall: 0.48\n",
      "Epoch: 05 | Epoch Time: 4m 13s\n",
      "\tTrain Loss: 0.566 | Train f1: 0.59 | Train precision: 0.73 | Train recall: 0.50\n",
      "\t Val. Loss: 0.532 |  Val. f1: 0.61 |  Val. precision: 0.74 | Val. recall: 0.54\n",
      "Epoch: 06 | Epoch Time: 4m 5s\n",
      "\tTrain Loss: 0.536 | Train f1: 0.61 | Train precision: 0.74 | Train recall: 0.52\n",
      "\t Val. Loss: 0.515 |  Val. f1: 0.62 |  Val. precision: 0.71 | Val. recall: 0.55\n",
      "Epoch: 07 | Epoch Time: 4m 16s\n",
      "\tTrain Loss: 0.506 | Train f1: 0.63 | Train precision: 0.75 | Train recall: 0.55\n",
      "\t Val. Loss: 0.500 |  Val. f1: 0.63 |  Val. precision: 0.72 | Val. recall: 0.56\n",
      "Epoch: 08 | Epoch Time: 4m 11s\n",
      "\tTrain Loss: 0.481 | Train f1: 0.65 | Train precision: 0.76 | Train recall: 0.57\n",
      "\t Val. Loss: 0.468 |  Val. f1: 0.65 |  Val. precision: 0.76 | Val. recall: 0.58\n",
      "Epoch: 09 | Epoch Time: 4m 14s\n",
      "\tTrain Loss: 0.452 | Train f1: 0.67 | Train precision: 0.77 | Train recall: 0.60\n",
      "\t Val. Loss: 0.460 |  Val. f1: 0.66 |  Val. precision: 0.73 | Val. recall: 0.61\n",
      "Epoch: 10 | Epoch Time: 4m 39s\n",
      "\tTrain Loss: 0.435 | Train f1: 0.69 | Train precision: 0.78 | Train recall: 0.61\n",
      "\t Val. Loss: 0.475 |  Val. f1: 0.66 |  Val. precision: 0.73 | Val. recall: 0.60\n"
     ]
    }
   ],
   "source": [
    "best_valid_loss = float('inf')\n",
    "\n",
    "for epoch in range(n_epochs):\n",
    "\n",
    "    start_time = time.time()\n",
    "\n",
    "    # Recuerdo: train_iterator y valid_iterator contienen el dataset dividido en batches.\n",
    "\n",
    "    # Entrenar\n",
    "    train_loss, train_precision, train_recall, train_f1 = train(\n",
    "        model, train_iterator, optimizer, criterion)\n",
    "\n",
    "    # Evaluar (valid = validación)\n",
    "    valid_loss, valid_precision, valid_recall, valid_f1 = evaluate(\n",
    "        model, valid_iterator, criterion)\n",
    "\n",
    "    end_time = time.time()\n",
    "\n",
    "    epoch_mins, epoch_secs = epoch_time(start_time, end_time)\n",
    "\n",
    "    # Si obtuvimos mejores resultados, guardamos este modelo en el almacenamiento (para poder cargarlo luego)\n",
    "    # Si detienen el entrenamiento prematuramente, pueden cargar el modelo en el siguiente recuadro de código.\n",
    "    if valid_loss < best_valid_loss:\n",
    "        best_valid_loss = valid_loss\n",
    "        torch.save(model.state_dict(), '{}.pt'.format(model_name))\n",
    "    # Si ya no mejoramos el loss de validación, terminamos de entrenar.\n",
    "\n",
    "    print(f'Epoch: {epoch+1:02} | Epoch Time: {epoch_mins}m {epoch_secs}s')\n",
    "    print(\n",
    "        f'\\tTrain Loss: {train_loss:.3f} | Train f1: {train_f1:.2f} | Train precision: {train_precision:.2f} | Train recall: {train_recall:.2f}'\n",
    "    )\n",
    "    print(\n",
    "        f'\\t Val. Loss: {valid_loss:.3f} |  Val. f1: {valid_f1:.2f} |  Val. precision: {valid_precision:.2f} | Val. recall: {valid_recall:.2f}'\n",
    "    )"
   ]
  },
  {
   "cell_type": "code",
   "execution_count": null,
   "id": "fdf54b51",
   "metadata": {
    "id": "s0gVbP8yiicj",
    "pycharm": {
     "name": "#%%\n"
    }
   },
   "outputs": [
    {
     "name": "stdout",
     "output_type": "stream",
     "text": [
      "Val. Loss: 0.460 |  Val. f1: 0.66 | Val. precision: 0.73 | Val. recall: 0.61\n"
     ]
    }
   ],
   "source": [
    "model.load_state_dict(torch.load('{}.pt'.format(model_name)))\n",
    "torch.cuda.empty_cache()\n",
    "\n",
    "valid_loss, valid_precision, valid_recall, valid_f1 = evaluate(\n",
    "    model, valid_iterator, criterion)\n",
    "\n",
    "print(\n",
    "    f'Val. Loss: {valid_loss:.3f} |  Val. f1: {valid_f1:.2f} | Val. precision: {valid_precision:.2f} | Val. recall: {valid_recall:.2f}'\n",
    ")"
   ]
  },
  {
   "cell_type": "markdown",
   "id": "e9d6a661",
   "metadata": {},
   "source": [
    "Wiki es"
   ]
  },
  {
   "cell_type": "code",
   "execution_count": null,
   "id": "bf0fba97",
   "metadata": {
    "pycharm": {
     "name": "#%%\n"
    }
   },
   "outputs": [],
   "source": [
    "# Definir la red\n",
    "class NER_RNN(nn.Module):\n",
    "    def __init__(self, \n",
    "                 input_dim, \n",
    "                 embedding_dim, \n",
    "                 hidden_dim, \n",
    "                 output_dim,\n",
    "                 n_layers, \n",
    "                 bidirectional, \n",
    "                 dropout):\n",
    "\n",
    "        super().__init__()\n",
    "\n",
    "        # Capa de embedding\n",
    "        self.embedding = embedding_wiki\n",
    "\n",
    "        # Capa LSTM\n",
    "        self.lstm = nn.LSTM(embedding_dim,\n",
    "                           hidden_dim,\n",
    "                           num_layers=n_layers,\n",
    "                           bidirectional=bidirectional, \n",
    "                           dropout = dropout if n_layers > 1 else 0)\n",
    "\n",
    "        # Capa de salida\n",
    "        self.fc = nn.Linear(hidden_dim * 2 if bidirectional else hidden_dim,\n",
    "                            output_dim)\n",
    "\n",
    "        # Dropout\n",
    "        self.dropout = nn.Dropout(dropout)\n",
    "\n",
    "    def forward(self, text):\n",
    "        embedded = self.dropout(self.embedding(text))\n",
    "        outputs, (hidden, cell) = self.lstm(embedded)\n",
    "        predictions = self.fc(self.dropout(outputs))\n",
    "        return predictions\n",
    "\n",
    "\n",
    "# Tamaño del vocabulario\n",
    "INPUT_DIM = len(TEXT.vocab)\n",
    "EMBEDDING_DIM = 300  # dimensión de los embeddings.\n",
    "HIDDEN_DIM = 256  # dimensión de la capas LSTM\n",
    "OUTPUT_DIM = len(NER_TAGS.vocab)  # número de clases\n",
    "\n",
    "N_LAYERS = 3  # número de capas.\n",
    "DROPOUT = 0.5\n",
    "BIDIRECTIONAL = True\n",
    "\n",
    "baseline_model = NER_RNN(INPUT_DIM, EMBEDDING_DIM, HIDDEN_DIM, OUTPUT_DIM,\n",
    "                         N_LAYERS, BIDIRECTIONAL, DROPOUT)\n",
    "\n",
    "baseline_model_name = 'baseline'  # nombre que tendrá el modelo guardado...\n",
    "baseline_n_epochs = 10\n",
    "\n",
    "\n",
    "# Loss: Cross Entropy\n",
    "TAG_PAD_IDX = NER_TAGS.vocab.stoi[NER_TAGS.pad_token]\n",
    "baseline_criterion = nn.CrossEntropyLoss(ignore_index = TAG_PAD_IDX)\n",
    "\n",
    "\n",
    "model = baseline_model\n",
    "model_name = baseline_model_name\n",
    "criterion = baseline_criterion\n",
    "n_epochs = baseline_n_epochs\n",
    "\n",
    "\n",
    "def init_weights(m):\n",
    "    # Inicializamos los pesos como aleatorios\n",
    "    for name, param in m.named_parameters():\n",
    "        nn.init.normal_(param.data, mean=0, std=0.1) \n",
    "        \n",
    "    # Seteamos como 0 los embeddings de UNK y PAD.\n",
    "    model.embedding.weight.data[UNK_IDX] = torch.zeros(EMBEDDING_DIM)\n",
    "    model.embedding.weight.data[PAD_IDX] = torch.zeros(EMBEDDING_DIM)\n",
    "\n",
    "\n",
    "model.apply(init_weights)\n",
    "\n",
    "\n",
    "def count_parameters(model):\n",
    "    return sum(p.numel() for p in model.parameters() if p.requires_grad)\n",
    "print(f'El modelo actual tiene {count_parameters(model):,} parámetros entrenables.')\n",
    "\n",
    "\n",
    "optimizer = optim.Adam(model.parameters())\n",
    "model = model.to(device)\n",
    "criterion = criterion.to(device)\n",
    "\n",
    "def train(model, iterator, optimizer, criterion):\n",
    "\n",
    "    epoch_loss = 0\n",
    "    epoch_precision = 0\n",
    "    epoch_recall = 0\n",
    "    epoch_f1 = 0\n",
    "\n",
    "    model.train()\n",
    "\n",
    "    # Por cada batch del iterador de la época:\n",
    "    for batch in iterator:\n",
    "\n",
    "        # Extraemos el texto y los tags del batch que estamos procesado\n",
    "        text = batch.text\n",
    "        tags = batch.nertags\n",
    "\n",
    "        # Reiniciamos los gradientes calculados en la iteración anterior\n",
    "        optimizer.zero_grad()\n",
    "\n",
    "        #text = [sent len, batch size]\n",
    "\n",
    "        # Predecimos los tags del texto del batch.\n",
    "        predictions = model(text)\n",
    "\n",
    "        #predictions = [sent len, batch size, output dim]\n",
    "        #tags = [sent len, batch size]\n",
    "\n",
    "        # Reordenamos los datos para calcular la loss\n",
    "        predictions = predictions.view(-1, predictions.shape[-1])\n",
    "        tags = tags.view(-1)\n",
    "\n",
    "        #predictions = [sent len * batch size, output dim]\n",
    "\n",
    "\n",
    "\n",
    "        # Calculamos el Cross Entropy de las predicciones con respecto a las etiquetas reales\n",
    "        loss = criterion(predictions, tags)\n",
    "        \n",
    "        # Calculamos el accuracy\n",
    "        precision, recall, f1 = calculate_metrics(predictions, tags)\n",
    "\n",
    "        # Calculamos los gradientes\n",
    "        loss.backward()\n",
    "\n",
    "        # Actualizamos los parámetros de la red\n",
    "        optimizer.step()\n",
    "\n",
    "        # Actualizamos el loss y las métricas\n",
    "        epoch_loss += loss.item()\n",
    "        epoch_precision += precision\n",
    "        epoch_recall += recall\n",
    "        epoch_f1 += f1\n",
    "\n",
    "    return epoch_loss / len(iterator), epoch_precision / len(iterator), epoch_recall / len(iterator), epoch_f1 / len(iterator)\n",
    "\n",
    "\n",
    "def epoch_time(start_time, end_time):\n",
    "    elapsed_time = end_time - start_time\n",
    "    elapsed_mins = int(elapsed_time / 60)\n",
    "    elapsed_secs = int(elapsed_time - (elapsed_mins * 60))\n",
    "    return elapsed_mins, elapsed_secs\n",
    "\n",
    "\n",
    "def evaluate(model, iterator, criterion):\n",
    "\n",
    "    epoch_loss = 0\n",
    "    epoch_precision = 0\n",
    "    epoch_recall = 0\n",
    "    epoch_f1 = 0\n",
    "\n",
    "    model.eval()\n",
    "\n",
    "    # Indicamos que ahora no guardaremos los gradientes\n",
    "    with torch.no_grad():\n",
    "        # Por cada batch\n",
    "        for batch in iterator:\n",
    "\n",
    "            text = batch.text\n",
    "            tags = batch.nertags\n",
    "\n",
    "            # Predecimos\n",
    "            predictions = model(text)\n",
    "\n",
    "            predictions = predictions.view(-1, predictions.shape[-1])\n",
    "            tags = tags.view(-1)\n",
    "\n",
    "            # Calculamos el Cross Entropy de las predicciones con respecto a las etiquetas reales\n",
    "            loss = criterion(predictions, tags)\n",
    "\n",
    "            # Calculamos las métricas\n",
    "            precision, recall, f1 = calculate_metrics(predictions, tags)\n",
    "\n",
    "            # Actualizamos el loss y las métricas\n",
    "            epoch_loss += loss.item()\n",
    "            epoch_precision += precision\n",
    "            epoch_recall += recall\n",
    "            epoch_f1 += f1\n",
    "\n",
    "    return epoch_loss / len(iterator), epoch_precision / len(\n",
    "        iterator), epoch_recall / len(iterator), epoch_f1 / len(iterator)"
   ]
  },
  {
   "cell_type": "code",
   "execution_count": null,
   "id": "79fc041e",
   "metadata": {
    "colab": {
     "base_uri": "https://localhost:8080/",
     "height": 1000
    },
    "id": "iK5lQqpviicf",
    "outputId": "0880b2a1-7386-4277-f863-afd343c8cd13",
    "pycharm": {
     "name": "#%%\n"
    }
   },
   "outputs": [
    {
     "name": "stderr",
     "output_type": "stream",
     "text": [
      "c:\\Users\\autofact\\Documents\\NLP-competition-2\\venv\\lib\\site-packages\\seqeval\\metrics\\sequence_labeling.py:171: UserWarning: <pad> seems not to be NE tag.\n",
      "  warnings.warn('{} seems not to be NE tag.'.format(chunk))\n",
      "c:\\Users\\autofact\\Documents\\NLP-competition-2\\venv\\lib\\site-packages\\seqeval\\metrics\\v1.py:57: UndefinedMetricWarning: Precision is ill-defined and being set to 0.0 due to no predicted samples. Use `zero_division` parameter to control this behavior.\n",
      "  _warn_prf(average, modifier, msg_start, len(result))\n"
     ]
    },
    {
     "name": "stdout",
     "output_type": "stream",
     "text": [
      "Epoch: 01 | Epoch Time: 3m 55s\n",
      "\tTrain Loss: 0.937 | Train f1: 0.30 | Train precision: 0.53 | Train recall: 0.22\n",
      "\t Val. Loss: 0.748 |  Val. f1: 0.44 |  Val. precision: 0.68 | Val. recall: 0.33\n",
      "Epoch: 02 | Epoch Time: 4m 5s\n",
      "\tTrain Loss: 0.750 | Train f1: 0.46 | Train precision: 0.66 | Train recall: 0.36\n",
      "\t Val. Loss: 0.645 |  Val. f1: 0.49 |  Val. precision: 0.73 | Val. recall: 0.37\n",
      "Epoch: 03 | Epoch Time: 3m 56s\n",
      "\tTrain Loss: 0.666 | Train f1: 0.51 | Train precision: 0.68 | Train recall: 0.41\n",
      "\t Val. Loss: 0.589 |  Val. f1: 0.56 |  Val. precision: 0.72 | Val. recall: 0.47\n",
      "Epoch: 04 | Epoch Time: 4m 3s\n",
      "\tTrain Loss: 0.612 | Train f1: 0.56 | Train precision: 0.72 | Train recall: 0.46\n",
      "\t Val. Loss: 0.570 |  Val. f1: 0.56 |  Val. precision: 0.74 | Val. recall: 0.47\n",
      "Epoch: 05 | Epoch Time: 6m 41s\n",
      "\tTrain Loss: 0.568 | Train f1: 0.59 | Train precision: 0.74 | Train recall: 0.50\n",
      "\t Val. Loss: 0.538 |  Val. f1: 0.59 |  Val. precision: 0.75 | Val. recall: 0.50\n",
      "Epoch: 06 | Epoch Time: 4m 2s\n",
      "\tTrain Loss: 0.537 | Train f1: 0.61 | Train precision: 0.74 | Train recall: 0.52\n",
      "\t Val. Loss: 0.516 |  Val. f1: 0.60 |  Val. precision: 0.74 | Val. recall: 0.52\n",
      "Epoch: 07 | Epoch Time: 7m 3s\n",
      "\tTrain Loss: 0.506 | Train f1: 0.63 | Train precision: 0.75 | Train recall: 0.55\n",
      "\t Val. Loss: 0.497 |  Val. f1: 0.63 |  Val. precision: 0.75 | Val. recall: 0.55\n",
      "Epoch: 08 | Epoch Time: 4m 15s\n",
      "\tTrain Loss: 0.483 | Train f1: 0.65 | Train precision: 0.76 | Train recall: 0.57\n",
      "\t Val. Loss: 0.478 |  Val. f1: 0.64 |  Val. precision: 0.75 | Val. recall: 0.57\n",
      "Epoch: 09 | Epoch Time: 4m 19s\n",
      "\tTrain Loss: 0.452 | Train f1: 0.67 | Train precision: 0.78 | Train recall: 0.60\n",
      "\t Val. Loss: 0.471 |  Val. f1: 0.66 |  Val. precision: 0.75 | Val. recall: 0.59\n",
      "Epoch: 10 | Epoch Time: 4m 22s\n",
      "\tTrain Loss: 0.434 | Train f1: 0.69 | Train precision: 0.78 | Train recall: 0.62\n",
      "\t Val. Loss: 0.469 |  Val. f1: 0.66 |  Val. precision: 0.74 | Val. recall: 0.60\n"
     ]
    }
   ],
   "source": [
    "best_valid_loss = float('inf')\n",
    "\n",
    "for epoch in range(n_epochs):\n",
    "\n",
    "    start_time = time.time()\n",
    "\n",
    "    # Recuerdo: train_iterator y valid_iterator contienen el dataset dividido en batches.\n",
    "\n",
    "    # Entrenar\n",
    "    train_loss, train_precision, train_recall, train_f1 = train(\n",
    "        model, train_iterator, optimizer, criterion)\n",
    "\n",
    "    # Evaluar (valid = validación)\n",
    "    valid_loss, valid_precision, valid_recall, valid_f1 = evaluate(\n",
    "        model, valid_iterator, criterion)\n",
    "\n",
    "    end_time = time.time()\n",
    "\n",
    "    epoch_mins, epoch_secs = epoch_time(start_time, end_time)\n",
    "\n",
    "    # Si obtuvimos mejores resultados, guardamos este modelo en el almacenamiento (para poder cargarlo luego)\n",
    "    # Si detienen el entrenamiento prematuramente, pueden cargar el modelo en el siguiente recuadro de código.\n",
    "    if valid_loss < best_valid_loss:\n",
    "        best_valid_loss = valid_loss\n",
    "        torch.save(model.state_dict(), '{}.pt'.format(model_name))\n",
    "    # Si ya no mejoramos el loss de validación, terminamos de entrenar.\n",
    "\n",
    "    print(f'Epoch: {epoch+1:02} | Epoch Time: {epoch_mins}m {epoch_secs}s')\n",
    "    print(\n",
    "        f'\\tTrain Loss: {train_loss:.3f} | Train f1: {train_f1:.2f} | Train precision: {train_precision:.2f} | Train recall: {train_recall:.2f}'\n",
    "    )\n",
    "    print(\n",
    "        f'\\t Val. Loss: {valid_loss:.3f} |  Val. f1: {valid_f1:.2f} |  Val. precision: {valid_precision:.2f} | Val. recall: {valid_recall:.2f}'\n",
    "    )"
   ]
  },
  {
   "cell_type": "code",
   "execution_count": null,
   "id": "34462344",
   "metadata": {
    "id": "s0gVbP8yiicj",
    "pycharm": {
     "name": "#%%\n"
    }
   },
   "outputs": [
    {
     "name": "stdout",
     "output_type": "stream",
     "text": [
      "Val. Loss: 0.469 |  Val. f1: 0.66 | Val. precision: 0.74 | Val. recall: 0.60\n"
     ]
    }
   ],
   "source": [
    "model.load_state_dict(torch.load('{}.pt'.format(model_name)))\n",
    "torch.cuda.empty_cache()\n",
    "\n",
    "valid_loss, valid_precision, valid_recall, valid_f1 = evaluate(\n",
    "    model, valid_iterator, criterion)\n",
    "\n",
    "print(\n",
    "    f'Val. Loss: {valid_loss:.3f} |  Val. f1: {valid_f1:.2f} | Val. precision: {valid_precision:.2f} | Val. recall: {valid_recall:.2f}'\n",
    ")"
   ]
  },
  {
   "cell_type": "markdown",
   "id": "ad041510",
   "metadata": {},
   "source": [
    "Word2Vec"
   ]
  },
  {
   "cell_type": "code",
   "execution_count": null,
   "id": "c5f788b1",
   "metadata": {},
   "outputs": [],
   "source": [
    "# Definir la red\n",
    "class NER_RNN(nn.Module):\n",
    "    def __init__(self, \n",
    "                 input_dim, \n",
    "                 embedding_dim, \n",
    "                 hidden_dim, \n",
    "                 output_dim,\n",
    "                 n_layers, \n",
    "                 bidirectional, \n",
    "                 dropout):\n",
    "\n",
    "        super().__init__()\n",
    "\n",
    "        # Capa de embedding\n",
    "        self.embedding = embedding_w2v\n",
    "\n",
    "        # Capa LSTM\n",
    "        self.lstm = nn.LSTM(embedding_dim,\n",
    "                           hidden_dim,\n",
    "                           num_layers=n_layers,\n",
    "                           bidirectional=bidirectional, \n",
    "                           dropout = dropout if n_layers > 1 else 0)\n",
    "\n",
    "        # Capa de salida\n",
    "        self.fc = nn.Linear(hidden_dim * 2 if bidirectional else hidden_dim,\n",
    "                            output_dim)\n",
    "\n",
    "        # Dropout\n",
    "        self.dropout = nn.Dropout(dropout)\n",
    "\n",
    "    def forward(self, text):\n",
    "        embedded = self.dropout(self.embedding(text))\n",
    "        outputs, (hidden, cell) = self.lstm(embedded)\n",
    "        predictions = self.fc(self.dropout(outputs))\n",
    "        return predictions\n",
    "\n",
    "\n",
    "# Tamaño del vocabulario\n",
    "INPUT_DIM = len(TEXT.vocab)\n",
    "EMBEDDING_DIM = 300  # dimensión de los embeddings.\n",
    "HIDDEN_DIM = 256  # dimensión de la capas LSTM\n",
    "OUTPUT_DIM = len(NER_TAGS.vocab)  # número de clases\n",
    "\n",
    "N_LAYERS = 3  # número de capas.\n",
    "DROPOUT = 0.5\n",
    "BIDIRECTIONAL = True\n",
    "\n",
    "baseline_model = NER_RNN(INPUT_DIM, EMBEDDING_DIM, HIDDEN_DIM, OUTPUT_DIM,\n",
    "                         N_LAYERS, BIDIRECTIONAL, DROPOUT)\n",
    "\n",
    "baseline_model_name = 'baseline'  # nombre que tendrá el modelo guardado...\n",
    "baseline_n_epochs = 10\n",
    "\n",
    "\n",
    "# Loss: Cross Entropy\n",
    "TAG_PAD_IDX = NER_TAGS.vocab.stoi[NER_TAGS.pad_token]\n",
    "baseline_criterion = nn.CrossEntropyLoss(ignore_index = TAG_PAD_IDX)\n",
    "\n",
    "\n",
    "model = baseline_model\n",
    "model_name = baseline_model_name\n",
    "criterion = baseline_criterion\n",
    "n_epochs = baseline_n_epochs\n",
    "\n",
    "\n",
    "def init_weights(m):\n",
    "    # Inicializamos los pesos como aleatorios\n",
    "    for name, param in m.named_parameters():\n",
    "        nn.init.normal_(param.data, mean=0, std=0.1) \n",
    "        \n",
    "    # Seteamos como 0 los embeddings de UNK y PAD.\n",
    "    model.embedding.weight.data[UNK_IDX] = torch.zeros(EMBEDDING_DIM)\n",
    "    model.embedding.weight.data[PAD_IDX] = torch.zeros(EMBEDDING_DIM)\n",
    "\n",
    "\n",
    "model.apply(init_weights)\n",
    "\n",
    "\n",
    "def count_parameters(model):\n",
    "    return sum(p.numel() for p in model.parameters() if p.requires_grad)\n",
    "print(f'El modelo actual tiene {count_parameters(model):,} parámetros entrenables.')\n",
    "\n",
    "\n",
    "optimizer = optim.Adam(model.parameters())\n",
    "model = model.to(device)\n",
    "criterion = criterion.to(device)\n",
    "\n",
    "def train(model, iterator, optimizer, criterion):\n",
    "\n",
    "    epoch_loss = 0\n",
    "    epoch_precision = 0\n",
    "    epoch_recall = 0\n",
    "    epoch_f1 = 0\n",
    "\n",
    "    model.train()\n",
    "\n",
    "    # Por cada batch del iterador de la época:\n",
    "    for batch in iterator:\n",
    "\n",
    "        # Extraemos el texto y los tags del batch que estamos procesado\n",
    "        text = batch.text\n",
    "        tags = batch.nertags\n",
    "\n",
    "        # Reiniciamos los gradientes calculados en la iteración anterior\n",
    "        optimizer.zero_grad()\n",
    "\n",
    "        #text = [sent len, batch size]\n",
    "\n",
    "        # Predecimos los tags del texto del batch.\n",
    "        predictions = model(text)\n",
    "\n",
    "        #predictions = [sent len, batch size, output dim]\n",
    "        #tags = [sent len, batch size]\n",
    "\n",
    "        # Reordenamos los datos para calcular la loss\n",
    "        predictions = predictions.view(-1, predictions.shape[-1])\n",
    "        tags = tags.view(-1)\n",
    "\n",
    "        #predictions = [sent len * batch size, output dim]\n",
    "\n",
    "\n",
    "\n",
    "        # Calculamos el Cross Entropy de las predicciones con respecto a las etiquetas reales\n",
    "        loss = criterion(predictions, tags)\n",
    "        \n",
    "        # Calculamos el accuracy\n",
    "        precision, recall, f1 = calculate_metrics(predictions, tags)\n",
    "\n",
    "        # Calculamos los gradientes\n",
    "        loss.backward()\n",
    "\n",
    "        # Actualizamos los parámetros de la red\n",
    "        optimizer.step()\n",
    "\n",
    "        # Actualizamos el loss y las métricas\n",
    "        epoch_loss += loss.item()\n",
    "        epoch_precision += precision\n",
    "        epoch_recall += recall\n",
    "        epoch_f1 += f1\n",
    "\n",
    "    return epoch_loss / len(iterator), epoch_precision / len(iterator), epoch_recall / len(iterator), epoch_f1 / len(iterator)\n",
    "\n",
    "\n",
    "def epoch_time(start_time, end_time):\n",
    "    elapsed_time = end_time - start_time\n",
    "    elapsed_mins = int(elapsed_time / 60)\n",
    "    elapsed_secs = int(elapsed_time - (elapsed_mins * 60))\n",
    "    return elapsed_mins, elapsed_secs\n",
    "\n",
    "\n",
    "def evaluate(model, iterator, criterion):\n",
    "\n",
    "    epoch_loss = 0\n",
    "    epoch_precision = 0\n",
    "    epoch_recall = 0\n",
    "    epoch_f1 = 0\n",
    "\n",
    "    model.eval()\n",
    "\n",
    "    # Indicamos que ahora no guardaremos los gradientes\n",
    "    with torch.no_grad():\n",
    "        # Por cada batch\n",
    "        for batch in iterator:\n",
    "\n",
    "            text = batch.text\n",
    "            tags = batch.nertags\n",
    "\n",
    "            # Predecimos\n",
    "            predictions = model(text)\n",
    "\n",
    "            predictions = predictions.view(-1, predictions.shape[-1])\n",
    "            tags = tags.view(-1)\n",
    "\n",
    "            # Calculamos el Cross Entropy de las predicciones con respecto a las etiquetas reales\n",
    "            loss = criterion(predictions, tags)\n",
    "\n",
    "            # Calculamos las métricas\n",
    "            precision, recall, f1 = calculate_metrics(predictions, tags)\n",
    "\n",
    "            # Actualizamos el loss y las métricas\n",
    "            epoch_loss += loss.item()\n",
    "            epoch_precision += precision\n",
    "            epoch_recall += recall\n",
    "            epoch_f1 += f1\n",
    "\n",
    "    return epoch_loss / len(iterator), epoch_precision / len(\n",
    "        iterator), epoch_recall / len(iterator), epoch_f1 / len(iterator)"
   ]
  },
  {
   "cell_type": "code",
   "execution_count": null,
   "id": "2c306cb3",
   "metadata": {
    "colab": {
     "base_uri": "https://localhost:8080/",
     "height": 1000
    },
    "id": "iK5lQqpviicf",
    "outputId": "0880b2a1-7386-4277-f863-afd343c8cd13",
    "pycharm": {
     "name": "#%%\n"
    }
   },
   "outputs": [
    {
     "name": "stderr",
     "output_type": "stream",
     "text": [
      "c:\\Users\\autofact\\Documents\\NLP-competition-2\\venv\\lib\\site-packages\\seqeval\\metrics\\sequence_labeling.py:171: UserWarning: <pad> seems not to be NE tag.\n",
      "  warnings.warn('{} seems not to be NE tag.'.format(chunk))\n",
      "c:\\Users\\autofact\\Documents\\NLP-competition-2\\venv\\lib\\site-packages\\seqeval\\metrics\\v1.py:57: UndefinedMetricWarning: Precision is ill-defined and being set to 0.0 due to no predicted samples. Use `zero_division` parameter to control this behavior.\n",
      "  _warn_prf(average, modifier, msg_start, len(result))\n"
     ]
    },
    {
     "name": "stdout",
     "output_type": "stream",
     "text": [
      "Epoch: 01 | Epoch Time: 4m 3s\n",
      "\tTrain Loss: 0.941 | Train f1: 0.29 | Train precision: 0.53 | Train recall: 0.21\n",
      "\t Val. Loss: 0.779 |  Val. f1: 0.41 |  Val. precision: 0.72 | Val. recall: 0.30\n",
      "Epoch: 02 | Epoch Time: 4m 8s\n",
      "\tTrain Loss: 0.747 | Train f1: 0.46 | Train precision: 0.66 | Train recall: 0.36\n",
      "\t Val. Loss: 0.645 |  Val. f1: 0.49 |  Val. precision: 0.74 | Val. recall: 0.38\n",
      "Epoch: 03 | Epoch Time: 4m 18s\n",
      "\tTrain Loss: 0.663 | Train f1: 0.52 | Train precision: 0.69 | Train recall: 0.42\n",
      "\t Val. Loss: 0.593 |  Val. f1: 0.54 |  Val. precision: 0.73 | Val. recall: 0.44\n",
      "Epoch: 04 | Epoch Time: 4m 25s\n",
      "\tTrain Loss: 0.607 | Train f1: 0.57 | Train precision: 0.72 | Train recall: 0.47\n",
      "\t Val. Loss: 0.560 |  Val. f1: 0.56 |  Val. precision: 0.74 | Val. recall: 0.47\n",
      "Epoch: 05 | Epoch Time: 4m 18s\n",
      "\tTrain Loss: 0.567 | Train f1: 0.59 | Train precision: 0.74 | Train recall: 0.50\n",
      "\t Val. Loss: 0.529 |  Val. f1: 0.59 |  Val. precision: 0.76 | Val. recall: 0.50\n",
      "Epoch: 06 | Epoch Time: 5m 9s\n",
      "\tTrain Loss: 0.536 | Train f1: 0.61 | Train precision: 0.74 | Train recall: 0.52\n",
      "\t Val. Loss: 0.522 |  Val. f1: 0.60 |  Val. precision: 0.73 | Val. recall: 0.52\n",
      "Epoch: 07 | Epoch Time: 4m 30s\n",
      "\tTrain Loss: 0.503 | Train f1: 0.63 | Train precision: 0.75 | Train recall: 0.55\n",
      "\t Val. Loss: 0.499 |  Val. f1: 0.62 |  Val. precision: 0.73 | Val. recall: 0.55\n",
      "Epoch: 08 | Epoch Time: 4m 14s\n",
      "\tTrain Loss: 0.481 | Train f1: 0.65 | Train precision: 0.77 | Train recall: 0.58\n",
      "\t Val. Loss: 0.486 |  Val. f1: 0.64 |  Val. precision: 0.75 | Val. recall: 0.57\n",
      "Epoch: 09 | Epoch Time: 4m 16s\n",
      "\tTrain Loss: 0.454 | Train f1: 0.67 | Train precision: 0.77 | Train recall: 0.60\n",
      "\t Val. Loss: 0.481 |  Val. f1: 0.65 |  Val. precision: 0.74 | Val. recall: 0.59\n",
      "Epoch: 10 | Epoch Time: 4m 18s\n",
      "\tTrain Loss: 0.431 | Train f1: 0.69 | Train precision: 0.78 | Train recall: 0.62\n",
      "\t Val. Loss: 0.483 |  Val. f1: 0.65 |  Val. precision: 0.71 | Val. recall: 0.61\n"
     ]
    }
   ],
   "source": [
    "best_valid_loss = float('inf')\n",
    "\n",
    "for epoch in range(n_epochs):\n",
    "\n",
    "    start_time = time.time()\n",
    "\n",
    "    # Recuerdo: train_iterator y valid_iterator contienen el dataset dividido en batches.\n",
    "\n",
    "    # Entrenar\n",
    "    train_loss, train_precision, train_recall, train_f1 = train(\n",
    "        model, train_iterator, optimizer, criterion)\n",
    "\n",
    "    # Evaluar (valid = validación)\n",
    "    valid_loss, valid_precision, valid_recall, valid_f1 = evaluate(\n",
    "        model, valid_iterator, criterion)\n",
    "\n",
    "    end_time = time.time()\n",
    "\n",
    "    epoch_mins, epoch_secs = epoch_time(start_time, end_time)\n",
    "\n",
    "    # Si obtuvimos mejores resultados, guardamos este modelo en el almacenamiento (para poder cargarlo luego)\n",
    "    # Si detienen el entrenamiento prematuramente, pueden cargar el modelo en el siguiente recuadro de código.\n",
    "    if valid_loss < best_valid_loss:\n",
    "        best_valid_loss = valid_loss\n",
    "        torch.save(model.state_dict(), '{}.pt'.format(model_name))\n",
    "    # Si ya no mejoramos el loss de validación, terminamos de entrenar.\n",
    "\n",
    "    print(f'Epoch: {epoch+1:02} | Epoch Time: {epoch_mins}m {epoch_secs}s')\n",
    "    print(\n",
    "        f'\\tTrain Loss: {train_loss:.3f} | Train f1: {train_f1:.2f} | Train precision: {train_precision:.2f} | Train recall: {train_recall:.2f}'\n",
    "    )\n",
    "    print(\n",
    "        f'\\t Val. Loss: {valid_loss:.3f} |  Val. f1: {valid_f1:.2f} |  Val. precision: {valid_precision:.2f} | Val. recall: {valid_recall:.2f}'\n",
    "    )"
   ]
  },
  {
   "cell_type": "code",
   "execution_count": null,
   "id": "7f6d6b92",
   "metadata": {
    "id": "s0gVbP8yiicj",
    "pycharm": {
     "name": "#%%\n"
    }
   },
   "outputs": [
    {
     "name": "stdout",
     "output_type": "stream",
     "text": [
      "Val. Loss: 0.481 |  Val. f1: 0.65 | Val. precision: 0.74 | Val. recall: 0.59\n"
     ]
    }
   ],
   "source": [
    "model.load_state_dict(torch.load('{}.pt'.format(model_name)))\n",
    "torch.cuda.empty_cache()\n",
    "\n",
    "valid_loss, valid_precision, valid_recall, valid_f1 = evaluate(\n",
    "    model, valid_iterator, criterion)\n",
    "\n",
    "print(\n",
    "    f'Val. Loss: {valid_loss:.3f} |  Val. f1: {valid_f1:.2f} | Val. precision: {valid_precision:.2f} | Val. recall: {valid_recall:.2f}'\n",
    ")"
   ]
  },
  {
   "cell_type": "markdown",
   "id": "805d01b2",
   "metadata": {
    "pycharm": {
     "name": "#%% md\n"
    }
   },
   "source": [
    "### Baseline mejorado"
   ]
  },
  {
   "cell_type": "code",
   "execution_count": null,
   "id": "0a22820f",
   "metadata": {
    "pycharm": {
     "name": "#%%\n"
    }
   },
   "outputs": [],
   "source": [
    "# Definir la red\n",
    "class NER_RNN(nn.Module):\n",
    "    def __init__(self, \n",
    "                 input_dim, \n",
    "                 embedding_dim, \n",
    "                 hidden_dim, \n",
    "                 output_dim,\n",
    "                 n_layers, \n",
    "                 bidirectional, \n",
    "                 dropout):\n",
    "\n",
    "        super().__init__()\n",
    "\n",
    "        # Capa de embedding\n",
    "        self.embedding = nn.Embedding(855380, embedding_dim)\n",
    "\n",
    "        # Capa LSTM\n",
    "        self.lstm = nn.LSTM(embedding_dim,\n",
    "                           hidden_dim,\n",
    "                           num_layers=n_layers,\n",
    "                           bidirectional=bidirectional, \n",
    "                           dropout = dropout if n_layers > 1 else 0)\n",
    "\n",
    "        # Capa de salida\n",
    "        self.fc = nn.Linear(hidden_dim * 2 if bidirectional else hidden_dim,\n",
    "                            output_dim)\n",
    "\n",
    "        # Dropout\n",
    "        self.dropout = nn.Dropout(dropout)\n",
    "\n",
    "    def forward(self, text):\n",
    "\n",
    "        #text = [sent len, batch size]\n",
    "\n",
    "        # Convertir lo enviado a embedding\n",
    "        embedded = self.dropout(self.embedding(text))\n",
    "        \n",
    "        outputs, (hidden, cell) = self.lstm(embedded)\n",
    "        #embedded = [sent len, batch size, emb dim]\n",
    "\n",
    "        # Pasar los embeddings por la rnn (LSTM)\n",
    "\n",
    "        #output = [sent len, batch size, hid dim * n directions]\n",
    "        #hidden/cell = [n layers * n directions, batch size, hid dim]\n",
    "\n",
    "        # Predecir usando la capa de salida.\n",
    "        predictions = self.fc(self.dropout(outputs))\n",
    "        #predictions = [sent len, batch size, output dim]\n",
    "\n",
    "        return predictions\n",
    "\n",
    "\n",
    "# Tamaño del vocabulario\n",
    "INPUT_DIM = len(TEXT.vocab)\n",
    "EMBEDDING_DIM = 300  # dimensión de los embeddings.\n",
    "HIDDEN_DIM = 256  # dimensión de la capas LSTM\n",
    "OUTPUT_DIM = len(NER_TAGS.vocab)  # número de clases\n",
    "\n",
    "N_LAYERS = 3  # número de capas.\n",
    "DROPOUT = 0.5\n",
    "BIDIRECTIONAL = True\n",
    "\n",
    "baseline_model = NER_RNN(INPUT_DIM, EMBEDDING_DIM, HIDDEN_DIM, OUTPUT_DIM,\n",
    "                         N_LAYERS, BIDIRECTIONAL, DROPOUT)\n",
    "\n",
    "baseline_model_name = 'baseline'  # nombre que tendrá el modelo guardado...\n",
    "baseline_n_epochs = 10\n",
    "\n",
    "\n",
    "# Loss: Cross Entropy\n",
    "TAG_PAD_IDX = NER_TAGS.vocab.stoi[NER_TAGS.pad_token]\n",
    "baseline_criterion = nn.CrossEntropyLoss(ignore_index = TAG_PAD_IDX)\n",
    "\n",
    "\n",
    "model = baseline_model\n",
    "model_name = baseline_model_name\n",
    "criterion = baseline_criterion\n",
    "n_epochs = baseline_n_epochs\n",
    "\n",
    "\n",
    "def init_weights(m):\n",
    "    # Inicializamos los pesos como aleatorios\n",
    "    for name, param in m.named_parameters():\n",
    "        nn.init.normal_(param.data, mean=0, std=0.1) \n",
    "        \n",
    "    # Seteamos como 0 los embeddings de UNK y PAD.\n",
    "    model.embedding.weight.data[UNK_IDX] = torch.zeros(EMBEDDING_DIM)\n",
    "    model.embedding.weight.data[PAD_IDX] = torch.zeros(EMBEDDING_DIM)\n",
    "\n",
    "\n",
    "model.apply(init_weights)\n",
    "\n",
    "\n",
    "def count_parameters(model):\n",
    "    return sum(p.numel() for p in model.parameters() if p.requires_grad)\n",
    "print(f'El modelo actual tiene {count_parameters(model):,} parámetros entrenables.')\n",
    "\n",
    "\n",
    "optimizer = optim.Adam(model.parameters())\n",
    "model = model.to(device)\n",
    "criterion = criterion.to(device)\n",
    "\n",
    "def train(model, iterator, optimizer, criterion):\n",
    "\n",
    "    epoch_loss = 0\n",
    "    epoch_precision = 0\n",
    "    epoch_recall = 0\n",
    "    epoch_f1 = 0\n",
    "\n",
    "    model.train()\n",
    "\n",
    "    # Por cada batch del iterador de la época:\n",
    "    for batch in iterator:\n",
    "\n",
    "        # Extraemos el texto y los tags del batch que estamos procesado\n",
    "        text = batch.text\n",
    "        tags = batch.nertags\n",
    "\n",
    "        # Reiniciamos los gradientes calculados en la iteración anterior\n",
    "        optimizer.zero_grad()\n",
    "\n",
    "        #text = [sent len, batch size]\n",
    "\n",
    "        # Predecimos los tags del texto del batch.\n",
    "        predictions = model(text)\n",
    "\n",
    "        #predictions = [sent len, batch size, output dim]\n",
    "        #tags = [sent len, batch size]\n",
    "\n",
    "        # Reordenamos los datos para calcular la loss\n",
    "        predictions = predictions.view(-1, predictions.shape[-1])\n",
    "        tags = tags.view(-1)\n",
    "\n",
    "        #predictions = [sent len * batch size, output dim]\n",
    "\n",
    "\n",
    "\n",
    "        # Calculamos el Cross Entropy de las predicciones con respecto a las etiquetas reales\n",
    "        loss = criterion(predictions, tags)\n",
    "        \n",
    "        # Calculamos el accuracy\n",
    "        precision, recall, f1 = calculate_metrics(predictions, tags)\n",
    "\n",
    "        # Calculamos los gradientes\n",
    "        loss.backward()\n",
    "\n",
    "        # Actualizamos los parámetros de la red\n",
    "        optimizer.step()\n",
    "\n",
    "        # Actualizamos el loss y las métricas\n",
    "        epoch_loss += loss.item()\n",
    "        epoch_precision += precision\n",
    "        epoch_recall += recall\n",
    "        epoch_f1 += f1\n",
    "\n",
    "    return epoch_loss / len(iterator), epoch_precision / len(iterator), epoch_recall / len(iterator), epoch_f1 / len(iterator)\n",
    "\n",
    "\n",
    "def epoch_time(start_time, end_time):\n",
    "    elapsed_time = end_time - start_time\n",
    "    elapsed_mins = int(elapsed_time / 60)\n",
    "    elapsed_secs = int(elapsed_time - (elapsed_mins * 60))\n",
    "    return elapsed_mins, elapsed_secs\n",
    "\n",
    "\n",
    "def evaluate(model, iterator, criterion):\n",
    "\n",
    "    epoch_loss = 0\n",
    "    epoch_precision = 0\n",
    "    epoch_recall = 0\n",
    "    epoch_f1 = 0\n",
    "\n",
    "    model.eval()\n",
    "\n",
    "    # Indicamos que ahora no guardaremos los gradientes\n",
    "    with torch.no_grad():\n",
    "        # Por cada batch\n",
    "        for batch in iterator:\n",
    "\n",
    "            text = batch.text\n",
    "            tags = batch.nertags\n",
    "\n",
    "            # Predecimos\n",
    "            predictions = model(text)\n",
    "\n",
    "            predictions = predictions.view(-1, predictions.shape[-1])\n",
    "            tags = tags.view(-1)\n",
    "\n",
    "            # Calculamos el Cross Entropy de las predicciones con respecto a las etiquetas reales\n",
    "            loss = criterion(predictions, tags)\n",
    "\n",
    "            # Calculamos las métricas\n",
    "            precision, recall, f1 = calculate_metrics(predictions, tags)\n",
    "\n",
    "            # Actualizamos el loss y las métricas\n",
    "            epoch_loss += loss.item()\n",
    "            epoch_precision += precision\n",
    "            epoch_recall += recall\n",
    "            epoch_f1 += f1\n",
    "\n",
    "    return epoch_loss / len(iterator), epoch_precision / len(\n",
    "        iterator), epoch_recall / len(iterator), epoch_f1 / len(iterator)"
   ]
  },
  {
   "cell_type": "code",
   "execution_count": null,
   "id": "932711a8",
   "metadata": {
    "colab": {
     "base_uri": "https://localhost:8080/"
    },
    "id": "iK5lQqpviicf",
    "outputId": "fab7900b-9cac-4f99-8c71-172a10d73d31",
    "pycharm": {
     "name": "#%%\n"
    }
   },
   "outputs": [
    {
     "name": "stderr",
     "output_type": "stream",
     "text": [
      "/usr/local/lib/python3.7/dist-packages/seqeval/metrics/sequence_labeling.py:171: UserWarning: <pad> seems not to be NE tag.\n",
      "  warnings.warn('{} seems not to be NE tag.'.format(chunk))\n",
      "/usr/local/lib/python3.7/dist-packages/seqeval/metrics/v1.py:57: UndefinedMetricWarning: Precision is ill-defined and being set to 0.0 due to no predicted samples. Use `zero_division` parameter to control this behavior.\n",
      "  _warn_prf(average, modifier, msg_start, len(result))\n"
     ]
    },
    {
     "name": "stdout",
     "output_type": "stream",
     "text": [
      "Epoch: 01 | Epoch Time: 1m 5s\n",
      "\tTrain Loss: 0.758 | Train f1: 0.45 | Train precision: 0.61 | Train recall: 0.38\n",
      "\t Val. Loss: 0.465 |  Val. f1: 0.65 |  Val. precision: 0.77 | Val. recall: 0.57\n",
      "Epoch: 02 | Epoch Time: 1m 6s\n",
      "\tTrain Loss: 0.393 | Train f1: 0.72 | Train precision: 0.77 | Train recall: 0.68\n",
      "\t Val. Loss: 0.397 |  Val. f1: 0.71 |  Val. precision: 0.80 | Val. recall: 0.65\n",
      "Epoch: 03 | Epoch Time: 1m 6s\n",
      "\tTrain Loss: 0.265 | Train f1: 0.81 | Train precision: 0.83 | Train recall: 0.79\n",
      "\t Val. Loss: 0.365 |  Val. f1: 0.76 |  Val. precision: 0.78 | Val. recall: 0.75\n",
      "Epoch: 04 | Epoch Time: 1m 7s\n",
      "\tTrain Loss: 0.192 | Train f1: 0.86 | Train precision: 0.87 | Train recall: 0.86\n",
      "\t Val. Loss: 0.343 |  Val. f1: 0.77 |  Val. precision: 0.79 | Val. recall: 0.75\n",
      "Epoch: 05 | Epoch Time: 1m 6s\n",
      "\tTrain Loss: 0.151 | Train f1: 0.89 | Train precision: 0.89 | Train recall: 0.89\n",
      "\t Val. Loss: 0.357 |  Val. f1: 0.77 |  Val. precision: 0.79 | Val. recall: 0.76\n",
      "Epoch: 06 | Epoch Time: 1m 6s\n",
      "\tTrain Loss: 0.120 | Train f1: 0.91 | Train precision: 0.91 | Train recall: 0.91\n",
      "\t Val. Loss: 0.393 |  Val. f1: 0.78 |  Val. precision: 0.79 | Val. recall: 0.76\n",
      "Epoch: 07 | Epoch Time: 1m 6s\n",
      "\tTrain Loss: 0.099 | Train f1: 0.93 | Train precision: 0.93 | Train recall: 0.93\n",
      "\t Val. Loss: 0.434 |  Val. f1: 0.78 |  Val. precision: 0.79 | Val. recall: 0.78\n",
      "Epoch: 08 | Epoch Time: 1m 6s\n",
      "\tTrain Loss: 0.088 | Train f1: 0.93 | Train precision: 0.93 | Train recall: 0.93\n",
      "\t Val. Loss: 0.432 |  Val. f1: 0.77 |  Val. precision: 0.79 | Val. recall: 0.76\n",
      "Epoch: 09 | Epoch Time: 1m 6s\n",
      "\tTrain Loss: 0.073 | Train f1: 0.94 | Train precision: 0.94 | Train recall: 0.94\n",
      "\t Val. Loss: 0.472 |  Val. f1: 0.77 |  Val. precision: 0.79 | Val. recall: 0.75\n",
      "Epoch: 10 | Epoch Time: 1m 6s\n",
      "\tTrain Loss: 0.063 | Train f1: 0.95 | Train precision: 0.95 | Train recall: 0.95\n",
      "\t Val. Loss: 0.468 |  Val. f1: 0.77 |  Val. precision: 0.78 | Val. recall: 0.77\n"
     ]
    }
   ],
   "source": [
    "best_valid_loss = float('inf')\n",
    "\n",
    "for epoch in range(n_epochs):\n",
    "\n",
    "    start_time = time.time()\n",
    "\n",
    "    # Recuerdo: train_iterator y valid_iterator contienen el dataset dividido en batches.\n",
    "\n",
    "    # Entrenar\n",
    "    train_loss, train_precision, train_recall, train_f1 = train(\n",
    "        model, train_iterator, optimizer, criterion)\n",
    "\n",
    "    # Evaluar (valid = validación)\n",
    "    valid_loss, valid_precision, valid_recall, valid_f1 = evaluate(\n",
    "        model, valid_iterator, criterion)\n",
    "\n",
    "    end_time = time.time()\n",
    "\n",
    "    epoch_mins, epoch_secs = epoch_time(start_time, end_time)\n",
    "\n",
    "    # Si obtuvimos mejores resultados, guardamos este modelo en el almacenamiento (para poder cargarlo luego)\n",
    "    # Si detienen el entrenamiento prematuramente, pueden cargar el modelo en el siguiente recuadro de código.\n",
    "    if valid_loss < best_valid_loss:\n",
    "        best_valid_loss = valid_loss\n",
    "        torch.save(model.state_dict(), '{}.pt'.format(model_name))\n",
    "    # Si ya no mejoramos el loss de validación, terminamos de entrenar.\n",
    "\n",
    "    print(f'Epoch: {epoch+1:02} | Epoch Time: {epoch_mins}m {epoch_secs}s')\n",
    "    print(\n",
    "        f'\\tTrain Loss: {train_loss:.3f} | Train f1: {train_f1:.2f} | Train precision: {train_precision:.2f} | Train recall: {train_recall:.2f}'\n",
    "    )\n",
    "    print(\n",
    "        f'\\t Val. Loss: {valid_loss:.3f} |  Val. f1: {valid_f1:.2f} |  Val. precision: {valid_precision:.2f} | Val. recall: {valid_recall:.2f}'\n",
    "    )"
   ]
  },
  {
   "cell_type": "code",
   "execution_count": null,
   "id": "94e86b0b",
   "metadata": {
    "colab": {
     "base_uri": "https://localhost:8080/"
    },
    "id": "s0gVbP8yiicj",
    "outputId": "2c9cad02-679b-4b4b-c33e-07145690b90b",
    "pycharm": {
     "name": "#%%\n"
    }
   },
   "outputs": [
    {
     "name": "stdout",
     "output_type": "stream",
     "text": [
      "Val. Loss: 0.331 |  Val. f1: 0.77 | Val. precision: 0.80 | Val. recall: 0.75\n"
     ]
    }
   ],
   "source": [
    "model.load_state_dict(torch.load('{}.pt'.format(model_name)))\n",
    "torch.cuda.empty_cache()\n",
    "\n",
    "valid_loss, valid_precision, valid_recall, valid_f1 = evaluate(model, valid_iterator, criterion)\n",
    "\n",
    "print(\n",
    "    f'Val. Loss: {valid_loss:.3f} |  Val. f1: {valid_f1:.2f} | Val. precision: {valid_precision:.2f} | Val. recall: {valid_recall:.2f}'\n",
    ")"
   ]
  },
  {
   "cell_type": "markdown",
   "id": "d1867bf5",
   "metadata": {
    "pycharm": {
     "name": "#%% md\n"
    }
   },
   "source": [
    "## Conclusiones 💡\n",
    "\n",
    "**REQUIREMENTS: Discutir resultados, proponer trabajo futuro. (1 punto)**"
   ]
  }
 ],
 "metadata": {
  "kernelspec": {
   "display_name": "Python 3 (ipykernel)",
   "language": "python",
   "name": "python3"
  },
  "language_info": {
   "codemirror_mode": {
    "name": "ipython",
    "version": 3
   },
   "file_extension": ".py",
   "mimetype": "text/x-python",
   "name": "python",
   "nbconvert_exporter": "python",
   "pygments_lexer": "ipython3",
   "version": "3.8.5"
  }
 },
 "nbformat": 4,
 "nbformat_minor": 5
}
